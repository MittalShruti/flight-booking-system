{
 "cells": [
  {
   "cell_type": "markdown",
   "metadata": {},
   "source": [
    "## Flight Booking Data Exploration\n"
   ]
  },
  {
   "cell_type": "code",
   "execution_count": 49,
   "metadata": {},
   "outputs": [],
   "source": [
    "import numpy as np\n",
    "import pandas as pd\n",
    "import nltk\n",
    "import matplotlib.pyplot as plt\n",
    "import random\n",
    "import IPython"
   ]
  },
  {
   "cell_type": "code",
   "execution_count": 93,
   "metadata": {
    "scrolled": false
   },
   "outputs": [
    {
     "name": "stderr",
     "output_type": "stream",
     "text": [
      "c:\\users\\kshitij jain\\appdata\\local\\programs\\python\\python36-32\\lib\\site-packages\\ipykernel_launcher.py:2: ParserWarning: Falling back to the 'python' engine because the 'c' engine does not support regex separators (separators > 1 char and different from '\\s+' are interpreted as regex); you can avoid this warning by specifying engine='python'.\n",
      "  \n"
     ]
    },
    {
     "data": {
      "text/html": [
       "<div>\n",
       "<style scoped>\n",
       "    .dataframe tbody tr th:only-of-type {\n",
       "        vertical-align: middle;\n",
       "    }\n",
       "\n",
       "    .dataframe tbody tr th {\n",
       "        vertical-align: top;\n",
       "    }\n",
       "\n",
       "    .dataframe thead th {\n",
       "        text-align: right;\n",
       "    }\n",
       "</style>\n",
       "<table border=\"1\" class=\"dataframe\">\n",
       "  <thead>\n",
       "    <tr style=\"text-align: right;\">\n",
       "      <th></th>\n",
       "      <th>sentence</th>\n",
       "    </tr>\n",
       "  </thead>\n",
       "  <tbody>\n",
       "    <tr>\n",
       "      <th>0</th>\n",
       "      <td>I want to book flight between Visakhapatnam an...</td>\n",
       "    </tr>\n",
       "    <tr>\n",
       "      <th>1</th>\n",
       "      <td>Any flights between Visakhapatnam and Mumbai o...</td>\n",
       "    </tr>\n",
       "    <tr>\n",
       "      <th>2</th>\n",
       "      <td>Book a flight to Visakhapatnam on May 31, 2018...</td>\n",
       "    </tr>\n",
       "    <tr>\n",
       "      <th>3</th>\n",
       "      <td>Show me the cheapest flights from Raipur to Co...</td>\n",
       "    </tr>\n",
       "    <tr>\n",
       "      <th>4</th>\n",
       "      <td>Show me the cheapest flights from Aizawl to Bh...</td>\n",
       "    </tr>\n",
       "  </tbody>\n",
       "</table>\n",
       "</div>"
      ],
      "text/plain": [
       "                                            sentence\n",
       "0  I want to book flight between Visakhapatnam an...\n",
       "1  Any flights between Visakhapatnam and Mumbai o...\n",
       "2  Book a flight to Visakhapatnam on May 31, 2018...\n",
       "3  Show me the cheapest flights from Raipur to Co...\n",
       "4  Show me the cheapest flights from Aizawl to Bh..."
      ]
     },
     "execution_count": 93,
     "metadata": {},
     "output_type": "execute_result"
    }
   ],
   "source": [
    "# flights dataset\n",
    "df = pd.read_csv('flightdata.txt', sep='/n', header=None)\n",
    "df.columns = ['sentence']\n",
    "df.head()"
   ]
  },
  {
   "cell_type": "code",
   "execution_count": 94,
   "metadata": {},
   "outputs": [
    {
     "data": {
      "text/plain": [
       "1915    I want to check availability on Jet Airways on...\n",
       "3119    Show me the cheapest flights from Indore to Na...\n",
       "3450    Please help me in booking flight from Guwahati...\n",
       "1670    Can you please show me flights from Ahmedabad ...\n",
       "2614    Show me the cheapest flights from Bhubaneswar ...\n",
       "4748    Show me the cheapest flights from Nagpur to Mu...\n",
       "752     Please show me the cheapest flight from Pune t...\n",
       "2457    Please show me the cheapest flight from Trivan...\n",
       "2796    I want to book flight between Ranchi and Cochi...\n",
       "2518    Please show me the cheapest flight from Cochin...\n",
       "3097    Show me the cheapest flights from Bhubaneswar ...\n",
       "4599    I want to check availability on Vistara on 28 ...\n",
       "3038    Book a flight from Diu on April 28, 2018 after...\n",
       "1303    Show me the cheapest flights from Bhubaneswar ...\n",
       "2296    Show me the cheapest flights from Patna to Imp...\n",
       "4118    Show me the cheapest flights from Cochin to Bh...\n",
       "1164    Book a flight to Pune on 18 May 2018 or 2018-0...\n",
       "111     I want to check availability on Air India on M...\n",
       "1242    I want to check availability on Air India on M...\n",
       "737     Book a flight from Jammu on 22 May after 15 ho...\n",
       "367     Book a flight to Guwahati on 15 May 2018 or 20...\n",
       "2894    Book a flight to Ranchi on 05 May 2018 or 2018...\n",
       "4402    Any flights between Mumbai and Diu on 06 May u...\n",
       "4553    I want to check availability on Jet Airways on...\n",
       "3145    I want to book flight between Shirdi and Calic...\n",
       "2379    I want to check availability on AirAsia India ...\n",
       "4420    I want to book flight between Gaya and New Del...\n",
       "3196    Book a flight from Ranchi on May 12, 2018 afte...\n",
       "1045    I want to book flight between Mangalore and Bh...\n",
       "4021    I want to book flight between Bhopal and Impha...\n",
       "                              ...                        \n",
       "4550    Please help me in booking flight from Imphal t...\n",
       "3454    Any flights between Shillong and Ahmedabad on ...\n",
       "2108    Any flights between Bhubaneswar and Bengaluru ...\n",
       "1342    Show me the cheapest flights from Visakhapatna...\n",
       "2424    I want to book flight between Dimapur and Indo...\n",
       "4426    Show me the cheapest flights from Aizawl to Sr...\n",
       "160     Book a flight to Shirdi on 26 April or 2018-04...\n",
       "330     Please help me in booking flight from Diu to G...\n",
       "3241    I want to check availability on Vistara on 19 ...\n",
       "3132    I want to check availability on GoAir on 09 Ma...\n",
       "2174    I want to check availability on IndiGo  on 22 ...\n",
       "1483    Show me the cheapest flights from Diu to Aizaw...\n",
       "2215    Book a flight from Bhubaneswar on 30 April 201...\n",
       "2059    Book a flight to Visakhapatnam on 15 May or 20...\n",
       "4548    I want to check availability on AirAsia India ...\n",
       "3012    Book a flight from Ranchi on 20 May 2018 after...\n",
       "1003    Book a flight from Shillong on 03 May after 15...\n",
       "3401    Book a flight to Nagpur on 08 May or 2018-05-0...\n",
       "3924    Show me the cheapest flights from Pondicherry ...\n",
       "952     Book a flight to Guwahati on 13 May or 2018-05...\n",
       "2285    I want to check availability on IndiGo  on May...\n",
       "3660    I want to book flight between Raipur and Pune ...\n",
       "1945    Please show me the cheapest flight from Mumbai...\n",
       "277     Show me the cheapest flights from Patna to Bhu...\n",
       "1321    Book a flight to Pondicherry on 01 May or 2018...\n",
       "1437    Any flights between Shillong and Mangalore on ...\n",
       "3936    Show me the cheapest flights from Dimapur to I...\n",
       "1568    Book a flight from Trivandrum on 19 May 2018 a...\n",
       "3408    Can you please show me flights from Mumbai to ...\n",
       "3286    Book a flight from Bengaluru on 04 June after ...\n",
       "Name: sentence, Length: 238, dtype: object"
      ]
     },
     "execution_count": 94,
     "metadata": {},
     "output_type": "execute_result"
    }
   ],
   "source": [
    "# sample sentences\n",
    "df.sample(frac=0.05)['sentence']"
   ]
  },
  {
   "cell_type": "markdown",
   "metadata": {},
   "source": [
    "## Broad Approach\n",
    "\n",
    "The objective is to write a program which takes in a sentence as input and converts it into a semi-stuctured/structured format (such as a dict) containing fields such as from_detination, to_destination, date_of_travel, airline_type etc.\n",
    "\n",
    "We'll first do two basic preprocessing tasks for each input sentence - tokenization and POS tagging. After preprocessing, we'll identify named entities such as locations (cities), dates, amount/momney, flight companies etc. Once we identify named entities, we can parse the sentence and try extracting relations between entities (from X to Y on date Z etc.)."
   ]
  },
  {
   "cell_type": "code",
   "execution_count": 52,
   "metadata": {},
   "outputs": [],
   "source": [
    "# preprocessing function\n",
    "def preprocess(sentence):\n",
    "    words = nltk.word_tokenize(sentence)\n",
    "    tagged_words = nltk.pos_tag(words)\n",
    "    return tagged_words"
   ]
  },
  {
   "cell_type": "code",
   "execution_count": 101,
   "metadata": {
    "scrolled": true
   },
   "outputs": [
    {
     "data": {
      "text/plain": [
       "[('Show', 'VB'),\n",
       " ('me', 'PRP'),\n",
       " ('the', 'DT'),\n",
       " ('cheapest', 'JJS'),\n",
       " ('flights', 'NNS'),\n",
       " ('from', 'IN'),\n",
       " ('Jammu', 'NNP'),\n",
       " ('to', 'TO'),\n",
       " ('Bengaluru', 'NNP'),\n",
       " ('on', 'IN'),\n",
       " ('27', 'CD'),\n",
       " ('May', 'NNP'),\n",
       " ('or', 'CC'),\n",
       " ('2018-05-28', 'CD'),\n",
       " ('or', 'CC'),\n",
       " ('2018-05-29', 'CD'),\n",
       " ('.', '.')]"
      ]
     },
     "execution_count": 101,
     "metadata": {},
     "output_type": "execute_result"
    }
   ],
   "source": [
    "# preprocessing some sample sentences\n",
    "tagged_sent = preprocess(df.loc[random.randrange(len(df.index)), 'sentence'])\n",
    "tagged_sent"
   ]
  },
  {
   "cell_type": "code",
   "execution_count": 102,
   "metadata": {},
   "outputs": [
    {
     "data": {
      "text/plain": [
       "'Show/VB me/PRP the/DT cheapest/JJS flights/NNS from/IN Jammu/NNP to/TO Bengaluru/NNP on/IN 27/CD May/NNP or/CC 2018-05-28/CD or/CC 2018-05-29/CD ./.'"
      ]
     },
     "execution_count": 102,
     "metadata": {},
     "output_type": "execute_result"
    }
   ],
   "source": [
    "' '.join(['{0}/{1}'.format(s[0], s[1]) for s in tagged_sent])"
   ]
  },
  {
   "cell_type": "markdown",
   "metadata": {},
   "source": [
    "## Chunking"
   ]
  },
  {
   "cell_type": "code",
   "execution_count": 90,
   "metadata": {},
   "outputs": [],
   "source": [
    "# try extracting the dates using a chunk grammar\n",
    "grammar = 'Date Chunk: {<IN><CD>+<NNP>?<CD>?<,>?<CD>?}'\n",
    "cp = nltk.RegexpParser(grammar)\n",
    "\n",
    "# choose a random sentence s\n",
    "s = df.loc[random.randrange(len(df.index)), 'sentence']\n",
    "chunks = cp.parse(preprocess(s))"
   ]
  },
  {
   "cell_type": "code",
   "execution_count": 91,
   "metadata": {},
   "outputs": [
    {
     "name": "stdout",
     "output_type": "stream",
     "text": [
      "(S\n",
      "  Book/VB\n",
      "  a/DT\n",
      "  flight/NN\n",
      "  to/TO\n",
      "  Guwahati/VB\n",
      "  (Date Chunk on/IN 28/CD May/NNP)\n",
      "  or/CC\n",
      "  2018-05-29/JJ\n",
      "  (Date Chunk between/IN 15/CD)\n",
      "  hours/NNS\n",
      "  and/CC\n",
      "  23/CD\n",
      "  hours/NNS\n",
      "  ./.)\n"
     ]
    }
   ],
   "source": [
    "print(chunks)"
   ]
  },
  {
   "cell_type": "code",
   "execution_count": 92,
   "metadata": {},
   "outputs": [],
   "source": [
    "chunks.draw()"
   ]
  },
  {
   "cell_type": "code",
   "execution_count": 58,
   "metadata": {},
   "outputs": [],
   "source": [
    "# from nltk.tag import StanfordPOSTagger\n",
    "# from nltk.tag.stanford import CoreNLPPOSTagger, CoreNLPNERTagger"
   ]
  },
  {
   "cell_type": "code",
   "execution_count": 59,
   "metadata": {},
   "outputs": [],
   "source": [
    "# c = CoreNLPPOSTagger()"
   ]
  }
 ],
 "metadata": {
  "kernelspec": {
   "display_name": "Python 3",
   "language": "python",
   "name": "python3"
  },
  "language_info": {
   "codemirror_mode": {
    "name": "ipython",
    "version": 3
   },
   "file_extension": ".py",
   "mimetype": "text/x-python",
   "name": "python",
   "nbconvert_exporter": "python",
   "pygments_lexer": "ipython3",
   "version": "3.6.4"
  }
 },
 "nbformat": 4,
 "nbformat_minor": 2
}
