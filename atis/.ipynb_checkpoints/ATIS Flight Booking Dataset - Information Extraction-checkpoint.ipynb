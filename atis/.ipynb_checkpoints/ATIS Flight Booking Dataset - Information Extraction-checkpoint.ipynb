{
 "cells": [
  {
   "cell_type": "markdown",
   "metadata": {},
   "source": [
    "# ATIS Flight Reservations - Information Extraction\n",
    "\n",
    "\n",
    "<hr>\n",
    "\n",
    "Table of Contents:\n",
    "\n",
    "1. Understanding the Data\n",
    "2. Information Extraction \n",
    "    - Pipeline for Information Extraction Systems\n",
    "    - Named Entity Recognition (NER)\n",
    "3. Models for Entity Recognition\n",
    "    - Rule-based models\n",
    "        - Regular Expression Based Rules\n",
    "        - Chunking \n",
    "    - Probabilistic models\n",
    "        - Unigram and Bigram models\n",
    "        - Naive Bayes Classifier \n",
    "        - Conditional Random Fields (CRFs)\n",
    "\n",
    "<hr>\n",
    "\n",
    "The ATIS (Airline Travel Information Systems) dataset consists of English language queries for booking (or requesting information about) flights in the US. \n",
    "\n",
    "Each word in a query (i.e. a request by a user) is labelled according to its **entity-type**, for e.g. in the query 'please show morning flights from chicago to new york', 'chicago' and 'new york are labelled as 'source' and 'destination' locations respectively while 'morning' is labelled as 'time-of-day' (the exact labelling scheme is a bit different, more on that later).\n",
    "\n",
    "Some example queries taken from the dataset are shown below:\n",
    "\n",
    "```\n",
    "{\n",
    "'what flights leave atlanta at about DIGIT in the afternoon and arrive in san francisco',\n",
    " 'what is the abbreviation for canadian airlines international',\n",
    " \"i 'd like to know the earliest flight from boston to atlanta\",\n",
    " 'show me the us air flights from atlanta to boston',\n",
    " 'show me the cheapest round trips from dallas to baltimore',\n",
    " \"i 'd like to see all flights from denver to philadelphia\"\n",
    " }\n",
    " ```\n",
    "\n",
    "### Objective\n",
    "Our objective is to **build an information extraction system** which can extract entities relevant for booking flights (such as source and destination cities, time, date, budget constraints etc.) in a **structured format** from a given user-generated query.\n",
    "\n",
    "A structured format could be a dictionary, a JSON, etc. - basically anything that can be parsed and used for looking up relevant flights from a database.\n",
    "\n",
    "\n",
    "### Downloads\n",
    "The dataset is divided into five folds, each fold having a training, validation and test set.\n",
    "You can download the dataset here: http://lisaweb.iro.umontreal.ca/transfert/lisa/users/mesnilgr/atis/\n",
    "\n",
    "\n"
   ]
  },
  {
   "cell_type": "code",
   "execution_count": 5,
   "metadata": {},
   "outputs": [],
   "source": [
    "## TODO\n",
    "# - Hyperlink TOC with text blocks\n",
    "# - Save dataset to drive/NAS in case the link expires\n"
   ]
  },
  {
   "cell_type": "markdown",
   "metadata": {},
   "source": [
    "# Understanding the Data \n",
    "\n",
    "Let's understand the structure of the training data. The dataset is provided in five folds, each fold having a training, validation, test set and a dict (explained later). All folds are structurally identical, so understanding one fold is enough to understand the entire set.\n"
   ]
  },
  {
   "cell_type": "code",
   "execution_count": 6,
   "metadata": {},
   "outputs": [],
   "source": [
    "# import libaries\n",
    "import numpy as np\n",
    "import pandas as pd\n",
    "import nltk, pprint\n",
    "import matplotlib.pyplot as plt\n",
    "import random\n",
    "\n",
    "import gzip, os, pickle # gzip for reading the gz files, pickle to save/dump trained model \n",
    "import _pickle as cPickle\n",
    "\n",
    "import sklearn\n",
    "from sklearn.model_selection import GridSearchCV\n",
    "from sklearn.grid_search import RandomizedSearchCV\n",
    "\n",
    "# supress warnings\n",
    "import warnings\n",
    "warnings.filterwarnings('ignore')\n"
   ]
  },
  {
   "cell_type": "markdown",
   "metadata": {},
   "source": [
    "Let's now read the first fold of the dataset. The data is in .gz files, so we'll need the gzip library as well. "
   ]
  },
  {
   "cell_type": "code",
   "execution_count": 7,
   "metadata": {
    "scrolled": true
   },
   "outputs": [],
   "source": [
    "# read the first part of the dataset\n",
    "# each part (.gz file) contains train, validation and test sets, plus a dict\n",
    "\n",
    "filename = 'atis.fold0.pkl.gz'\n",
    "f = gzip.open(filename, 'rb')\n",
    "try:\n",
    "    train_set, valid_set, test_set, dicts = pickle.load(f, encoding='latin1')\n",
    "except:\n",
    "    train_set, valid_set, test_set, dicts = pickle.load(f)\n",
    "finally:\n",
    "    f.close()\n"
   ]
  },
  {
   "cell_type": "code",
   "execution_count": 8,
   "metadata": {},
   "outputs": [
    {
     "name": "stdout",
     "output_type": "stream",
     "text": [
      "<class 'tuple'>\n",
      "\n",
      "<class 'list'> <class 'list'> <class 'list'>\n",
      "3983 3983 3983\n"
     ]
    }
   ],
   "source": [
    "# type and size of the train set\n",
    "print(type(train_set))\n",
    "print()\n",
    "\n",
    "# types of the three elements in the tuple\n",
    "print(type(train_set[0]), type(train_set[1]), type(train_set[2]))\n",
    "print(len(train_set[0]), len(train_set[1]), len(train_set[2]))"
   ]
  },
  {
   "cell_type": "markdown",
   "metadata": {},
   "source": [
    "The training set is a tuple containing three lists of same lengths as shown above. Similarly, the validation and test sets contain three lists as well (shown below)."
   ]
  },
  {
   "cell_type": "code",
   "execution_count": 9,
   "metadata": {},
   "outputs": [
    {
     "name": "stdout",
     "output_type": "stream",
     "text": [
      "<class 'list'> <class 'list'> <class 'list'>\n",
      "995 995 995\n",
      "\n",
      "<class 'list'> <class 'list'> <class 'list'>\n",
      "893 893 893\n"
     ]
    }
   ],
   "source": [
    "# validation set\n",
    "print(type(valid_set[0]), type(valid_set[1]), type(valid_set[2]))\n",
    "print(len(valid_set[0]), len(valid_set[1]), len(valid_set[2]))\n",
    "print()\n",
    "\n",
    "# test set\n",
    "print(type(test_set[0]), type(test_set[1]), type(test_set[2]))\n",
    "print(len(test_set[0]), len(test_set[1]), len(test_set[2]))"
   ]
  },
  {
   "cell_type": "markdown",
   "metadata": {},
   "source": [
    "Thus, we have the train, validation and test sets each containing three lists of different lengths. Now, let's understand the data stored in the three lists."
   ]
  },
  {
   "cell_type": "code",
   "execution_count": 10,
   "metadata": {},
   "outputs": [
    {
     "name": "stdout",
     "output_type": "stream",
     "text": [
      "[array([554, 194, 268,  64,  62,  16,   8, 234, 481,  20,  40,  58, 234,\n",
      "       415, 205], dtype=int32),\n",
      " array([554, 241, 481,  14, 200,  91,  26, 239], dtype=int32),\n",
      " array([232,   0, 273, 502, 254, 481, 165, 193, 208,  77, 502,  64],\n",
      "      dtype=int32)]\n",
      "##################################################\n",
      "[array([  0,   0,   0,  18,   0,   1,  52,   0,   0,  76,   0,   0,   0,\n",
      "        18, 109], dtype=int32),\n",
      " array([  0,   0,   0,   0,   0,   6, 107, 107], dtype=int32),\n",
      " array([ 0,  0,  0,  0,  0,  0, 44,  0,  0, 18,  0, 18], dtype=int32)]\n",
      "##################################################\n",
      "[array([126, 126, 126,  48, 126,  36,  35, 126, 126,  33, 126, 126, 126,\n",
      "        78, 123], dtype=int32),\n",
      " array([126, 126, 126, 126, 126,   2,  83,  83], dtype=int32),\n",
      " array([126, 126, 126, 126, 126, 126,  42, 126, 126,  48, 126,  78],\n",
      "      dtype=int32)]\n"
     ]
    }
   ],
   "source": [
    "# first few elements in each list of the training set \n",
    "pprint.pprint(train_set[0][:3])\n",
    "print('#'*50)\n",
    "pprint.pprint(train_set[1][:3])\n",
    "print('#'*50)\n",
    "pprint.pprint(train_set[2][:3])"
   ]
  },
  {
   "cell_type": "markdown",
   "metadata": {},
   "source": [
    "The first list contains the actual queries encoded by integers such as 554, 194, 268 ... and so on. For e.g. the first three integers 554, 194, 268 are encoded values of the words 'what', 'flights', 'leave' etc. \n",
    "\n",
    "\n",
    "The second list is to be ignored.\n",
    "\n",
    "The third list contains the (encoded) label of each word (how to do these mappings is explained in detail below). Since the actual words are encoded by numbers, we have to decode them using the dicts provided. Let's first store the three lists into separate objects so we don't have to worry about indexing the lists.\n"
   ]
  },
  {
   "cell_type": "code",
   "execution_count": 11,
   "metadata": {},
   "outputs": [],
   "source": [
    "# storing the three elements of the tuple in three objects \n",
    "# The '_' is a conventional variable in python used to store non-useful/dummy objects\n",
    "train_x, _, train_label = train_set\n",
    "val_x, _, val_label = valid_set\n",
    "test_x, _, test_label = test_set"
   ]
  },
  {
   "cell_type": "markdown",
   "metadata": {},
   "source": [
    "So now, for training, validation and test sets, we have the **encoded words and labels** stored in the lists (train_x, train_label), (val_x, val_label) and (test_x, test_label). The first list represents the actual words (encoded), and the other list contains their labels (again, encoded).\n",
    "\n",
    "Let's now understand the structure of the lists."
   ]
  },
  {
   "cell_type": "code",
   "execution_count": 12,
   "metadata": {
    "scrolled": true
   },
   "outputs": [
    {
     "data": {
      "text/plain": [
       "array([554, 194, 268,  64,  62,  16,   8, 234, 481,  20,  40,  58, 234,\n",
       "       415, 205], dtype=int32)"
      ]
     },
     "execution_count": 12,
     "metadata": {},
     "output_type": "execute_result"
    }
   ],
   "source": [
    "# each list in the tuple is a numpy array (which us a complete sentence/query)\n",
    "# printing first list in the tuple's first element\n",
    "# each element represents a word of the query\n",
    "# this translates to 'what flights leave atlanta ....'\n",
    "train_x[0]"
   ]
  },
  {
   "cell_type": "code",
   "execution_count": 13,
   "metadata": {
    "scrolled": true
   },
   "outputs": [
    {
     "data": {
      "text/plain": [
       "array([126, 126, 126,  48, 126,  36,  35, 126, 126,  33, 126, 126, 126,\n",
       "        78, 123], dtype=int32)"
      ]
     },
     "execution_count": 13,
     "metadata": {},
     "output_type": "execute_result"
    }
   ],
   "source": [
    "# labels are stored in the third list train_label\n",
    "train_label[0]"
   ]
  },
  {
   "cell_type": "markdown",
   "metadata": {},
   "source": [
    "To map the integers to words, we need to use the dictionaries provided. The dicts ```words2idx``` and ```labels2idx``` map the numeric ids to the actual words and labels respectively."
   ]
  },
  {
   "cell_type": "code",
   "execution_count": 14,
   "metadata": {},
   "outputs": [
    {
     "name": "stdout",
     "output_type": "stream",
     "text": [
      "<class 'dict'>\n",
      "dict_keys(['labels2idx', 'tables2idx', 'words2idx'])\n"
     ]
    }
   ],
   "source": [
    "# dicts to map numbers to words/labels\n",
    "print(type(dicts))\n",
    "print(dicts.keys())"
   ]
  },
  {
   "cell_type": "code",
   "execution_count": 15,
   "metadata": {
    "scrolled": true
   },
   "outputs": [
    {
     "name": "stdout",
     "output_type": "stream",
     "text": [
      "<class 'dict'>\n",
      "<class 'dict'>\n",
      "<class 'dict'>\n"
     ]
    }
   ],
   "source": [
    "# each key:value pair is itself a dict\n",
    "print(type(dicts['labels2idx']))\n",
    "print(type(dicts['tables2idx']))\n",
    "print(type(dicts['words2idx']))\n"
   ]
  },
  {
   "cell_type": "code",
   "execution_count": 16,
   "metadata": {},
   "outputs": [],
   "source": [
    "# storing labels and words in separate variables\n",
    "# we'll need only two of these dicts - words and labels\n",
    "words = dicts['words2idx']\n",
    "labels = dicts['labels2idx']\n",
    "tables = dicts['tables2idx']"
   ]
  },
  {
   "cell_type": "code",
   "execution_count": 17,
   "metadata": {
    "scrolled": false
   },
   "outputs": [
    {
     "data": {
      "text/plain": [
       "[('before', 72),\n",
       " ('county', 124),\n",
       " ('fifteenth', 187),\n",
       " ('dinner', 150),\n",
       " ('with', 561),\n",
       " ('database', 129),\n",
       " ('wednesday', 546),\n",
       " ('two', 525),\n",
       " ('one', 359),\n",
       " ('lowest', 288)]"
      ]
     },
     "execution_count": 17,
     "metadata": {},
     "output_type": "execute_result"
    }
   ],
   "source": [
    "# each key of 'words' is a word, each value its index\n",
    "# printing some random key:value pairs of 'words'\n",
    "random.sample(words.items(), 10)"
   ]
  },
  {
   "cell_type": "code",
   "execution_count": 18,
   "metadata": {},
   "outputs": [
    {
     "data": {
      "text/plain": [
       "['what',\n",
       " 'flights',\n",
       " 'leave',\n",
       " 'atlanta',\n",
       " 'at',\n",
       " 'about',\n",
       " 'DIGIT',\n",
       " 'in',\n",
       " 'the',\n",
       " 'afternoon',\n",
       " 'and',\n",
       " 'arrive',\n",
       " 'in',\n",
       " 'san',\n",
       " 'francisco']"
      ]
     },
     "execution_count": 18,
     "metadata": {},
     "output_type": "execute_result"
    }
   ],
   "source": [
    "# now, we can map the numeric values v in a sentence with the k,v in the dict\n",
    "# train_x contains the list of training queries; train_x[0] is the first query\n",
    "# this is the first query\n",
    "[k for val in train_x[0] for k,v in words.items() if v==val]"
   ]
  },
  {
   "cell_type": "code",
   "execution_count": 19,
   "metadata": {
    "scrolled": true
   },
   "outputs": [
    {
     "data": {
      "text/plain": [
       "['what flights leave atlanta at about DIGIT in the afternoon and arrive in san francisco',\n",
       " 'what is the abbreviation for canadian airlines international',\n",
       " \"i 'd like to know the earliest flight from boston to atlanta\",\n",
       " 'show me the us air flights from atlanta to boston',\n",
       " 'show me the cheapest round trips from dallas to baltimore',\n",
       " \"i 'd like to see all flights from denver to philadelphia\",\n",
       " 'explain fare code qx',\n",
       " \"i 'd like a united airlines flight on wednesday from san francisco to boston\",\n",
       " 'what is the price of american airlines flight DIGITDIGIT from new york to los angeles',\n",
       " 'what does the meal code s stand for',\n",
       " 'what are all flights to denver from philadelphia on sunday',\n",
       " 'what times does the late afternoon flight leave from washington for denver',\n",
       " 'what flights are available monday from san francisco to pittsburgh',\n",
       " 'what airlines have business class',\n",
       " 'flights from atlanta to washington dc',\n",
       " 'from new york to toronto on thursday morning',\n",
       " 'show me all the direct flights from atlanta to baltimore',\n",
       " 'list the flights from new york to miami on a tuesday which are nonstop and cost less than DIGITDIGITDIGIT dollars',\n",
       " 'show me the first flight that arrives in toronto from cincinnati',\n",
       " 'what planes are used by twa',\n",
       " 'please give me the prices for all flights from philadelphia to denver airport next sunday',\n",
       " 'show me all flights from pittsburgh to oakland that arrive after DIGITDIGIT am',\n",
       " 'what is the least expensive flight today from atlanta to san francisco',\n",
       " 'i want a flight from philadelphia to dallas with a stop in atlanta',\n",
       " 'show me the flights from baltimore to philadelphia',\n",
       " 'what airlines fly from st. petersburg to milwaukee and from milwaukee to tacoma',\n",
       " 'please give me the flights from san francisco to washington dc',\n",
       " 'i need a flight delta airlines kansas city to salt lake',\n",
       " 'show me flights going from boston to denver arriving on wednesday morning',\n",
       " 'show me flights leaving from denver colorado to pittsburgh pennsylvania on wednesdays after DIGIT pm']"
      ]
     },
     "execution_count": 19,
     "metadata": {},
     "output_type": "execute_result"
    }
   ],
   "source": [
    "# let's look at the first few queries\n",
    "sents = []\n",
    "for i in range(30):\n",
    "    sents.append(' '.join([k for val in train_x[i] for k,v in words.items() if v==val]))\n",
    "\n",
    "sents"
   ]
  },
  {
   "cell_type": "markdown",
   "metadata": {},
   "source": [
    "Similarly, we can map the encoded values of each word's label using the ```labels``` dict."
   ]
  },
  {
   "cell_type": "code",
   "execution_count": 20,
   "metadata": {
    "scrolled": false
   },
   "outputs": [
    {
     "data": {
      "text/plain": [
       "[('B-toloc.city_name', 78),\n",
       " ('I-today_relative', 121),\n",
       " ('I-round_trip', 117),\n",
       " ('I-depart_date.today_relative', 95),\n",
       " ('I-depart_date.day_number', 94),\n",
       " ('B-fare_basis_code', 39),\n",
       " ('B-airline_name', 2),\n",
       " ('I-depart_time.time_relative', 100),\n",
       " ('B-flight', 40),\n",
       " ('I-cost_relative', 93),\n",
       " ('I-return_date.date_relative', 114),\n",
       " ('B-arrive_date.date_relative', 5),\n",
       " ('I-meal_code', 111),\n",
       " ('I-depart_time.period_of_day', 97),\n",
       " ('I-airport_name', 84),\n",
       " ('B-depart_time.period_of_day', 33),\n",
       " ('I-fromloc.state_name', 110),\n",
       " ('B-depart_time.time', 35),\n",
       " ('B-or', 56),\n",
       " ('B-days_code', 24),\n",
       " ('I-arrive_time.start_time', 88),\n",
       " ('B-stoploc.airport_name', 70),\n",
       " ('B-toloc.airport_name', 77),\n",
       " ('B-depart_time.period_mod', 32),\n",
       " ('B-depart_time.start_time', 34)]"
      ]
     },
     "execution_count": 20,
     "metadata": {},
     "output_type": "execute_result"
    }
   ],
   "source": [
    "# labels dict contains IOB (inside-out-beginning) labelled entities\n",
    "# printing some randomg k:v pairs \n",
    "random.sample(labels.items(), 25)"
   ]
  },
  {
   "cell_type": "markdown",
   "metadata": {},
   "source": [
    "There are 127 classes of labels (including the 'O' - tokens that do not fall into any entity)."
   ]
  },
  {
   "cell_type": "code",
   "execution_count": 21,
   "metadata": {},
   "outputs": [
    {
     "name": "stdout",
     "output_type": "stream",
     "text": [
      "127\n"
     ]
    }
   ],
   "source": [
    "# number of labels\n",
    "print(len(labels.keys()))"
   ]
  },
  {
   "cell_type": "markdown",
   "metadata": {},
   "source": [
    "#### Reversing the Dictionaries\n",
    "\n",
    "Since the dicts ```words``` and ```labels``` are key:value pairs of index:word/label, let's reverse the dicts so that we don't have to do a reverse lookup everytime."
   ]
  },
  {
   "cell_type": "code",
   "execution_count": 22,
   "metadata": {},
   "outputs": [],
   "source": [
    "# converting words_to_id to id_to_words\n",
    "# and labels_to_id to id_to_labels\n",
    "id_to_words = {words[k]:k for k in words}\n",
    "id_to_labels = {labels[k]:k for k in labels}"
   ]
  },
  {
   "cell_type": "markdown",
   "metadata": {},
   "source": [
    "Now we can print the words and corresponding labels simply by looking up the value of a numeric index of each word. Let's write a function which takes in an index and returns the corresponding query with its labels."
   ]
  },
  {
   "cell_type": "code",
   "execution_count": 23,
   "metadata": {},
   "outputs": [],
   "source": [
    "# takes in an integer index corresponding to a query \n",
    "# and returns a list of (word, label) pairs   \n",
    "def print_query(index):\n",
    "    w = [id_to_words[id] for id in train_x[index]]\n",
    "    l = [id_to_labels[id] for id in train_label[index]]\n",
    "    return list(zip(w, l))"
   ]
  },
  {
   "cell_type": "code",
   "execution_count": 24,
   "metadata": {
    "scrolled": false
   },
   "outputs": [
    {
     "data": {
      "text/plain": [
       "[('please', 'O'),\n",
       " ('show', 'O'),\n",
       " ('me', 'O'),\n",
       " ('the', 'O'),\n",
       " ('return', 'O'),\n",
       " ('flight', 'O'),\n",
       " ('number', 'O'),\n",
       " ('from', 'O'),\n",
       " ('toronto', 'B-fromloc.city_name'),\n",
       " ('to', 'O'),\n",
       " ('st.', 'B-toloc.city_name'),\n",
       " ('petersburg', 'I-toloc.city_name')]"
      ]
     },
     "execution_count": 24,
     "metadata": {},
     "output_type": "execute_result"
    }
   ],
   "source": [
    "# sample query\n",
    "print_query(3900)"
   ]
  },
  {
   "cell_type": "markdown",
   "metadata": {},
   "source": [
    "Also, some queries specify stopover cities, such as this."
   ]
  },
  {
   "cell_type": "code",
   "execution_count": 25,
   "metadata": {
    "scrolled": false
   },
   "outputs": [
    {
     "data": {
      "text/plain": [
       "[('is', 'O'),\n",
       " ('there', 'O'),\n",
       " ('a', 'O'),\n",
       " ('flight', 'O'),\n",
       " ('between', 'O'),\n",
       " ('oakland', 'B-fromloc.city_name'),\n",
       " ('and', 'O'),\n",
       " ('boston', 'B-toloc.city_name'),\n",
       " ('with', 'O'),\n",
       " ('a', 'O'),\n",
       " ('stopover', 'O'),\n",
       " ('in', 'O'),\n",
       " ('dallas', 'B-stoploc.city_name'),\n",
       " ('fort', 'I-stoploc.city_name'),\n",
       " ('worth', 'I-stoploc.city_name'),\n",
       " ('on', 'O'),\n",
       " ('twa', 'B-airline_code')]"
      ]
     },
     "execution_count": 25,
     "metadata": {},
     "output_type": "execute_result"
    }
   ],
   "source": [
    "# example query: stopover city\n",
    "print_query(3443)"
   ]
  },
  {
   "cell_type": "markdown",
   "metadata": {},
   "source": [
    "# Information Extraction \n",
    "\n",
    "**Information Extraction (IE)** refers to the task of extracting structured information from unstructured text data. In this case, we want to extract all pieces of information from a query which are useful in making a flight reservation, such as source and destination cities, date of travel, price range etc. \n",
    "\n",
    "Other examples of IE tasks are extracting information about stock market announcements from financial news (which could be useful for predicting stock prices etc.), extracting structured information from large corpora of documents such as encyclopedias, government documents etc. On wikipedia, for e.g., some structured information is shown on the right side of the pages:\n",
    "\n",
    "<br><br><hr>\n",
    "<img src='sachin.png'>\n",
    "<br><br><hr>\n",
    "\n",
    "Most IE tasks start with the task of **Named Entity Recognition (NER)** - identifying mentions of *entities* in the text. Loosely speaking, entities refer to names of people, organizations (e.g. Air India, United Airlines), places/cities (Mumbai, Chicago), dates and timepoints (May, Wednesday, morning flight), numbers of specific types (e.g. money - 5000 INR) etc.\n",
    "\n",
    "The general process of information extraction is described below.\n"
   ]
  },
  {
   "cell_type": "markdown",
   "metadata": {},
   "source": [
    "\n",
    "## Information Extraction Pipeline\n",
    "\n",
    "Most IE pipelines start with the usual text preprocessing steps - sentence segmentation, word tokenisation and POS tagging. After preprocessing, the usual tasks are named entity recognition, and optionally relation recognition. \n",
    "\n",
    "Note that this is a generic pipeline, and you may make modifications according to the nature of your application. For example, you may add a 'spell check/correction layer' as the first preprocessing step if you expect some input data to have spelling errors.\n",
    "\n",
    "A generic IE pipeline schema, taken from the official NLTK book, is shown below.\n",
    "\n",
    "<br><br><hr>\n",
    "<img src='IE_pipeline.png'>\n",
    "<br><br><hr>\n",
    "\n",
    "### Preprocessing \n",
    "\n",
    "The usual preprocessing steps are usual - if the raw input data is in the form of paragraphs, it is converted into sentences using a **sentence segmenter**, then broken down into tokens using **tokenisation**, and finally each token is **POS tagged**.\n",
    "\n"
   ]
  },
  {
   "cell_type": "markdown",
   "metadata": {},
   "source": [
    "### Named Entity Recognition (NER)\n",
    "\n",
    "The labels corresponding to each word/token, as shown above, are of three types - I, O and B, which stand for inside, out and beginning (called **IOB tags**). This is a common way of labelling text data meant for NER tasks. The task of information extraction and named-entity recognition is explained in detail below. First, let's understand the task of NER and IOB labelling in detail.\n",
    "\n",
    "Some example IOB tagged words are shown below:\n"
   ]
  },
  {
   "cell_type": "code",
   "execution_count": 26,
   "metadata": {
    "scrolled": true
   },
   "outputs": [
    {
     "data": {
      "text/plain": [
       "[('what', 'O'),\n",
       " ('is', 'O'),\n",
       " ('the', 'O'),\n",
       " ('distance', 'O'),\n",
       " ('between', 'O'),\n",
       " ('pittsburgh', 'B-fromloc.airport_name'),\n",
       " ('airport', 'I-fromloc.airport_name'),\n",
       " ('and', 'O'),\n",
       " ('downtown', 'O'),\n",
       " ('pittsburgh', 'B-toloc.city_name')]"
      ]
     },
     "execution_count": 26,
     "metadata": {},
     "output_type": "execute_result"
    }
   ],
   "source": [
    "# run multiple times to see samples\n",
    "# randomly chosen sample IOB tagged queries from training data\n",
    "i=random.randrange(len(train_x))\n",
    "print_query(i)"
   ]
  },
  {
   "cell_type": "markdown",
   "metadata": {},
   "source": [
    "In the query above, there are two named entities (cities) - san francisco and denver. \n",
    "\n",
    "Since san francisco comprises of two words, the first one is tagged *B-* and the second as *I-*. On the other hand, denver is only one word, so there's no *I-* tag. All the other words are not entities and are thus marked *O* (outside any entity).\n",
    "\n",
    "The **NER task** is to **predict the IOB labels** of each word."
   ]
  },
  {
   "cell_type": "markdown",
   "metadata": {},
   "source": [
    "### NER as a Sequence-Labelling Task\n",
    "\n",
    "The task of **training an NER system**, i.e. assigning an IOB label to each word, is a **sequence labelling task** similar to POS tagging. For sequence labelling, one can try rule-based models such as writing **regular-expression based rules** to extract entities, **chunking** patterns of POS tags into an 'entity chunk' etc. (we'll try some of these below)\n",
    "\n",
    "One the other hand, one can use **probabilistic sequence labelling models** such as **HMMs**, the **Naive Bayes** classifier (classifying each word into one label class), **Conditional Random Fields (CRFs)** etc. \n",
    "\n",
    "Once the IOB tags of each word are predicted, we can **evaluate the model** using the usual metrics for multi-class classification models (num_classes = number of IOB tags).\n",
    "\n",
    "In the upcoming sections, we will try some of these approaches and compare their performance."
   ]
  },
  {
   "cell_type": "code",
   "execution_count": 27,
   "metadata": {},
   "outputs": [],
   "source": [
    "## TODO - Ask Ashish:\n",
    "\n",
    "# 1. Could NER tasks be unsupervised, and are we talking about some examples/approaches of that?\n",
    "\n",
    "# 2. In absence of rich IOB tagged datasets, what alternate approaches can one use \n",
    "# for entity recognition? How do companies practically generate such data? Can we talk about \n",
    "# costs/logistics of these tasks?"
   ]
  },
  {
   "cell_type": "markdown",
   "metadata": {},
   "source": [
    "# Models for Entity Recognition\n",
    "\n",
    "In the following sections, we'll build a variety of models for entity recognition, i.e. to predict the sequence of IOB tag of words. We'll try the two broad approaches - **rule-based models** and **probabilistic models**. \n",
    "\n",
    "Before that, we need to do some basic preprocessing of the data. Also, after preprocessing, we'll see how we can understand the IOB tagged data better in the form of **trees**.\n",
    "\n",
    "\n",
    "## Preprocessing\n",
    "\n",
    "The usual preprocessing steps are sentence segmentation, tokenisation and POS tagging, but since in this case the raw data is already split into sentences (queries) and words, we only need to do POS tagging.\n",
    "\n",
    "The function below takes in a list of (encoded) sentences, uses the dict ```id_to_words``` to decode the numeric to the corresponding word, and returns the POS tagged list of sentences."
   ]
  },
  {
   "cell_type": "code",
   "execution_count": 28,
   "metadata": {},
   "outputs": [],
   "source": [
    "# POS tagging sentences\n",
    "# takes in a list of sentences and returns a list of POS-tagged sentences\n",
    "# in the form (word, tag)\n",
    "\n",
    "def pos_tag(sent_list):\n",
    "    pos_tags = []    \n",
    "    for sent in sent_list:\n",
    "        tagged_words = nltk.pos_tag([id_to_words[val] for val in sent])\n",
    "        pos_tags.append(tagged_words)\n",
    "    return pos_tags"
   ]
  },
  {
   "cell_type": "code",
   "execution_count": 29,
   "metadata": {},
   "outputs": [],
   "source": [
    "# pos tagging train, validation and test sets\n",
    "train_pos = pos_tag(train_x)\n",
    "valid_pos = pos_tag(val_x)\n",
    "test_pos = pos_tag(test_x)"
   ]
  },
  {
   "cell_type": "code",
   "execution_count": 30,
   "metadata": {
    "scrolled": false
   },
   "outputs": [
    {
     "data": {
      "text/plain": [
       "[('what', 'WP'),\n",
       " ('flights', 'VBZ'),\n",
       " ('available', 'JJ'),\n",
       " ('between', 'IN'),\n",
       " ('pittsburgh', 'NN'),\n",
       " ('and', 'CC'),\n",
       " ('baltimore', 'NN'),\n",
       " ('on', 'IN'),\n",
       " ('august', 'JJ'),\n",
       " ('eleventh', 'NN')]"
      ]
     },
     "execution_count": 30,
     "metadata": {},
     "output_type": "execute_result"
    }
   ],
   "source": [
    "# looking at tags of some randomly chosen queries\n",
    "# notice that most cities after 'TO' are incorrectly tagged as VB\n",
    "i = random.randrange(len(train_pos))\n",
    "train_pos[i]"
   ]
  },
  {
   "cell_type": "markdown",
   "metadata": {},
   "source": [
    "### Creating 3-tuples of ```(word, pos, IOS_label)```\n",
    "To train a model, we need the entity labels of each word along with the POS tags, for e.g. in this format:\n",
    "\n",
    "```\n",
    "('show', 'VB', 'O'),\n",
    "('me', 'PRP', 'O'),\n",
    "('the', 'DT', 'O'),\n",
    "('cheapest', 'JJS', 'B-cost_relative'),\n",
    "('round', 'NN', 'B-round_trip'),\n",
    "('trips', 'NNS', 'I-round_trip'),\n",
    "('from', 'IN', 'O'),\n",
    "('dallas', 'NN', 'B-fromloc.city_name'),\n",
    "('to', 'TO', 'O'),\n",
    "('baltimore', 'VB', 'B-toloc.city_name')\n",
    "```\n",
    "<hr>\n",
    "\n",
    "Let's convert the training, validation and test sentences to this form. Since we have already  done POS tagging of the queries, we'll write a function which takes queries in the form (word, pos_tag) and the labels as input, and returns the list of sentences in the form (word, pos_tag, iob_label)."
   ]
  },
  {
   "cell_type": "code",
   "execution_count": 31,
   "metadata": {},
   "outputs": [],
   "source": [
    "# function to create (word, pos_tag, iob_label) tuples for a given dataset\n",
    "def create_word_pos_label(pos_tagged_data, labels):\n",
    "    iob_labels = []         # initialize the list of 3-tuples to be returned\n",
    "    \n",
    "    for sent in list(zip(pos_tagged_data, labels)):\n",
    "        pos = sent[0]       \n",
    "        labels = sent[1]    \n",
    "        zipped_list = list(zip(pos, labels)) # [(word, pos), label]\n",
    "        \n",
    "        # create (word, pos, label) tuples from zipped list\n",
    "        tuple_3 = [(word_pos_tuple[0], word_pos_tuple[1], id_to_labels[label]) \n",
    "                   for word_pos_tuple, label in zipped_list]\n",
    "        iob_labels.append(tuple_3)\n",
    "    return iob_labels"
   ]
  },
  {
   "cell_type": "code",
   "execution_count": 32,
   "metadata": {},
   "outputs": [
    {
     "data": {
      "text/plain": [
       "[[('show', 'VB', 'O'),\n",
       "  ('me', 'PRP', 'O'),\n",
       "  ('the', 'DT', 'O'),\n",
       "  ('cheapest', 'JJS', 'B-cost_relative'),\n",
       "  ('round', 'NN', 'B-round_trip'),\n",
       "  ('trips', 'NNS', 'I-round_trip'),\n",
       "  ('from', 'IN', 'O'),\n",
       "  ('dallas', 'NN', 'B-fromloc.city_name'),\n",
       "  ('to', 'TO', 'O'),\n",
       "  ('baltimore', 'VB', 'B-toloc.city_name')],\n",
       " [('i', 'JJ', 'O'),\n",
       "  (\"'d\", 'MD', 'O'),\n",
       "  ('like', 'VB', 'O'),\n",
       "  ('to', 'TO', 'O'),\n",
       "  ('see', 'VB', 'O'),\n",
       "  ('all', 'DT', 'O'),\n",
       "  ('flights', 'NNS', 'O'),\n",
       "  ('from', 'IN', 'O'),\n",
       "  ('denver', 'NN', 'B-fromloc.city_name'),\n",
       "  ('to', 'TO', 'O'),\n",
       "  ('philadelphia', 'VB', 'B-toloc.city_name')]]"
      ]
     },
     "execution_count": 32,
     "metadata": {},
     "output_type": "execute_result"
    }
   ],
   "source": [
    "# printing some sample queries in the form (word, pos, label)\n",
    "train_labels = create_word_pos_label(train_pos, train_label)\n",
    "train_labels[4:6]"
   ]
  },
  {
   "cell_type": "code",
   "execution_count": 33,
   "metadata": {},
   "outputs": [
    {
     "data": {
      "text/plain": [
       "[('show', 'VB', 'O'),\n",
       " ('me', 'PRP', 'O'),\n",
       " ('flights', 'NNS', 'O'),\n",
       " ('from', 'IN', 'O'),\n",
       " ('denver', 'NN', 'B-fromloc.city_name'),\n",
       " ('to', 'TO', 'O'),\n",
       " ('philadelphia', 'VB', 'B-toloc.city_name'),\n",
       " ('on', 'IN', 'O'),\n",
       " ('a', 'DT', 'O'),\n",
       " ('monday', 'NN', 'B-depart_date.day_name')]"
      ]
     },
     "execution_count": 33,
     "metadata": {},
     "output_type": "execute_result"
    }
   ],
   "source": [
    "# run multiple times \n",
    "# some sample training sentences\n",
    "train_labels[random.randrange(len(train_labels))]"
   ]
  },
  {
   "cell_type": "code",
   "execution_count": 34,
   "metadata": {},
   "outputs": [],
   "source": [
    "# storing validation and test data as well as (word, pos, label)\n",
    "valid_labels = create_word_pos_label(valid_pos, val_label)\n",
    "test_labels = create_word_pos_label(test_pos, test_label)"
   ]
  },
  {
   "cell_type": "markdown",
   "metadata": {},
   "source": [
    "Now that we have converted the queries in the form (word, pos, label), we can convert them into a **tree format** and observe the actual entities more clearly (rather than IOB labels). \n",
    "\n",
    "In general, IOB tagged sentences are represented in either of the two common formats - 1. The ```(word, pos, label)``` or the tagged list format or 2. The tree format. \n",
    "\n",
    "As we will see later, some built-in models/sequence taggers in NLTK need the data in the tree format.\n",
    "\n",
    "### Converting to Tree Format\n",
    "\n",
    "Let's now convert the sentences into a tree format, which is needed by NLTK to train taggers. In NLTK, there are two main methods to convert between the two formats (the list of tags and tree) - ```conlltags2tree``` and ```tree2conlltags```."
   ]
  },
  {
   "cell_type": "code",
   "execution_count": 35,
   "metadata": {
    "scrolled": true
   },
   "outputs": [
    {
     "data": {
      "text/plain": [
       "[('i', 'JJ', 'O'),\n",
       " (\"'d\", 'MD', 'O'),\n",
       " ('like', 'VB', 'O'),\n",
       " ('to', 'TO', 'O'),\n",
       " ('know', 'VB', 'O'),\n",
       " ('the', 'DT', 'O'),\n",
       " ('earliest', 'JJS', 'B-flight_mod'),\n",
       " ('flight', 'NN', 'O'),\n",
       " ('from', 'IN', 'O'),\n",
       " ('boston', 'NN', 'B-fromloc.city_name'),\n",
       " ('to', 'TO', 'O'),\n",
       " ('atlanta', 'VB', 'B-toloc.city_name')]"
      ]
     },
     "execution_count": 35,
     "metadata": {},
     "output_type": "execute_result"
    }
   ],
   "source": [
    "from nltk.corpus import conll2000\n",
    "from nltk import conlltags2tree, tree2conlltags\n",
    "\n",
    "# print a sample tree in tuple format\n",
    "train_labels[2]"
   ]
  },
  {
   "cell_type": "code",
   "execution_count": 36,
   "metadata": {},
   "outputs": [
    {
     "name": "stdout",
     "output_type": "stream",
     "text": [
      "(S\n",
      "  i/JJ\n",
      "  'd/MD\n",
      "  like/VB\n",
      "  to/TO\n",
      "  know/VB\n",
      "  the/DT\n",
      "  (flight_mod earliest/JJS)\n",
      "  flight/NN\n",
      "  from/IN\n",
      "  (fromloc.city_name boston/NN)\n",
      "  to/TO\n",
      "  (toloc.city_name atlanta/VB))\n"
     ]
    }
   ],
   "source": [
    "# converting the sample sentence above to tree format\n",
    "tree = conlltags2tree(train_labels[2])\n",
    "print(tree)"
   ]
  },
  {
   "cell_type": "markdown",
   "metadata": {},
   "source": [
    "The tree above shows three entities in the query - ```flight_mod earliest``` (earliest), ```fromloc.city_name``` (boston), ```toloc.city_name``` (atlanta)."
   ]
  },
  {
   "cell_type": "markdown",
   "metadata": {},
   "source": [
    "Let's now convert all training sentences to trees."
   ]
  },
  {
   "cell_type": "code",
   "execution_count": 37,
   "metadata": {},
   "outputs": [],
   "source": [
    "# converting training, validation and test datasets to tree format\n",
    "train_trees = [conlltags2tree(sent) for sent in train_labels]\n",
    "valid_trees = [conlltags2tree(sent) for sent in valid_labels]\n",
    "test_trees = [conlltags2tree(sent) for sent in test_labels]"
   ]
  },
  {
   "cell_type": "code",
   "execution_count": 38,
   "metadata": {
    "scrolled": true
   },
   "outputs": [
    {
     "name": "stdout",
     "output_type": "stream",
     "text": [
      "(S ground/NN transportation/NN (city_name denver/NN))\n"
     ]
    }
   ],
   "source": [
    "# print some sample training trees\n",
    "i=random.randrange(len(train_trees))\n",
    "print(train_trees[i])"
   ]
  },
  {
   "cell_type": "markdown",
   "metadata": {},
   "source": [
    "Now that we have the queries in tree formats, we can build some models to extract entities."
   ]
  },
  {
   "cell_type": "markdown",
   "metadata": {},
   "source": [
    "## Rule-Based Models for Entity Recognition\n",
    "\n",
    "The most basic rule-based system can be written using regular expressions. The idea is to manually identify patterns which indicate occurence of entities we are interested in, such as source and destination cities, mentions of dates and time, names of organisations (in this case airlines such as united airlines, american airlines etc.) and write regular expressions to match them.\n"
   ]
  },
  {
   "cell_type": "markdown",
   "metadata": {},
   "source": [
    "### Regular Expression Based Approach\n",
    "\n",
    "To be added ..."
   ]
  },
  {
   "cell_type": "markdown",
   "metadata": {},
   "source": [
    "### Chunking\n",
    "\n",
    "Chunking is a way to identify meaningful sequences of tokens called chunks in a sentence. It is commonly used to identify sequences of nouns, verbs etc. For example, in the example sentence taken from the NLTK book: <br>\n",
    "\n",
    "S = *\"We saw the yellow dog\"*\n",
    "\n",
    "there are two **noun phrase chunks** as shown below. Each outer box represents a chunk.\n",
    "\n",
    "<img src=\"dog_1.png\">\n",
    "\n",
    "The corresponding **IOB representation** of the same is as follows:\n",
    "\n",
    "<img src=\"dog_2.png\">\n",
    "\n",
    "\n",
    "\n",
    "Similarly, in our dataset, the following sentence contains chunks such as fromloc.city_name (san francisco), class_type (first class), depart_time.time (DIGITDIGIT noon) etc.\n"
   ]
  },
  {
   "cell_type": "code",
   "execution_count": 39,
   "metadata": {},
   "outputs": [
    {
     "name": "stdout",
     "output_type": "stream",
     "text": [
      "(S\n",
      "  show/VB\n",
      "  me/PRP\n",
      "  flights/NNS\n",
      "  on/IN\n",
      "  (depart_date.day_name sunday/NN)\n",
      "  going/VBG\n",
      "  from/IN\n",
      "  (fromloc.city_name san/JJ francisco/NN)\n",
      "  to/TO\n",
      "  (toloc.city_name boston/VB)\n",
      "  (flight_stop nonstop/JJ)\n",
      "  (class_type first/JJ class/NN)\n",
      "  leaving/NN\n",
      "  (depart_time.time_relative after/IN)\n",
      "  (depart_time.time DIGITDIGIT/NNP noon/NN))\n"
     ]
    }
   ],
   "source": [
    "# sample chunks \n",
    "print(train_trees[3468])"
   ]
  },
  {
   "cell_type": "markdown",
   "metadata": {},
   "source": [
    "There are various techniques for building chunkers, such as regex based, unigram and bigram chunkers etc.\n",
    "\n",
    "### Regular Expression Based Chunkers\n",
    "\n",
    "Regex based chunkers define what is called a **chunk grammar**. A **chunk grammar is a pattern of POS tags** which are likely to form a particular chunk (and thus POS tagging is a necessary preprocessing step for such chunkers). \n",
    "\n",
    "The example from the NLTK book defined a simple garmmar to identify noun phrase chunks:\n",
    "\n"
   ]
  },
  {
   "cell_type": "code",
   "execution_count": 40,
   "metadata": {},
   "outputs": [],
   "source": [
    "# chunking example sentence\n",
    "sentence = [(\"the\", \"DT\"), (\"little\", \"JJ\"), (\"yellow\", \"JJ\"),\n",
    "            (\"dog\", \"NN\"), (\"barked\", \"VBD\"), (\"at\", \"IN\"), (\"the\", \"DT\"), (\"cat\", \"NN\")]"
   ]
  },
  {
   "cell_type": "markdown",
   "metadata": {},
   "source": [
    "Now, we **define a chunk grammar** to identify noun phrase chunks as follows: *A noun phrase chunk occurs when an optional determiner (DT) is followed by any number of adjectives (JJ) and then a noun (NN).*"
   ]
  },
  {
   "cell_type": "code",
   "execution_count": 41,
   "metadata": {},
   "outputs": [],
   "source": [
    "# define chunk grammar to identify noun phrase chunks\n",
    "# an optional determiner (DT), followed by any number of adjectives (JJ) \n",
    "# and then a noun (NN)\n",
    "grammar = \"NP_chunk: {<DT>?<JJ>*<NN>}\""
   ]
  },
  {
   "cell_type": "markdown",
   "metadata": {},
   "source": [
    "We now use the ```nltk.RegexpParser``` to parse the given sentence. The output will be a tree which identifies the NP chunks."
   ]
  },
  {
   "cell_type": "code",
   "execution_count": 42,
   "metadata": {},
   "outputs": [
    {
     "name": "stdout",
     "output_type": "stream",
     "text": [
      "(S\n",
      "  (NP_chunk the/DT little/JJ yellow/JJ dog/NN)\n",
      "  barked/VBD\n",
      "  at/IN\n",
      "  (NP_chunk the/DT cat/NN))\n"
     ]
    }
   ],
   "source": [
    "# parse the sentence\n",
    "cp = nltk.RegexpParser(grammar)\n",
    "result = cp.parse(sentence)\n",
    "print(result)"
   ]
  },
  {
   "cell_type": "markdown",
   "metadata": {},
   "source": [
    "The first NP chunk is 'the little yellow dog' and the second one is 'the cat'. One can also print the list representation of this tree as follows:"
   ]
  },
  {
   "cell_type": "code",
   "execution_count": 43,
   "metadata": {
    "scrolled": true
   },
   "outputs": [
    {
     "data": {
      "text/plain": [
       "[('the', 'DT', 'B-NP_chunk'),\n",
       " ('little', 'JJ', 'I-NP_chunk'),\n",
       " ('yellow', 'JJ', 'I-NP_chunk'),\n",
       " ('dog', 'NN', 'I-NP_chunk'),\n",
       " ('barked', 'VBD', 'O'),\n",
       " ('at', 'IN', 'O'),\n",
       " ('the', 'DT', 'B-NP_chunk'),\n",
       " ('cat', 'NN', 'I-NP_chunk')]"
      ]
     },
     "execution_count": 43,
     "metadata": {},
     "output_type": "execute_result"
    }
   ],
   "source": [
    "# list form of the tree\n",
    "tree2conlltags(result)"
   ]
  },
  {
   "cell_type": "markdown",
   "metadata": {},
   "source": [
    "Similarly, we can write rules to identify entities in the airlines dataset. Before building any useful chunkers, let's first make a **baseline chunker** - one which assigns the label 'O' to every word and see its evaluation metrics. We can then compare the eventual models with this one. "
   ]
  },
  {
   "cell_type": "code",
   "execution_count": 44,
   "metadata": {},
   "outputs": [
    {
     "name": "stdout",
     "output_type": "stream",
     "text": [
      "ChunkParse score:\n",
      "    IOB Accuracy:  63.8%%\n",
      "    Precision:      0.0%%\n",
      "    Recall:         0.0%%\n",
      "    F-Measure:      0.0%%\n"
     ]
    }
   ],
   "source": [
    "# baseline (dummy chunker)\n",
    "# assigns 'O' to each word\n",
    "\n",
    "grammar = ''\n",
    "\n",
    "# initialise cp \n",
    "cp = nltk.RegexpParser(grammar)\n",
    "\n",
    "# evaluate results against actual IOB labels\n",
    "result = cp.evaluate(train_trees)\n",
    "print(result)"
   ]
  },
  {
   "cell_type": "markdown",
   "metadata": {},
   "source": [
    "An accuracy of 63.8% shows that about 63% words have the tag 'O', i.e. they do not fall in any chunk/entity. The other metrics are 0 since we did not predict any chunks at all.\n",
    "\n",
    "Let's now look at a few sentences and try to identify patterns for the chunks ```fromloc.city_name``` and ```toloc.city_name``` (since these are the most common entities)."
   ]
  },
  {
   "cell_type": "code",
   "execution_count": 45,
   "metadata": {},
   "outputs": [
    {
     "name": "stdout",
     "output_type": "stream",
     "text": [
      "(S where/WRB is/VBZ (airport_code mco/JJ))\n"
     ]
    }
   ],
   "source": [
    "# sample queries \n",
    "print(train_trees[random.randrange(len(train_trees))])"
   ]
  },
  {
   "cell_type": "markdown",
   "metadata": {},
   "source": [
    "It is easy to see that a common pattern is *from city_1 to city_2*. The POS tag of from is 'IN', to is 'TO'. However, there's an interesting flaw in the tagger - most cities (city_2) after TO are tagged as as verb 'VB' (the nltk tagger uses 'TO' as a string signal for a verb).\n",
    "\n",
    "Nevertheless, the pattern is ```from/IN city_1/JJ city_1/NN to/TO city_2/VB city_2/NN``` (you can try looking at multiple sentences and verify).\n",
    "\n",
    "Let's define the grammar to identify the two types of chunks - ```fromloc.city_name``` and ```toloc.city_name```. The syntax is to simply write two regexes within the grammar, one for each, one after the other."
   ]
  },
  {
   "cell_type": "code",
   "execution_count": 46,
   "metadata": {},
   "outputs": [
    {
     "name": "stdout",
     "output_type": "stream",
     "text": [
      "ChunkParse score:\n",
      "    IOB Accuracy:  65.2%%\n",
      "    Precision:     31.7%%\n",
      "    Recall:        40.9%%\n",
      "    F-Measure:     35.7%%\n"
     ]
    }
   ],
   "source": [
    "# grammar for source and destination city chunks\n",
    "grammar = '''\n",
    "fromloc.city_name: {<JJ>?<NN>}\n",
    "toloc.city_name: {<VB><NN>?}\n",
    "'''\n",
    "cp = nltk.RegexpParser(grammar)\n",
    "result = cp.evaluate(train_trees)\n",
    "print(result)"
   ]
  },
  {
   "cell_type": "markdown",
   "metadata": {},
   "source": [
    "The results are although better than the baseline model, they are still quite unimpressive. Notice that now precision, recall and f-score are non-zero, indicating that the chunker is able to identify at least some chunks correctly (in this case ```fromloc.city_name``` and ```toloc.city_name```).\n",
    "\n",
    "We can add more regex patterns for other chunk types as well."
   ]
  },
  {
   "cell_type": "code",
   "execution_count": 47,
   "metadata": {},
   "outputs": [],
   "source": [
    "# TODO: Add few more chunk patterns"
   ]
  },
  {
   "cell_type": "markdown",
   "metadata": {},
   "source": [
    "We can see that in this dataset, queries are quite complex (large variety of labels, sentence structures etc.) and thus it is extremely hard write hand-written rules to extract useful entities.\n",
    "\n",
    "Thus, we need to train probabilistic models such as CRFs, HMMs etc. to tag each word with its corresponding entity label.\n"
   ]
  },
  {
   "cell_type": "markdown",
   "metadata": {},
   "source": [
    "## Probabilistic Models for Entity Recognition\n",
    "\n",
    "Let's experiment with a few different models for labelling words with named entities.\n"
   ]
  },
  {
   "cell_type": "markdown",
   "metadata": {},
   "source": [
    "### Unigram Chunker\n",
    "\n",
    "Let's now try a **unigram chunker**. A unigram chunker assigns the IOB label that is most likely for each POS tag.\n",
    "\n",
    "The following code defines a class ```UnigramChunker``` which (on initialisation) first converts the tree form of a sentence to the list form (word, pos, label), extracts the (pos, label) pairs and computes the unigram probabilities ```P(label | pos)``` for each POS tag. It then simply assigns the label that is most likely for the POS tag.\n",
    "\n",
    "The ```parse()``` method of the class takes a sentence in the form (word, pos) as the input, extracts only the pos tag from it, and uses the unigram tagger to assign the IOB label to each word. It then returns the sentence after converting it to a tree format.\n",
    "\n",
    "Note that the unigram tagger, like the previous regex-based chunkers, *does not make use of the word itself but only the word's POS tag*."
   ]
  },
  {
   "cell_type": "code",
   "execution_count": 48,
   "metadata": {},
   "outputs": [],
   "source": [
    "# unigram chunker\n",
    "\n",
    "from nltk import ChunkParserI\n",
    "\n",
    "class UnigramChunker(ChunkParserI):    \n",
    "    def __init__(self, train_sents):\n",
    "        # convert train sents from tree format to tags\n",
    "        train_data = [[(t, c) for w, t, c in nltk.chunk.tree2conlltags(sent)] \n",
    "                      for sent in train_sents]\n",
    "        self.tagger = nltk.UnigramTagger(train_data)\n",
    "        \n",
    "    def parse(self, sentence):\n",
    "        pos_tags = [pos for (word, pos) in sentence]\n",
    "        tagged_pos_tags = self.tagger.tag(pos_tags)\n",
    "        chunktags = [chunktag for (pos, chunktag) in tagged_pos_tags]\n",
    "        \n",
    "        # convert to tree again\n",
    "        conlltags = [(word, pos, chunktag) for ((word, pos), chunktag) in zip(sentence, chunktags)]\n",
    "        return nltk.chunk.conlltags2tree(conlltags)\n",
    "        "
   ]
  },
  {
   "cell_type": "code",
   "execution_count": 49,
   "metadata": {},
   "outputs": [
    {
     "name": "stdout",
     "output_type": "stream",
     "text": [
      "ChunkParse score:\n",
      "    IOB Accuracy:  66.3%%\n",
      "    Precision:     37.5%%\n",
      "    Recall:        18.5%%\n",
      "    F-Measure:     24.8%%\n"
     ]
    }
   ],
   "source": [
    "# unigram chunker \n",
    "unigram_chunker = UnigramChunker(train_trees)\n",
    "print(unigram_chunker.evaluate(valid_trees))"
   ]
  },
  {
   "cell_type": "markdown",
   "metadata": {},
   "source": [
    "The accuracy, precision and recall have slightly improved compared to the previous regex-based  parser. "
   ]
  },
  {
   "cell_type": "markdown",
   "metadata": {},
   "source": [
    "Let's also look at what the unigram parser has learnt."
   ]
  },
  {
   "cell_type": "code",
   "execution_count": 50,
   "metadata": {},
   "outputs": [
    {
     "name": "stdout",
     "output_type": "stream",
     "text": [
      "[('CC', 'O'), ('CD', 'B-round_trip'), ('DT', 'O'), ('EX', 'O'), ('FW', 'B-fromloc.city_name'), ('IN', 'O'), ('JJ', 'O'), ('JJR', 'B-cost_relative'), ('JJS', 'B-cost_relative'), ('MD', 'O'), ('NN', 'O'), ('NNP', 'B-depart_time.time'), ('NNS', 'O'), ('PDT', 'O'), ('POS', 'O'), ('PRP', 'O'), ('PRP$', 'O'), ('RB', 'O'), ('RBR', 'B-cost_relative'), ('RBS', 'B-cost_relative'), ('RP', 'O'), ('TO', 'O'), ('VB', 'B-toloc.city_name'), ('VBD', 'O'), ('VBG', 'O'), ('VBN', 'O'), ('VBP', 'O'), ('VBZ', 'O'), ('WDT', 'O'), ('WP', 'O'), ('WRB', 'O')]\n"
     ]
    }
   ],
   "source": [
    "# printing the most likely IOB tags for each POS tag\n",
    "\n",
    "# extract the list of pos tags\n",
    "postags = sorted(set([pos for sent in train_trees for (word, pos) in sent.leaves()]))\n",
    "\n",
    "# for each tag, assign the most likely IOB label\n",
    "print(unigram_chunker.tagger.tag(postags))"
   ]
  },
  {
   "cell_type": "markdown",
   "metadata": {},
   "source": [
    "The unigram tagger has learnt that most pos tags are indeed an 'O', i.e. don't form an entity. Some interesting patterns it has learnt are:\n",
    "- JJR, JJS (relative adjectives), are most likely B-cost_relative (e.g. cheapest, cheaper)\n",
    "- NNP is most likely to be B-depart_time.time"
   ]
  },
  {
   "cell_type": "markdown",
   "metadata": {},
   "source": [
    "### Bigram Chunker\n",
    "\n",
    "Let's try a bigram chunker as well - we just need to change the ```UnigramTagger``` to ```BigramTagger```. This works exactly like the unigram chunker, the only difference being that now the probability of a pos tag having a label is computed using the current and the previous POS tags, i.e. P(label | pos, prev_pos)."
   ]
  },
  {
   "cell_type": "code",
   "execution_count": 51,
   "metadata": {},
   "outputs": [],
   "source": [
    "# bigram tagger\n",
    "\n",
    "class BigramChunker(ChunkParserI):    \n",
    "    def __init__(self, train_sents):\n",
    "        # convert train sents from tree format to tags\n",
    "        train_data = [[(t, c) for w, t, c in nltk.chunk.tree2conlltags(sent)] \n",
    "                      for sent in train_sents]\n",
    "        self.tagger = nltk.BigramTagger(train_data)\n",
    "        \n",
    "    def parse(self, sentence):\n",
    "        pos_tags = [pos for (word, pos) in sentence]\n",
    "        tagged_pos_tags = self.tagger.tag(pos_tags)\n",
    "        chunktags = [chunktag for (pos, chunktag) in tagged_pos_tags]\n",
    "        \n",
    "        # convert to tree again\n",
    "        conlltags = [(word, pos, chunktag) for ((word, pos), chunktag) in zip(sentence, chunktags)]\n",
    "        return nltk.chunk.conlltags2tree(conlltags)\n",
    "        "
   ]
  },
  {
   "cell_type": "code",
   "execution_count": 52,
   "metadata": {
    "scrolled": true
   },
   "outputs": [
    {
     "name": "stdout",
     "output_type": "stream",
     "text": [
      "ChunkParse score:\n",
      "    IOB Accuracy:  70.6%%\n",
      "    Precision:     43.5%%\n",
      "    Recall:        38.8%%\n",
      "    F-Measure:     41.0%%\n"
     ]
    }
   ],
   "source": [
    "# unigram chunker \n",
    "bigram_chunker = BigramChunker(train_trees)\n",
    "print(bigram_chunker.evaluate(valid_trees))"
   ]
  },
  {
   "cell_type": "markdown",
   "metadata": {},
   "source": [
    "The metrics have improved significantly from unigram to bigram, which is expected. However, there are still some major flaws in this approach to build chunkers, the main drawback being that the model *uses only the POS tag to assign the label, not the actual word itself*. \n",
    "\n",
    "It is likely that if a model can make use of the word itself apart from the POS tag, it should be able to learn more complex patterns needed for this task. \n",
    "\n",
    "In fact, apart from the word, we can extract a large number of other features, such as previous word, previous tag, whether the word is a numeric, whether the word is a city or an airline company etc.\n",
    "\n",
    "Thus, in the following few sections, we'll extract a variety of features and build classifiers such as Naive Bayes using those features. \n",
    "\n",
    "Our first step in the direction of feature extraction will be to extract an feature which indicates whether a word is a city, state or county etc. Such features can be extracted by simply **looking up a gazetteer**.\n"
   ]
  },
  {
   "cell_type": "markdown",
   "metadata": {},
   "source": [
    "### Using a Gazetteer to Lookup Cities and States\n",
    "\n",
    "A gazetteer is a geographical directory which stores data regarding the names of geographical entities (cities, states, countries) and some other features related to the geographies. An example gazetteer file for the US is given below.\n",
    "\n",
    "Data download URL: https://raw.githubusercontent.com/grammakov/USA-cities-and-states/master/us_cities_states_counties.csv\n",
    "\n",
    "\n",
    "We'll write a simple function which takes a word as input and returns a tuple indicating **whether the word is a city, state or a county**."
   ]
  },
  {
   "cell_type": "code",
   "execution_count": 53,
   "metadata": {
    "scrolled": true
   },
   "outputs": [
    {
     "data": {
      "text/html": [
       "<div>\n",
       "<style scoped>\n",
       "    .dataframe tbody tr th:only-of-type {\n",
       "        vertical-align: middle;\n",
       "    }\n",
       "\n",
       "    .dataframe tbody tr th {\n",
       "        vertical-align: top;\n",
       "    }\n",
       "\n",
       "    .dataframe thead th {\n",
       "        text-align: right;\n",
       "    }\n",
       "</style>\n",
       "<table border=\"1\" class=\"dataframe\">\n",
       "  <thead>\n",
       "    <tr style=\"text-align: right;\">\n",
       "      <th></th>\n",
       "      <th>City</th>\n",
       "      <th>State short</th>\n",
       "      <th>State full</th>\n",
       "      <th>County</th>\n",
       "      <th>City alias</th>\n",
       "    </tr>\n",
       "  </thead>\n",
       "  <tbody>\n",
       "    <tr>\n",
       "      <th>0</th>\n",
       "      <td>Holtsville</td>\n",
       "      <td>NY</td>\n",
       "      <td>New York</td>\n",
       "      <td>SUFFOLK</td>\n",
       "      <td>Internal Revenue Service</td>\n",
       "    </tr>\n",
       "    <tr>\n",
       "      <th>1</th>\n",
       "      <td>Holtsville</td>\n",
       "      <td>NY</td>\n",
       "      <td>New York</td>\n",
       "      <td>SUFFOLK</td>\n",
       "      <td>Holtsville</td>\n",
       "    </tr>\n",
       "    <tr>\n",
       "      <th>2</th>\n",
       "      <td>Adjuntas</td>\n",
       "      <td>PR</td>\n",
       "      <td>Puerto Rico</td>\n",
       "      <td>ADJUNTAS</td>\n",
       "      <td>URB San Joaquin</td>\n",
       "    </tr>\n",
       "    <tr>\n",
       "      <th>3</th>\n",
       "      <td>Adjuntas</td>\n",
       "      <td>PR</td>\n",
       "      <td>Puerto Rico</td>\n",
       "      <td>ADJUNTAS</td>\n",
       "      <td>Jard De Adjuntas</td>\n",
       "    </tr>\n",
       "    <tr>\n",
       "      <th>4</th>\n",
       "      <td>Adjuntas</td>\n",
       "      <td>PR</td>\n",
       "      <td>Puerto Rico</td>\n",
       "      <td>ADJUNTAS</td>\n",
       "      <td>Colinas Del Gigante</td>\n",
       "    </tr>\n",
       "  </tbody>\n",
       "</table>\n",
       "</div>"
      ],
      "text/plain": [
       "         City State short   State full    County                City alias\n",
       "0  Holtsville          NY     New York   SUFFOLK  Internal Revenue Service\n",
       "1  Holtsville          NY     New York   SUFFOLK                Holtsville\n",
       "2    Adjuntas          PR  Puerto Rico  ADJUNTAS           URB San Joaquin\n",
       "3    Adjuntas          PR  Puerto Rico  ADJUNTAS          Jard De Adjuntas\n",
       "4    Adjuntas          PR  Puerto Rico  ADJUNTAS       Colinas Del Gigante"
      ]
     },
     "execution_count": 53,
     "metadata": {},
     "output_type": "execute_result"
    }
   ],
   "source": [
    "# reading a file containing list of US cities, states and counties\n",
    "us_cities = pd.read_csv(\"us_cities_states_counties.csv\", sep=\"|\")\n",
    "us_cities.head()\n"
   ]
  },
  {
   "cell_type": "code",
   "execution_count": 54,
   "metadata": {
    "scrolled": true
   },
   "outputs": [],
   "source": [
    "# storing cities, states and counties as sets\n",
    "cities = set(us_cities['City'].str.lower())\n",
    "states = set(us_cities['State full'].str.lower())\n",
    "counties = set(us_cities['County'].str.lower())"
   ]
  },
  {
   "cell_type": "code",
   "execution_count": 55,
   "metadata": {},
   "outputs": [
    {
     "name": "stdout",
     "output_type": "stream",
     "text": [
      "18854\n",
      "62\n",
      "1932\n"
     ]
    }
   ],
   "source": [
    "print(len(cities))\n",
    "print(len(states))\n",
    "print(len(counties))"
   ]
  },
  {
   "cell_type": "code",
   "execution_count": 56,
   "metadata": {},
   "outputs": [],
   "source": [
    "# define a function to look up a given word in cities, states, county\n",
    "def gazetteer_lookup(word):\n",
    "    return (word in cities, word in states, word in counties)"
   ]
  },
  {
   "cell_type": "code",
   "execution_count": 57,
   "metadata": {
    "scrolled": false
   },
   "outputs": [
    {
     "name": "stdout",
     "output_type": "stream",
     "text": [
      "(True, True, True)\n",
      "(False, True, True)\n",
      "(True, False, True)\n"
     ]
    }
   ],
   "source": [
    "# sample lookups\n",
    "print(gazetteer_lookup('washington'))\n",
    "print(gazetteer_lookup('utah'))\n",
    "print(gazetteer_lookup('philadelphia'))\n"
   ]
  },
  {
   "cell_type": "markdown",
   "metadata": {},
   "source": [
    "Now let's build some **classifier based chunkers**, i.e. classification models which take in each word (i.e. its features) as input and predicts its IOB label."
   ]
  },
  {
   "cell_type": "markdown",
   "metadata": {},
   "source": [
    "## Classifier Based Chunkers\n",
    "\n",
    "As discussed above, IOB tagging is a **sequence classification task** - given a sequence of words and pos tags, predict the IOB label of the word. \n",
    "\n",
    "One of the main advantages of classifier based chunkers is that we can use a variety of features which we think will be strong indicators of a word's IOB tag. \n",
    "\n",
    "For e.g. if a word is a state/city name such as 'boston', it is very likely an ```B-fromloc.city_name``` or ```B-toloc.city_name```. \n",
    "\n",
    "Similarly, we can expect that the **previous word and the previous POS tag** could help predict the IOB labels of a word; that **if a word is the first or the last in the sentence** may strongly help predict the IOB label, etc. \n",
    "\n",
    "Also, in all sequence classification tasks, one can use the **predicted labels of the previous words** as features, since the classifier usually runs from left to right.\n",
    "\n",
    "\n",
    "The following code implements the Naive Bayes classifer which uses a variety of **word features** for classification. \n",
    "\n",
    "The function ```npchunk_features()```  takes in a sentence and  the word whose features are to be extracted (defined by its index i in the sentence) as input and returns a dictionary of word features as output. It also takes a ```history``` argument - a list of already predicted previous tags to the left of the target word, which is useful if you are using them as features.\n",
    "\n"
   ]
  },
  {
   "cell_type": "code",
   "execution_count": 58,
   "metadata": {},
   "outputs": [],
   "source": [
    "# extracts features for the word at index i in a sentence \n",
    "def npchunk_features(sentence, i, history):\n",
    "    word, pos = sentence[i]\n",
    "    \n",
    "    # the first word has both previous word and previous tag undefined\n",
    "    if i == 0:\n",
    "        prevword, prevpos = \"<START>\", \"<START>\"\n",
    "    else:\n",
    "        prevword, prevpos = sentence[i-1]\n",
    "\n",
    "    # gazetteer lookup features (see section below)\n",
    "    gazetteer = gazetteer_lookup(word)\n",
    "\n",
    "    return {\"pos\": pos, \"prevpos\": prevpos, 'word':word,\n",
    "           'word_is_city': gazetteer[0],\n",
    "           'word_is_state': gazetteer[1],\n",
    "           'word_is_county': gazetteer[2]}"
   ]
  },
  {
   "cell_type": "markdown",
   "metadata": {},
   "source": [
    "Let's now look at word features of some example sentences."
   ]
  },
  {
   "cell_type": "code",
   "execution_count": 59,
   "metadata": {},
   "outputs": [
    {
     "data": {
      "text/plain": [
       "[('what', 'WP'),\n",
       " ('flights', 'NNS'),\n",
       " ('leave', 'VBP'),\n",
       " ('atlanta', 'VBN'),\n",
       " ('at', 'IN'),\n",
       " ('about', 'RB'),\n",
       " ('DIGIT', 'NNP'),\n",
       " ('in', 'IN'),\n",
       " ('the', 'DT'),\n",
       " ('afternoon', 'NN'),\n",
       " ('and', 'CC'),\n",
       " ('arrive', 'NN'),\n",
       " ('in', 'IN'),\n",
       " ('san', 'JJ'),\n",
       " ('francisco', 'NN')]"
      ]
     },
     "execution_count": 59,
     "metadata": {},
     "output_type": "execute_result"
    }
   ],
   "source": [
    "# example sentence\n",
    "sent_pos = train_pos[0]\n",
    "sent_pos"
   ]
  },
  {
   "cell_type": "code",
   "execution_count": 60,
   "metadata": {},
   "outputs": [
    {
     "name": "stdout",
     "output_type": "stream",
     "text": [
      "{'pos': 'WP', 'prevpos': '<START>', 'word': 'what', 'word_is_city': False, 'word_is_state': False, 'word_is_county': False}\n",
      " \n",
      "{'pos': 'NNS', 'prevpos': 'WP', 'word': 'flights', 'word_is_city': False, 'word_is_state': False, 'word_is_county': False}\n",
      " \n",
      "{'pos': 'VBP', 'prevpos': 'NNS', 'word': 'leave', 'word_is_city': False, 'word_is_state': False, 'word_is_county': False}\n",
      " \n",
      "{'pos': 'VBN', 'prevpos': 'VBP', 'word': 'atlanta', 'word_is_city': True, 'word_is_state': False, 'word_is_county': False}\n",
      " \n",
      "{'pos': 'IN', 'prevpos': 'VBN', 'word': 'at', 'word_is_city': False, 'word_is_state': False, 'word_is_county': False}\n",
      " \n",
      "{'pos': 'RB', 'prevpos': 'IN', 'word': 'about', 'word_is_city': False, 'word_is_state': False, 'word_is_county': False}\n",
      " \n",
      "{'pos': 'NNP', 'prevpos': 'RB', 'word': 'DIGIT', 'word_is_city': False, 'word_is_state': False, 'word_is_county': False}\n",
      " \n",
      "{'pos': 'IN', 'prevpos': 'NNP', 'word': 'in', 'word_is_city': False, 'word_is_state': False, 'word_is_county': False}\n",
      " \n",
      "{'pos': 'DT', 'prevpos': 'IN', 'word': 'the', 'word_is_city': False, 'word_is_state': False, 'word_is_county': False}\n",
      " \n",
      "{'pos': 'NN', 'prevpos': 'DT', 'word': 'afternoon', 'word_is_city': False, 'word_is_state': False, 'word_is_county': False}\n",
      " \n",
      "{'pos': 'CC', 'prevpos': 'NN', 'word': 'and', 'word_is_city': False, 'word_is_state': False, 'word_is_county': False}\n",
      " \n",
      "{'pos': 'NN', 'prevpos': 'CC', 'word': 'arrive', 'word_is_city': False, 'word_is_state': False, 'word_is_county': False}\n",
      " \n",
      "{'pos': 'IN', 'prevpos': 'NN', 'word': 'in', 'word_is_city': False, 'word_is_state': False, 'word_is_county': False}\n",
      " \n",
      "{'pos': 'JJ', 'prevpos': 'IN', 'word': 'san', 'word_is_city': False, 'word_is_state': False, 'word_is_county': False}\n",
      " \n",
      "{'pos': 'NN', 'prevpos': 'JJ', 'word': 'francisco', 'word_is_city': True, 'word_is_state': False, 'word_is_county': False}\n",
      " \n"
     ]
    }
   ],
   "source": [
    "# features for sentence sent_pos\n",
    "# each word's features are stored in a dict\n",
    "for i in range(len(sent_pos)):\n",
    "    print(npchunk_features(sent_pos, i, history=[]))\n",
    "    print(' ')"
   ]
  },
  {
   "cell_type": "markdown",
   "metadata": {},
   "source": [
    "Now, we define two classes ```ConsecutiveNPChunkTagger``` and ```ConsecutiveNPChunker```.\n",
    "\n",
    "The ```__init__``` method of the ```ConsecutiveNPChunkTagger``` class creates the ```train_set``` which is a list of labelled training sentences. Each sentence is a list of tuples (featureset, tag) -  each tuple is the featureset (dict) of a word and its label. \n",
    "\n",
    "The list ```history``` contains the list of previously predicted IOB tags, i.e. tags to the left of the target word. We can only use IOB tags to the left of the target word since that's all the tags we have at the time of prediction.\n",
    "\n",
    "The ```__init__``` method takes in an IOB tagged list of train_sents and loops through them. It first untags the IOB tags to generate (word, pos_tag) tuples stored in ```untagged_sent```. These tuples are used to compute the word features.\n",
    "\n",
    "Then for each (word, IOB_tag) in ```tagged_sent```, it computes the word features and appends the feature dict and the tag to ```train_sents```. It further appends the IOB tag to ```history```.\n",
    " \n",
    "The ```tag()``` method simply takes in a sentence as a list of words and predicts the IOB label of each word in the sentence.\n",
    "\n",
    "The ```ConsecutiveNPChunker``` class does all the the uninteresting work of converting between tree-list-tree formats (since NLTK's builtin classifiers need the list format). It takes in a list of sentences as trees, converts each sentence to the list form, and then initialises its tagger using methods already defined in the ```ConsecutiveNPChunkTagger``` class. The ```parse``` method tags the sentence and returns it in the tree format since it is easier to print and read.\n",
    "\n"
   ]
  },
  {
   "cell_type": "code",
   "execution_count": 83,
   "metadata": {},
   "outputs": [],
   "source": [
    "class ConsecutiveNPChunkTagger(nltk.TaggerI): \n",
    "\n",
    "    def __init__(self, train_sents):\n",
    "        train_set = []\n",
    "        for tagged_sent in train_sents:\n",
    "            untagged_sent = nltk.tag.untag(tagged_sent)\n",
    "            history = []\n",
    "            # compute features for each word\n",
    "            for i, (word, tag) in enumerate(tagged_sent):\n",
    "                featureset = npchunk_features(untagged_sent, i, history) \n",
    "                train_set.append( (featureset, tag) )\n",
    "                history.append(tag)\n",
    "        self.classifier = nltk.NaiveBayesClassifier.train(train_set)\n",
    "\n",
    "    def tag(self, sentence):\n",
    "        history = []\n",
    "        for i, word in enumerate(sentence):\n",
    "            featureset = npchunk_features(sentence, i, history)\n",
    "            tag = self.classifier.classify(featureset)\n",
    "            history.append(tag)\n",
    "        return zip(sentence, history)\n",
    "\n",
    "class ConsecutiveNPChunker(nltk.ChunkParserI): \n",
    "    def __init__(self, train_sents):\n",
    "        tagged_sents = [[((w,t),c) for (w,t,c) in\n",
    "                         nltk.chunk.tree2conlltags(sent)]\n",
    "                        for sent in train_sents]\n",
    "        self.tagger = ConsecutiveNPChunkTagger(tagged_sents)\n",
    "\n",
    "    def parse(self, sentence):\n",
    "        tagged_sents = self.tagger.tag(sentence)\n",
    "        conlltags = [(w,t,c) for ((w,t),c) in tagged_sents]\n",
    "        return nltk.chunk.conlltags2tree(conlltags)"
   ]
  },
  {
   "cell_type": "code",
   "execution_count": 84,
   "metadata": {},
   "outputs": [],
   "source": [
    "# training the chunker \n",
    "chunker = ConsecutiveNPChunker(train_trees)"
   ]
  },
  {
   "cell_type": "code",
   "execution_count": 85,
   "metadata": {
    "scrolled": false
   },
   "outputs": [
    {
     "name": "stdout",
     "output_type": "stream",
     "text": [
      "ChunkParse score:\n",
      "    IOB Accuracy:  91.7%%\n",
      "    Precision:     75.9%%\n",
      "    Recall:        85.1%%\n",
      "    F-Measure:     80.3%%\n"
     ]
    }
   ],
   "source": [
    "# evaluate the chunker\n",
    "print(chunker.evaluate(valid_trees))"
   ]
  },
  {
   "cell_type": "markdown",
   "metadata": {},
   "source": [
    "The results have improved significantly compared to the basic unigram/bigram chunkers, and they may improve further if we create better features.\n",
    "\n",
    "For example, if the word is 'DIGIT' (numbers are labelled as 'DIGIT' in this dataset), we can have a feature which indicates that (see example below). In this dataset, 4-digit numbers are encoded as 'DIGITDIGITDIGITDIGIT'."
   ]
  },
  {
   "cell_type": "code",
   "execution_count": 86,
   "metadata": {
    "scrolled": true
   },
   "outputs": [
    {
     "data": {
      "text/plain": [
       "[('do', 'VBP'),\n",
       " ('you', 'PRP'),\n",
       " ('have', 'VB'),\n",
       " ('an', 'DT'),\n",
       " ('DIGITDIGITDIGIT', 'NNP'),\n",
       " ('flight', 'NN'),\n",
       " ('from', 'IN'),\n",
       " ('denver', 'NN'),\n",
       " ('to', 'TO'),\n",
       " ('san', 'VB'),\n",
       " ('francisco', 'NN')]"
      ]
     },
     "execution_count": 86,
     "metadata": {},
     "output_type": "execute_result"
    }
   ],
   "source": [
    "# example of 'DIGITDIGITDIGIT'\n",
    "train_pos[1326]"
   ]
  },
  {
   "cell_type": "markdown",
   "metadata": {},
   "source": [
    "Let's add some of these features and see if the performance improves."
   ]
  },
  {
   "cell_type": "code",
   "execution_count": 87,
   "metadata": {},
   "outputs": [],
   "source": [
    "# extracts features for a given word i in a given sentence \n",
    "# history refers to the previous POS tags in the sentence\n",
    "def npchunk_features(sentence, i, history):\n",
    "    word, pos = sentence[i]\n",
    "    \n",
    "    # the first word has both previous word and previous tag undefined\n",
    "    if i == 0:\n",
    "        prevword, prevpos = \"<START>\", \"<START>\"\n",
    "    else:\n",
    "        prevword, prevpos = sentence[i-1]\n",
    "        \n",
    "    if i == len(sentence)-1:\n",
    "        nextword, nextpos = '<END>', '<END>'\n",
    "    else:\n",
    "        nextword, nextpos = sentence[i+1]\n",
    "\n",
    "    # gazetteer lookup features (see section below)\n",
    "    gazetteer = gazetteer_lookup(word)\n",
    "\n",
    "    # adding word_is_digit feature (boolean)\n",
    "    return {\"pos\": pos, \"prevpos\": prevpos, 'word':word, \n",
    "           'word_is_city': gazetteer[0],\n",
    "           'word_is_state': gazetteer[1],\n",
    "           'word_is_county': gazetteer[2],\n",
    "           'word_is_digit': word in 'DIGITDIGITDIGIT', \n",
    "           'nextword': nextword, \n",
    "           'nextpos': nextpos}"
   ]
  },
  {
   "cell_type": "code",
   "execution_count": 88,
   "metadata": {
    "scrolled": false
   },
   "outputs": [
    {
     "name": "stdout",
     "output_type": "stream",
     "text": [
      "ChunkParse score:\n",
      "    IOB Accuracy:  91.7%%\n",
      "    Precision:     75.9%%\n",
      "    Recall:        85.1%%\n",
      "    F-Measure:     80.3%%\n"
     ]
    }
   ],
   "source": [
    "# train and evaluate the chunker \n",
    "chunker = ConsecutiveNPChunker(train_trees)\n",
    "print(chunker.evaluate(valid_trees))"
   ]
  },
  {
   "cell_type": "markdown",
   "metadata": {},
   "source": [
    "We can also see the most informative features of the NLTK NB classifier."
   ]
  },
  {
   "cell_type": "code",
   "execution_count": 90,
   "metadata": {
    "scrolled": true
   },
   "outputs": [
    {
     "name": "stdout",
     "output_type": "stream",
     "text": [
      "Most Informative Features\n",
      "                     pos = 'JJS'          B-cost : O      =  14237.4 : 1.0\n",
      "                    word = 'after'        B-depa : O      =   5457.6 : 1.0\n",
      "           word_is_digit = True           B-depa : O      =   5138.3 : 1.0\n",
      "                    word = 'pm'           I-depa : O      =   4549.1 : 1.0\n",
      "                    word = 'DIGIT'        B-depa : O      =   3148.4 : 1.0\n",
      "                    word = 'expensive'    I-cost : O      =   2635.1 : 1.0\n",
      "                    word = 'DIGITDIGITDIGIT' B-flig : O      =   2320.5 : 1.0\n",
      "                     pos = 'JJR'          B-cost : O      =   2217.6 : 1.0\n",
      "                 prevpos = 'NNP'          I-depa : B-tolo =   1967.9 : 1.0\n",
      "                     pos = 'NNP'          B-depa : O      =   1841.4 : 1.0\n",
      "                    word = 'DIGITDIGITDIGITDIGIT' B-fare : O      =   1840.8 : 1.0\n",
      "                nextword = 'expensive'    B-cost : O      =   1567.3 : 1.0\n",
      "                nextword = 'pm'           B-depa : O      =   1556.6 : 1.0\n",
      "                 prevpos = 'RBS'          I-cost : O      =   1484.6 : 1.0\n",
      "                 prevpos = 'VBZ'          B-airp : B-tolo =   1428.8 : 1.0\n"
     ]
    }
   ],
   "source": [
    "# most top-N informative features\n",
    "chunker.tagger.classifier.show_most_informative_features(15)"
   ]
  },
  {
   "cell_type": "markdown",
   "metadata": {},
   "source": [
    "We can see that some informative features are ```pos```, ```word```, ```word_is_digit``` etc.\n",
    "\n",
    "When pos=JJS (superlative adjective e.g. *\"cheapest\"*), the ratio of probability of the labels ```B-cost:O``` is about 14237:1. Similarly, the features ```word``` and ```word_is_digit``` are very strong indicators of the labels ```B-depa``` and ```I-depa``` (departure time e.g. *\"after DIGIT pm\"*)."
   ]
  },
  {
   "cell_type": "markdown",
   "metadata": {},
   "source": [
    "We can also try other classifiers that come with NLTK - let's try building a **decision tree**."
   ]
  },
  {
   "cell_type": "code",
   "execution_count": 81,
   "metadata": {},
   "outputs": [],
   "source": [
    "# Decision Tree Classifier\n",
    "class ConsecutiveNPChunkTagger(nltk.TaggerI): \n",
    "\n",
    "    def __init__(self, train_sents):\n",
    "        train_set = []\n",
    "        for tagged_sent in train_sents:\n",
    "            untagged_sent = nltk.tag.untag(tagged_sent)\n",
    "            history = []\n",
    "            # compute features for each word\n",
    "            for i, (word, tag) in enumerate(tagged_sent):\n",
    "                featureset = npchunk_features(untagged_sent, i, history) \n",
    "                train_set.append( (featureset, tag) )\n",
    "                history.append(tag)\n",
    "        self.classifier = nltk.DecisionTreeClassifier.train(train_set)\n",
    "\n",
    "    def tag(self, sentence):\n",
    "        history = []\n",
    "        for i, word in enumerate(sentence):\n",
    "            featureset = npchunk_features(sentence, i, history)\n",
    "            tag = self.classifier.classify(featureset)\n",
    "            history.append(tag)\n",
    "        return zip(sentence, history)\n",
    "\n",
    "class ConsecutiveNPChunker(nltk.ChunkParserI): \n",
    "    def __init__(self, train_sents):\n",
    "        tagged_sents = [[((w,t),c) for (w,t,c) in\n",
    "                         nltk.chunk.tree2conlltags(sent)]\n",
    "                        for sent in train_sents]\n",
    "        self.tagger = ConsecutiveNPChunkTagger(tagged_sents)\n",
    "\n",
    "    def parse(self, sentence):\n",
    "        tagged_sents = self.tagger.tag(sentence)\n",
    "        conlltags = [(w,t,c) for ((w,t),c) in tagged_sents]\n",
    "        return nltk.chunk.conlltags2tree(conlltags)"
   ]
  },
  {
   "cell_type": "code",
   "execution_count": 82,
   "metadata": {
    "scrolled": true
   },
   "outputs": [
    {
     "name": "stdout",
     "output_type": "stream",
     "text": [
      "ChunkParse score:\n",
      "    IOB Accuracy:  94.8%%\n",
      "    Precision:     83.6%%\n",
      "    Recall:        87.0%%\n",
      "    F-Measure:     85.2%%\n"
     ]
    }
   ],
   "source": [
    "# train and evaluate the decision tree chunker\n",
    "tree_chunker = ConsecutiveNPChunker(train_trees)\n",
    "print(tree_chunker.evaluate(valid_trees))"
   ]
  },
  {
   "cell_type": "markdown",
   "metadata": {},
   "source": [
    "The performance of decision trees is much better compared to the Naive Bayes classifier. We can of course also tune the decision tree hyperparameters (maxdepth, num_leaves, min_sample_split etc.), but we'll skip that for now.\n",
    "\n",
    "Having tried some classification models, let us now try another extremely useful and popular model for sequence classification - **conditional random fields**."
   ]
  },
  {
   "cell_type": "markdown",
   "metadata": {},
   "source": [
    "## Conditional Random Fields (CRF)\n"
   ]
  },
  {
   "cell_type": "code",
   "execution_count": 70,
   "metadata": {},
   "outputs": [],
   "source": [
    "# TODO:\n",
    "# Add theory by Ashish\n",
    "# write text to explain the code briefly"
   ]
  },
  {
   "cell_type": "markdown",
   "metadata": {},
   "source": [
    "### Introduction to CRFs"
   ]
  },
  {
   "cell_type": "code",
   "execution_count": 91,
   "metadata": {},
   "outputs": [],
   "source": [
    "# TODO"
   ]
  },
  {
   "cell_type": "markdown",
   "metadata": {},
   "source": [
    "### Building CRFs in sklearn"
   ]
  },
  {
   "cell_type": "markdown",
   "metadata": {},
   "source": [
    "Let's now build a CRF classifier. In sklearn, CRFs are implemented in the library ```sklearn_crfsuite```."
   ]
  },
  {
   "cell_type": "code",
   "execution_count": 92,
   "metadata": {},
   "outputs": [],
   "source": [
    "# import relevant libraries\n",
    "from itertools import chain\n",
    "import sklearn\n",
    "from sklearn.metrics import classification_report, confusion_matrix\n",
    "from sklearn.preprocessing import LabelBinarizer\n",
    "\n",
    "# pip/conda install sklearn_crfsuite\n",
    "import sklearn_crfsuite\n",
    "from sklearn_crfsuite import metrics\n",
    "from sklearn_crfsuite import scorers\n"
   ]
  },
  {
   "cell_type": "markdown",
   "metadata": {},
   "source": [
    "Let's define a function to extract features from a given sentence. This is similar to the ```npchunk_features()``` function defined above, but we'll add some new features as well such as the **suffix** of the word (upto the last 4 characters), **prefix** (upto first 4 characters) etc.\n",
    "\n",
    "The list of features we'll extract is as follows:\n",
    "```\n",
    "{\n",
    "            'word':word,\n",
    "            'pos': pos, \n",
    "            'prevword': prevword,\n",
    "            'prevpos': prevpos,  \n",
    "            'nextword': nextword, \n",
    "            'nextpos': nextpos,\n",
    "            'word_is_city': gazetteer[0],\n",
    "            'word_is_state': gazetteer[1],\n",
    "            'word_is_county': gazetteer[2],\n",
    "            'word_is_digit': word in 'DIGITDIGITDIGIT',\n",
    "            'suff_1': suff_1,  \n",
    "            'suff_2': suff_2,  \n",
    "            'suff_3': suff_3,  \n",
    "            'suff_4': suff_4, \n",
    "            'pref_1': pref_1,  \n",
    "            'pref_2': pref_2,  \n",
    "            'pref_3': pref_3, \n",
    "            'pref_4': pref_4 \n",
    "\n",
    "}\n",
    "```\n",
    "\n"
   ]
  },
  {
   "cell_type": "code",
   "execution_count": 72,
   "metadata": {},
   "outputs": [],
   "source": [
    "# TODO:\n",
    "## other features to consider\n",
    "\n",
    "# airline code\n",
    "# airline name\n",
    "# day name (monday/tuesday etc.) i=1847, 2769\n",
    "# o'clock (word shape): i=379\n",
    "\n",
    "# i=random.randrange(len(train_labels))\n",
    "# train_labels[i]"
   ]
  },
  {
   "cell_type": "code",
   "execution_count": 93,
   "metadata": {},
   "outputs": [],
   "source": [
    "# extract features from a given sentence\n",
    "def word_features(sent, i):\n",
    "    word = sent[i][0]\n",
    "    pos = sent[i][1]\n",
    "    \n",
    "    # first word\n",
    "    if i==0:\n",
    "        prevword = '<START>'\n",
    "        prevpos = '<START>'\n",
    "    else:\n",
    "        prevword = sent[i-1][0]\n",
    "        prevpos = sent[i-1][1]\n",
    "    \n",
    "    # last word\n",
    "    if i == len(sent)-1:\n",
    "        nextword = '<END>'\n",
    "        nextpos = '<END>'\n",
    "    else:\n",
    "        nextword = sent[i+1][0]\n",
    "        nextpos = sent[i+1][1]\n",
    "    \n",
    "    # word is in gazetteer\n",
    "    gazetteer = gazetteer_lookup(word)\n",
    "    \n",
    "    # suffixes and prefixes\n",
    "    pref_1, pref_2, pref_3, pref_4 = word[:1], word[:2], word[:3], word[:4]\n",
    "    suff_1, suff_2, suff_3, suff_4 = word[-1:], word[-2:], word[-3:], word[-4:]\n",
    "    \n",
    "    return {'word':word,\n",
    "            'pos': pos, \n",
    "            'prevword': prevword,\n",
    "            'prevpos': prevpos,  \n",
    "            'nextword': nextword, \n",
    "            'nextpos': nextpos,\n",
    "            'word_is_city': gazetteer[0],\n",
    "            'word_is_state': gazetteer[1],\n",
    "            'word_is_county': gazetteer[2],\n",
    "            'word_is_digit': word in 'DIGITDIGITDIGIT',\n",
    "            'suff_1': suff_1,  \n",
    "            'suff_2': suff_2,  \n",
    "            'suff_3': suff_3,  \n",
    "            'suff_4': suff_4, \n",
    "            'pref_1': pref_1,  \n",
    "            'pref_2': pref_2,  \n",
    "            'pref_3': pref_3, \n",
    "            'pref_4': pref_4 }  "
   ]
  },
  {
   "cell_type": "code",
   "execution_count": 94,
   "metadata": {},
   "outputs": [
    {
     "data": {
      "text/plain": [
       "{'word': 'atlanta',\n",
       " 'pos': 'VBN',\n",
       " 'prevword': 'leave',\n",
       " 'prevpos': 'VBP',\n",
       " 'nextword': 'at',\n",
       " 'nextpos': 'IN',\n",
       " 'word_is_city': True,\n",
       " 'word_is_state': False,\n",
       " 'word_is_county': False,\n",
       " 'word_is_digit': False,\n",
       " 'suff_1': 'a',\n",
       " 'suff_2': 'ta',\n",
       " 'suff_3': 'nta',\n",
       " 'suff_4': 'anta',\n",
       " 'pref_1': 'a',\n",
       " 'pref_2': 'at',\n",
       " 'pref_3': 'atl',\n",
       " 'pref_4': 'atla'}"
      ]
     },
     "execution_count": 94,
     "metadata": {},
     "output_type": "execute_result"
    }
   ],
   "source": [
    "# example features: third word of the first training sentence\n",
    "word_features(train_labels[0], i=3)"
   ]
  },
  {
   "cell_type": "markdown",
   "metadata": {},
   "source": [
    "Let's now write some functions to convert the training, validation and test datasets to the format required by the sklearn CRF classifier. The structure of the training sentences is as given below."
   ]
  },
  {
   "cell_type": "code",
   "execution_count": 95,
   "metadata": {
    "scrolled": true
   },
   "outputs": [
    {
     "data": {
      "text/plain": [
       "[('what', 'WP', 'O'),\n",
       " ('flights', 'NNS', 'O'),\n",
       " ('leave', 'VBP', 'O'),\n",
       " ('atlanta', 'VBN', 'B-fromloc.city_name'),\n",
       " ('at', 'IN', 'O'),\n",
       " ('about', 'RB', 'B-depart_time.time_relative'),\n",
       " ('DIGIT', 'NNP', 'B-depart_time.time'),\n",
       " ('in', 'IN', 'O'),\n",
       " ('the', 'DT', 'O'),\n",
       " ('afternoon', 'NN', 'B-depart_time.period_of_day'),\n",
       " ('and', 'CC', 'O'),\n",
       " ('arrive', 'NN', 'O'),\n",
       " ('in', 'IN', 'O'),\n",
       " ('san', 'JJ', 'B-toloc.city_name'),\n",
       " ('francisco', 'NN', 'I-toloc.city_name')]"
      ]
     },
     "execution_count": 95,
     "metadata": {},
     "output_type": "execute_result"
    }
   ],
   "source": [
    "# structure of train/validation data\n",
    "train_labels[0]"
   ]
  },
  {
   "cell_type": "markdown",
   "metadata": {},
   "source": [
    "We'll define three functions below - ```sent2features()``` creates word features for each word in a given sentence while ```sent2labels``` extracts the label of each word in a given sentence."
   ]
  },
  {
   "cell_type": "code",
   "execution_count": 96,
   "metadata": {},
   "outputs": [],
   "source": [
    "# defining a few more functions to extract featrues, labels, words from sentences\n",
    "\n",
    "def sent2features(sent):\n",
    "    return [word_features(sent, i) for i in range(len(sent))]\n",
    "\n",
    "def sent2labels(sent):\n",
    "    return [label for token, postag, label in sent]\n",
    "\n",
    "def sent2tokens(sent):\n",
    "    return [token for token, postag, label in sent]    "
   ]
  },
  {
   "cell_type": "markdown",
   "metadata": {},
   "source": [
    "Now, let's convert the training data into a standard format - ```X_train``` is a list of sentences, where each sentence is a list of word_features (dicts). The list ```y_train``` is a list of sentences, each sentence further being a list of labels."
   ]
  },
  {
   "cell_type": "code",
   "execution_count": 99,
   "metadata": {},
   "outputs": [],
   "source": [
    " # create training, validation and test sets\n",
    "X_train = [sent2features(s) for s in train_labels]\n",
    "y_train = [sent2labels(s) for s in train_labels]\n",
    "\n",
    "X_valid = [sent2features(s) for s in valid_labels]\n",
    "y_valid = [sent2labels(s) for s in valid_labels]\n",
    "\n",
    "X_test = [sent2features(s) for s in test_labels]\n",
    "y_test = [sent2labels(s) for s in test_labels]"
   ]
  },
  {
   "cell_type": "code",
   "execution_count": 102,
   "metadata": {
    "scrolled": true
   },
   "outputs": [
    {
     "data": {
      "text/plain": [
       "[{'word': 'what',\n",
       "  'pos': 'WP',\n",
       "  'prevword': '<START>',\n",
       "  'prevpos': '<START>',\n",
       "  'nextword': 'flights',\n",
       "  'nextpos': 'NNS',\n",
       "  'word_is_city': False,\n",
       "  'word_is_state': False,\n",
       "  'word_is_county': False,\n",
       "  'word_is_digit': False,\n",
       "  'suff_1': 't',\n",
       "  'suff_2': 'at',\n",
       "  'suff_3': 'hat',\n",
       "  'suff_4': 'what',\n",
       "  'pref_1': 'w',\n",
       "  'pref_2': 'wh',\n",
       "  'pref_3': 'wha',\n",
       "  'pref_4': 'what'},\n",
       " {'word': 'flights',\n",
       "  'pos': 'NNS',\n",
       "  'prevword': 'what',\n",
       "  'prevpos': 'WP',\n",
       "  'nextword': 'leave',\n",
       "  'nextpos': 'VBP',\n",
       "  'word_is_city': False,\n",
       "  'word_is_state': False,\n",
       "  'word_is_county': False,\n",
       "  'word_is_digit': False,\n",
       "  'suff_1': 's',\n",
       "  'suff_2': 'ts',\n",
       "  'suff_3': 'hts',\n",
       "  'suff_4': 'ghts',\n",
       "  'pref_1': 'f',\n",
       "  'pref_2': 'fl',\n",
       "  'pref_3': 'fli',\n",
       "  'pref_4': 'flig'}]"
      ]
     },
     "execution_count": 102,
     "metadata": {},
     "output_type": "execute_result"
    }
   ],
   "source": [
    "# X_train is a list of sentences within which each feature has a corresponding dict of features\n",
    "# first few words (each word has a feature dict) of the first sentence in X_train\n",
    "X_train[0][:2]"
   ]
  },
  {
   "cell_type": "code",
   "execution_count": 105,
   "metadata": {},
   "outputs": [
    {
     "data": {
      "text/plain": [
       "['O',\n",
       " 'O',\n",
       " 'O',\n",
       " 'B-fromloc.city_name',\n",
       " 'O',\n",
       " 'B-depart_time.time_relative',\n",
       " 'B-depart_time.time',\n",
       " 'O',\n",
       " 'O',\n",
       " 'B-depart_time.period_of_day',\n",
       " 'O',\n",
       " 'O',\n",
       " 'O',\n",
       " 'B-toloc.city_name',\n",
       " 'I-toloc.city_name']"
      ]
     },
     "execution_count": 105,
     "metadata": {},
     "output_type": "execute_result"
    }
   ],
   "source": [
    "# labels of the first sentence\n",
    "y_train[0]"
   ]
  },
  {
   "cell_type": "markdown",
   "metadata": {},
   "source": [
    "Let's now fit a CRF with arbitrary hyperparameters. "
   ]
  },
  {
   "cell_type": "code",
   "execution_count": 106,
   "metadata": {},
   "outputs": [
    {
     "data": {
      "text/plain": [
       "CRF(algorithm='lbfgs', all_possible_states=None,\n",
       "  all_possible_transitions=True, averaging=None, c=None, c1=0.01, c2=0.1,\n",
       "  calibration_candidates=None, calibration_eta=None,\n",
       "  calibration_max_trials=None, calibration_rate=None,\n",
       "  calibration_samples=None, delta=None, epsilon=None, error_sensitive=None,\n",
       "  gamma=None, keep_tempfiles=None, linesearch=None, max_iterations=100,\n",
       "  max_linesearch=None, min_freq=None, model_filename=None,\n",
       "  num_memories=None, pa_type=None, period=None, trainer_cls=None,\n",
       "  variance=None, verbose=False)"
      ]
     },
     "execution_count": 106,
     "metadata": {},
     "output_type": "execute_result"
    }
   ],
   "source": [
    "# fitting crf with arbitrary hyperparameters\n",
    "crf = sklearn_crfsuite.CRF(\n",
    "    algorithm='lbfgs',\n",
    "    c1=0.01,\n",
    "    c2=0.1,\n",
    "    max_iterations=100,\n",
    "    all_possible_transitions=True\n",
    ")\n",
    "crf.fit(X_train, y_train)"
   ]
  },
  {
   "cell_type": "markdown",
   "metadata": {},
   "source": [
    "Let's now remove the label 'O' from the list of labels (can be accessed through ```crf.classes_```). This is because we'll only measure the metrics for other less frequent classes."
   ]
  },
  {
   "cell_type": "code",
   "execution_count": 107,
   "metadata": {},
   "outputs": [
    {
     "data": {
      "text/plain": [
       "['B-fromloc.city_name',\n",
       " 'B-depart_time.time_relative',\n",
       " 'B-depart_time.time',\n",
       " 'B-depart_time.period_of_day',\n",
       " 'B-toloc.city_name']"
      ]
     },
     "execution_count": 107,
     "metadata": {},
     "output_type": "execute_result"
    }
   ],
   "source": [
    "# remove 'O' from the labels\n",
    "labels =list(crf.classes_)\n",
    "labels.remove('O')\n",
    "labels[:5]"
   ]
  },
  {
   "cell_type": "markdown",
   "metadata": {},
   "source": [
    "Now let's make predictions using the validation data and evaluate model performance. The metric we'll use for evaluation is ```flat_f1_score``` which is a weighed average of each class' f1-scores."
   ]
  },
  {
   "cell_type": "code",
   "execution_count": 111,
   "metadata": {
    "scrolled": true
   },
   "outputs": [
    {
     "data": {
      "text/plain": [
       "0.9372302908496231"
      ]
     },
     "execution_count": 111,
     "metadata": {},
     "output_type": "execute_result"
    }
   ],
   "source": [
    "# make predictions \n",
    "y_pred = crf.predict(X_valid)\n",
    "metrics.flat_f1_score(y_valid, y_pred,\n",
    "                      average='weighted', labels=labels)"
   ]
  },
  {
   "cell_type": "markdown",
   "metadata": {},
   "source": [
    "The overall score does not give a detailed picture of how respective classes are performing. For e.g. we'd want to know how many ```fromloc.city_name``` and ```toloc.city_name``` are correctly identified. \n",
    "\n",
    "We can see the class-wise evaluation metrics using sklearn's ```classification_report```. The metrics precision, recall and f1-score are as usual, while support represents the number of instances of the respective class in the training data."
   ]
  },
  {
   "cell_type": "code",
   "execution_count": 114,
   "metadata": {
    "scrolled": true
   },
   "outputs": [
    {
     "name": "stdout",
     "output_type": "stream",
     "text": [
      "                              precision    recall  f1-score   support\n",
      "\n",
      "             B-aircraft_code      1.000     1.000     1.000         3\n",
      "              B-airline_code      1.000     0.963     0.981        27\n",
      "              B-airline_name      1.000     0.993     0.996       139\n",
      "              I-airline_name      1.000     0.975     0.987        80\n",
      "              B-airport_code      1.000     0.800     0.889         5\n",
      "              B-airport_name      0.600     0.429     0.500         7\n",
      "              I-airport_name      0.600     0.333     0.429         9\n",
      " B-arrive_date.date_relative      1.000     1.000     1.000         1\n",
      "      B-arrive_date.day_name      0.400     0.143     0.211        14\n",
      "    B-arrive_date.day_number      0.600     0.353     0.444        17\n",
      "    I-arrive_date.day_number      0.000     0.000     0.000         2\n",
      "    B-arrive_date.month_name      0.600     0.353     0.444        17\n",
      "      B-arrive_time.end_time      1.000     0.429     0.600         7\n",
      "      I-arrive_time.end_time      1.000     0.500     0.667         6\n",
      "    B-arrive_time.period_mod      0.000     0.000     0.000         1\n",
      " B-arrive_time.period_of_day      1.000     0.111     0.200         9\n",
      " I-arrive_time.period_of_day      0.000     0.000     0.000         0\n",
      "    B-arrive_time.start_time      1.000     0.571     0.727         7\n",
      "    I-arrive_time.start_time      1.000     1.000     1.000         3\n",
      "          B-arrive_time.time      0.829     0.791     0.810        43\n",
      "          I-arrive_time.time      0.816     0.886     0.849        35\n",
      " B-arrive_time.time_relative      0.829     0.784     0.806        37\n",
      "                 B-city_name      0.680     0.395     0.500        43\n",
      "                 I-city_name      0.400     0.571     0.471         7\n",
      "                B-class_type      0.979     1.000     0.989        47\n",
      "                I-class_type      1.000     1.000     1.000        38\n",
      "                   B-connect      0.889     0.889     0.889         9\n",
      "             B-cost_relative      1.000     1.000     1.000        60\n",
      "             I-cost_relative      1.000     1.000     1.000         4\n",
      "                  B-day_name      0.000     0.000     0.000         0\n",
      "                B-day_number      0.000     0.000     0.000         0\n",
      "                 B-days_code      0.000     0.000     0.000         0\n",
      " B-depart_date.date_relative      0.917     0.846     0.880        13\n",
      "      B-depart_date.day_name      0.924     0.981     0.952       161\n",
      "    B-depart_date.day_number      0.867     0.951     0.907        82\n",
      "    I-depart_date.day_number      0.885     1.000     0.939        23\n",
      "    B-depart_date.month_name      0.855     0.947     0.899        75\n",
      "B-depart_date.today_relative      0.920     1.000     0.958        23\n",
      "I-depart_date.today_relative      0.000     0.000     0.000         0\n",
      "          B-depart_date.year      1.000     1.000     1.000         8\n",
      "      B-depart_time.end_time      0.400     1.000     0.571         2\n",
      "      I-depart_time.end_time      0.333     1.000     0.500         1\n",
      "    B-depart_time.period_mod      0.875     1.000     0.933        14\n",
      " B-depart_time.period_of_day      0.936     0.971     0.953       136\n",
      " I-depart_time.period_of_day      0.000     0.000     0.000         0\n",
      "    B-depart_time.start_time      0.400     1.000     0.571         2\n",
      "    I-depart_time.start_time      1.000     1.000     1.000         1\n",
      "          B-depart_time.time      0.838     0.905     0.870        74\n",
      "          I-depart_time.time      0.907     0.875     0.891        56\n",
      " B-depart_time.time_relative      0.846     0.902     0.873        61\n",
      " I-depart_time.time_relative      0.000     0.000     0.000         0\n",
      "                   B-economy      1.000     1.000     1.000         9\n",
      "                   I-economy      1.000     1.000     1.000         2\n",
      "               B-fare_amount      1.000     1.000     1.000         5\n",
      "               I-fare_amount      1.000     1.000     1.000         5\n",
      "           B-fare_basis_code      1.000     0.938     0.968        16\n",
      "           I-fare_basis_code      0.000     0.000     0.000         0\n",
      "               B-flight_days      1.000     1.000     1.000         4\n",
      "                B-flight_mod      0.971     0.943     0.957        70\n",
      "                I-flight_mod      0.000     0.000     0.000         2\n",
      "             B-flight_number      1.000     0.905     0.950        21\n",
      "               B-flight_stop      0.971     0.895     0.932        38\n",
      "               I-flight_stop      1.000     0.333     0.500         6\n",
      "               B-flight_time      0.909     0.833     0.870        12\n",
      "               I-flight_time      0.833     0.833     0.833         6\n",
      "      B-fromloc.airport_code      1.000     0.800     0.889         5\n",
      "      B-fromloc.airport_name      0.842     0.800     0.821        20\n",
      "      I-fromloc.airport_name      0.909     0.690     0.784        29\n",
      "         B-fromloc.city_name      0.988     0.983     0.986       868\n",
      "         I-fromloc.city_name      0.971     0.993     0.982       134\n",
      "        B-fromloc.state_code      1.000     0.929     0.963        14\n",
      "        B-fromloc.state_name      1.000     1.000     1.000        12\n",
      "        I-fromloc.state_name      1.000     1.000     1.000         3\n",
      "                      B-meal      1.000     1.000     1.000        11\n",
      "                 B-meal_code      0.000     0.000     0.000         0\n",
      "                 I-meal_code      0.000     0.000     0.000         0\n",
      "          B-meal_description      1.000     1.000     1.000        12\n",
      "          I-meal_description      0.000     0.000     0.000         0\n",
      "                       B-mod      0.400     1.000     0.571         2\n",
      "                B-month_name      0.000     0.000     0.000         0\n",
      "                        B-or      1.000     0.950     0.974        20\n",
      "             B-period_of_day      0.000     0.000     0.000         0\n",
      "          B-restriction_code      1.000     1.000     1.000         6\n",
      "          I-restriction_code      1.000     1.000     1.000         1\n",
      " B-return_date.date_relative      0.667     1.000     0.800         2\n",
      " I-return_date.date_relative      0.000     0.000     0.000         0\n",
      "      B-return_date.day_name      0.000     0.000     0.000         0\n",
      "    B-return_date.day_number      0.000     0.000     0.000         1\n",
      "    B-return_date.month_name      0.000     0.000     0.000         1\n",
      "B-return_date.today_relative      0.000     0.000     0.000         0\n",
      "I-return_date.today_relative      0.000     0.000     0.000         0\n",
      "    B-return_time.period_mod      1.000     1.000     1.000         1\n",
      " B-return_time.period_of_day      1.000     0.500     0.667         2\n",
      "                B-round_trip      1.000     1.000     1.000        62\n",
      "                I-round_trip      1.000     1.000     1.000        61\n",
      "                B-state_code      0.333     1.000     0.500         1\n",
      "                B-state_name      0.000     0.000     0.000         0\n",
      "      B-stoploc.airport_name      0.000     0.000     0.000         0\n",
      "         B-stoploc.city_name      0.677     0.815     0.739        54\n",
      "         I-stoploc.city_name      1.000     0.500     0.667         6\n",
      "        B-stoploc.state_code      0.000     0.000     0.000         1\n",
      "                      B-time      0.000     0.000     0.000         0\n",
      "                      I-time      0.000     0.000     0.000         0\n",
      "             B-time_relative      0.000     0.000     0.000         0\n",
      "            B-today_relative      0.000     0.000     0.000         0\n",
      "            I-today_relative      0.000     0.000     0.000         0\n",
      "        B-toloc.airport_code      1.000     1.000     1.000         4\n",
      "        B-toloc.airport_name      0.750     0.818     0.783        11\n",
      "        I-toloc.airport_name      0.632     0.923     0.750        13\n",
      "           B-toloc.city_name      0.970     0.983     0.976       860\n",
      "           I-toloc.city_name      0.983     0.988     0.986       241\n",
      "        B-toloc.country_name      0.000     0.000     0.000         0\n",
      "          B-toloc.state_code      1.000     1.000     1.000        19\n",
      "          B-toloc.state_name      1.000     1.000     1.000        22\n",
      "          I-toloc.state_name      1.000     1.000     1.000         4\n",
      "            B-transport_type      1.000     0.778     0.875         9\n",
      "            I-transport_type      1.000     1.000     1.000         4\n",
      "\n",
      "                 avg / total      0.942     0.939     0.937      4121\n",
      "\n"
     ]
    }
   ],
   "source": [
    "# class-wise scores\n",
    "sorted_labels = sorted(\n",
    "    labels,\n",
    "    key=lambda name: (name[1:], name[0])\n",
    ")\n",
    "print(metrics.flat_classification_report(\n",
    "    y_valid, y_pred, labels=sorted_labels, digits=3\n",
    "))"
   ]
  },
  {
   "cell_type": "markdown",
   "metadata": {},
   "source": [
    "The classification report tells us that:\n",
    "- The overall f1-score (a weighted average of overall precision and recall) is 93.7%\n",
    "- The *important* classes, i.e. those with high frequency such as ```B-fromloc.city_name```, ```B-toloc.city_name```, ```B-depart_date.day_name``` etc. are performing well\n",
    "\n",
    "Let's now try tuning the hyperparameters of CRF using grid search CV."
   ]
  },
  {
   "cell_type": "code",
   "execution_count": 116,
   "metadata": {},
   "outputs": [],
   "source": [
    "# hyperparameter tuning\n",
    "\n",
    "# define fixed parameters and parameters to search\n",
    "crf = sklearn_crfsuite.CRF(\n",
    "    algorithm='lbfgs',\n",
    "    max_iterations=100,\n",
    "    all_possible_transitions=True\n",
    ")\n",
    "\n",
    "# parameters to tune\n",
    "params_space = {\n",
    "    'c1': [0.01, 0.1, 1],\n",
    "    'c2': [0.01, 0.1, 1]\n",
    "}\n",
    "\n",
    "# use the same metric for evaluation\n",
    "f1_scorer = scorers.make_scorer(metrics.flat_f1_score,\n",
    "                        average='weighted', labels=labels)"
   ]
  },
  {
   "cell_type": "code",
   "execution_count": 117,
   "metadata": {
    "scrolled": true
   },
   "outputs": [
    {
     "name": "stdout",
     "output_type": "stream",
     "text": [
      "Fitting 3 folds for each of 9 candidates, totalling 27 fits\n"
     ]
    },
    {
     "name": "stderr",
     "output_type": "stream",
     "text": [
      "[Parallel(n_jobs=-1)]: Done  27 out of  27 | elapsed: 20.8min finished\n"
     ]
    },
    {
     "data": {
      "text/plain": [
       "GridSearchCV(cv=3, error_score='raise',\n",
       "       estimator=CRF(algorithm='lbfgs', all_possible_states=None,\n",
       "  all_possible_transitions=True, averaging=None, c=None, c1=None, c2=None,\n",
       "  calibration_candidates=None, calibration_eta=None,\n",
       "  calibration_max_trials=None, calibration_rate=None,\n",
       "  calibration_samples=None, delta=None, epsilon=None, error...e,\n",
       "  num_memories=None, pa_type=None, period=None, trainer_cls=None,\n",
       "  variance=None, verbose=False),\n",
       "       fit_params=None, iid=True, n_jobs=-1,\n",
       "       param_grid={'c1': [0.01, 0.1, 1], 'c2': [0.01, 0.1, 1]},\n",
       "       pre_dispatch='2*n_jobs', refit=True, return_train_score=True,\n",
       "       scoring=make_scorer(flat_f1_score, average=weighted, labels=['B-fromloc.city_name', 'B-depart_time.time_relative', 'B-depart_time.time', 'B-depart_time.period_of_day', 'B-toloc.city_name', 'I-toloc.city_name', 'B-airline_name', 'I-airline_name', 'B-flight_mod', 'B-cost_relative', 'B-round_trip', 'I-...te_code', 'I-arrive_time.start_time', 'B-state_name', 'I-today_relative', 'B-stoploc.airport_name']),\n",
       "       verbose=1)"
      ]
     },
     "execution_count": 117,
     "metadata": {},
     "output_type": "execute_result"
    }
   ],
   "source": [
    "# instantiate a GridSearchCV object\n",
    "rs = GridSearchCV(crf, \n",
    "                  params_space,\n",
    "                  cv=3,\n",
    "                  verbose=1,\n",
    "                  n_jobs=-1,\n",
    "                  scoring=f1_scorer, \n",
    "                  return_train_score=True)\n",
    "# fit\n",
    "rs.fit(X_train, y_train)"
   ]
  },
  {
   "cell_type": "code",
   "execution_count": 118,
   "metadata": {
    "scrolled": true
   },
   "outputs": [
    {
     "data": {
      "text/html": [
       "<div>\n",
       "<style scoped>\n",
       "    .dataframe tbody tr th:only-of-type {\n",
       "        vertical-align: middle;\n",
       "    }\n",
       "\n",
       "    .dataframe tbody tr th {\n",
       "        vertical-align: top;\n",
       "    }\n",
       "\n",
       "    .dataframe thead th {\n",
       "        text-align: right;\n",
       "    }\n",
       "</style>\n",
       "<table border=\"1\" class=\"dataframe\">\n",
       "  <thead>\n",
       "    <tr style=\"text-align: right;\">\n",
       "      <th></th>\n",
       "      <th>mean_fit_time</th>\n",
       "      <th>mean_score_time</th>\n",
       "      <th>mean_test_score</th>\n",
       "      <th>mean_train_score</th>\n",
       "      <th>param_c1</th>\n",
       "      <th>param_c2</th>\n",
       "      <th>params</th>\n",
       "      <th>rank_test_score</th>\n",
       "      <th>split0_test_score</th>\n",
       "      <th>split0_train_score</th>\n",
       "      <th>split1_test_score</th>\n",
       "      <th>split1_train_score</th>\n",
       "      <th>split2_test_score</th>\n",
       "      <th>split2_train_score</th>\n",
       "      <th>std_fit_time</th>\n",
       "      <th>std_score_time</th>\n",
       "      <th>std_test_score</th>\n",
       "      <th>std_train_score</th>\n",
       "    </tr>\n",
       "  </thead>\n",
       "  <tbody>\n",
       "    <tr>\n",
       "      <th>0</th>\n",
       "      <td>175.107680</td>\n",
       "      <td>1.139157</td>\n",
       "      <td>0.929098</td>\n",
       "      <td>0.979525</td>\n",
       "      <td>0.01</td>\n",
       "      <td>0.01</td>\n",
       "      <td>{'c1': 0.01, 'c2': 0.01}</td>\n",
       "      <td>4</td>\n",
       "      <td>0.930426</td>\n",
       "      <td>0.978361</td>\n",
       "      <td>0.922370</td>\n",
       "      <td>0.980400</td>\n",
       "      <td>0.934504</td>\n",
       "      <td>0.979812</td>\n",
       "      <td>16.317828</td>\n",
       "      <td>0.041017</td>\n",
       "      <td>0.005042</td>\n",
       "      <td>0.000857</td>\n",
       "    </tr>\n",
       "    <tr>\n",
       "      <th>1</th>\n",
       "      <td>175.164528</td>\n",
       "      <td>1.165171</td>\n",
       "      <td>0.930745</td>\n",
       "      <td>0.976883</td>\n",
       "      <td>0.01</td>\n",
       "      <td>0.1</td>\n",
       "      <td>{'c1': 0.01, 'c2': 0.1}</td>\n",
       "      <td>2</td>\n",
       "      <td>0.930870</td>\n",
       "      <td>0.975267</td>\n",
       "      <td>0.926590</td>\n",
       "      <td>0.977576</td>\n",
       "      <td>0.934779</td>\n",
       "      <td>0.977806</td>\n",
       "      <td>17.052589</td>\n",
       "      <td>0.041105</td>\n",
       "      <td>0.003344</td>\n",
       "      <td>0.001147</td>\n",
       "    </tr>\n",
       "    <tr>\n",
       "      <th>2</th>\n",
       "      <td>176.783741</td>\n",
       "      <td>1.250730</td>\n",
       "      <td>0.917357</td>\n",
       "      <td>0.949630</td>\n",
       "      <td>0.01</td>\n",
       "      <td>1</td>\n",
       "      <td>{'c1': 0.01, 'c2': 1}</td>\n",
       "      <td>7</td>\n",
       "      <td>0.920278</td>\n",
       "      <td>0.950655</td>\n",
       "      <td>0.913100</td>\n",
       "      <td>0.949025</td>\n",
       "      <td>0.918695</td>\n",
       "      <td>0.949209</td>\n",
       "      <td>16.999946</td>\n",
       "      <td>0.045911</td>\n",
       "      <td>0.003079</td>\n",
       "      <td>0.000729</td>\n",
       "    </tr>\n",
       "    <tr>\n",
       "      <th>3</th>\n",
       "      <td>175.810333</td>\n",
       "      <td>1.089805</td>\n",
       "      <td>0.930336</td>\n",
       "      <td>0.978921</td>\n",
       "      <td>0.1</td>\n",
       "      <td>0.01</td>\n",
       "      <td>{'c1': 0.1, 'c2': 0.01}</td>\n",
       "      <td>3</td>\n",
       "      <td>0.931663</td>\n",
       "      <td>0.978314</td>\n",
       "      <td>0.923990</td>\n",
       "      <td>0.979166</td>\n",
       "      <td>0.935359</td>\n",
       "      <td>0.979282</td>\n",
       "      <td>17.909704</td>\n",
       "      <td>0.052408</td>\n",
       "      <td>0.004735</td>\n",
       "      <td>0.000432</td>\n",
       "    </tr>\n",
       "    <tr>\n",
       "      <th>4</th>\n",
       "      <td>176.321819</td>\n",
       "      <td>1.142061</td>\n",
       "      <td>0.931887</td>\n",
       "      <td>0.975356</td>\n",
       "      <td>0.1</td>\n",
       "      <td>0.1</td>\n",
       "      <td>{'c1': 0.1, 'c2': 0.1}</td>\n",
       "      <td>1</td>\n",
       "      <td>0.932268</td>\n",
       "      <td>0.973995</td>\n",
       "      <td>0.926484</td>\n",
       "      <td>0.975931</td>\n",
       "      <td>0.936914</td>\n",
       "      <td>0.976143</td>\n",
       "      <td>17.602932</td>\n",
       "      <td>0.029221</td>\n",
       "      <td>0.004266</td>\n",
       "      <td>0.000967</td>\n",
       "    </tr>\n",
       "    <tr>\n",
       "      <th>5</th>\n",
       "      <td>179.029658</td>\n",
       "      <td>1.162648</td>\n",
       "      <td>0.916126</td>\n",
       "      <td>0.947883</td>\n",
       "      <td>0.1</td>\n",
       "      <td>1</td>\n",
       "      <td>{'c1': 0.1, 'c2': 1}</td>\n",
       "      <td>8</td>\n",
       "      <td>0.917787</td>\n",
       "      <td>0.948426</td>\n",
       "      <td>0.912097</td>\n",
       "      <td>0.947578</td>\n",
       "      <td>0.918497</td>\n",
       "      <td>0.947646</td>\n",
       "      <td>18.214452</td>\n",
       "      <td>0.058082</td>\n",
       "      <td>0.002865</td>\n",
       "      <td>0.000385</td>\n",
       "    </tr>\n",
       "    <tr>\n",
       "      <th>6</th>\n",
       "      <td>177.969810</td>\n",
       "      <td>1.041436</td>\n",
       "      <td>0.920230</td>\n",
       "      <td>0.949525</td>\n",
       "      <td>1</td>\n",
       "      <td>0.01</td>\n",
       "      <td>{'c1': 1, 'c2': 0.01}</td>\n",
       "      <td>5</td>\n",
       "      <td>0.917660</td>\n",
       "      <td>0.949051</td>\n",
       "      <td>0.920771</td>\n",
       "      <td>0.950010</td>\n",
       "      <td>0.922260</td>\n",
       "      <td>0.949515</td>\n",
       "      <td>17.576340</td>\n",
       "      <td>0.026415</td>\n",
       "      <td>0.001916</td>\n",
       "      <td>0.000392</td>\n",
       "    </tr>\n",
       "    <tr>\n",
       "      <th>7</th>\n",
       "      <td>178.424093</td>\n",
       "      <td>1.022507</td>\n",
       "      <td>0.918543</td>\n",
       "      <td>0.945967</td>\n",
       "      <td>1</td>\n",
       "      <td>0.1</td>\n",
       "      <td>{'c1': 1, 'c2': 0.1}</td>\n",
       "      <td>6</td>\n",
       "      <td>0.914650</td>\n",
       "      <td>0.945374</td>\n",
       "      <td>0.918630</td>\n",
       "      <td>0.948256</td>\n",
       "      <td>0.922353</td>\n",
       "      <td>0.944271</td>\n",
       "      <td>18.788600</td>\n",
       "      <td>0.043835</td>\n",
       "      <td>0.003145</td>\n",
       "      <td>0.001680</td>\n",
       "    </tr>\n",
       "    <tr>\n",
       "      <th>8</th>\n",
       "      <td>140.050468</td>\n",
       "      <td>0.648010</td>\n",
       "      <td>0.904169</td>\n",
       "      <td>0.928578</td>\n",
       "      <td>1</td>\n",
       "      <td>1</td>\n",
       "      <td>{'c1': 1, 'c2': 1}</td>\n",
       "      <td>9</td>\n",
       "      <td>0.905066</td>\n",
       "      <td>0.928574</td>\n",
       "      <td>0.905441</td>\n",
       "      <td>0.931405</td>\n",
       "      <td>0.901998</td>\n",
       "      <td>0.925755</td>\n",
       "      <td>15.592425</td>\n",
       "      <td>0.120189</td>\n",
       "      <td>0.001542</td>\n",
       "      <td>0.002306</td>\n",
       "    </tr>\n",
       "  </tbody>\n",
       "</table>\n",
       "</div>"
      ],
      "text/plain": [
       "   mean_fit_time  mean_score_time  mean_test_score  mean_train_score param_c1  \\\n",
       "0     175.107680         1.139157         0.929098          0.979525     0.01   \n",
       "1     175.164528         1.165171         0.930745          0.976883     0.01   \n",
       "2     176.783741         1.250730         0.917357          0.949630     0.01   \n",
       "3     175.810333         1.089805         0.930336          0.978921      0.1   \n",
       "4     176.321819         1.142061         0.931887          0.975356      0.1   \n",
       "5     179.029658         1.162648         0.916126          0.947883      0.1   \n",
       "6     177.969810         1.041436         0.920230          0.949525        1   \n",
       "7     178.424093         1.022507         0.918543          0.945967        1   \n",
       "8     140.050468         0.648010         0.904169          0.928578        1   \n",
       "\n",
       "  param_c2                    params  rank_test_score  split0_test_score  \\\n",
       "0     0.01  {'c1': 0.01, 'c2': 0.01}                4           0.930426   \n",
       "1      0.1   {'c1': 0.01, 'c2': 0.1}                2           0.930870   \n",
       "2        1     {'c1': 0.01, 'c2': 1}                7           0.920278   \n",
       "3     0.01   {'c1': 0.1, 'c2': 0.01}                3           0.931663   \n",
       "4      0.1    {'c1': 0.1, 'c2': 0.1}                1           0.932268   \n",
       "5        1      {'c1': 0.1, 'c2': 1}                8           0.917787   \n",
       "6     0.01     {'c1': 1, 'c2': 0.01}                5           0.917660   \n",
       "7      0.1      {'c1': 1, 'c2': 0.1}                6           0.914650   \n",
       "8        1        {'c1': 1, 'c2': 1}                9           0.905066   \n",
       "\n",
       "   split0_train_score  split1_test_score  split1_train_score  \\\n",
       "0            0.978361           0.922370            0.980400   \n",
       "1            0.975267           0.926590            0.977576   \n",
       "2            0.950655           0.913100            0.949025   \n",
       "3            0.978314           0.923990            0.979166   \n",
       "4            0.973995           0.926484            0.975931   \n",
       "5            0.948426           0.912097            0.947578   \n",
       "6            0.949051           0.920771            0.950010   \n",
       "7            0.945374           0.918630            0.948256   \n",
       "8            0.928574           0.905441            0.931405   \n",
       "\n",
       "   split2_test_score  split2_train_score  std_fit_time  std_score_time  \\\n",
       "0           0.934504            0.979812     16.317828        0.041017   \n",
       "1           0.934779            0.977806     17.052589        0.041105   \n",
       "2           0.918695            0.949209     16.999946        0.045911   \n",
       "3           0.935359            0.979282     17.909704        0.052408   \n",
       "4           0.936914            0.976143     17.602932        0.029221   \n",
       "5           0.918497            0.947646     18.214452        0.058082   \n",
       "6           0.922260            0.949515     17.576340        0.026415   \n",
       "7           0.922353            0.944271     18.788600        0.043835   \n",
       "8           0.901998            0.925755     15.592425        0.120189   \n",
       "\n",
       "   std_test_score  std_train_score  \n",
       "0        0.005042         0.000857  \n",
       "1        0.003344         0.001147  \n",
       "2        0.003079         0.000729  \n",
       "3        0.004735         0.000432  \n",
       "4        0.004266         0.000967  \n",
       "5        0.002865         0.000385  \n",
       "6        0.001916         0.000392  \n",
       "7        0.003145         0.001680  \n",
       "8        0.001542         0.002306  "
      ]
     },
     "execution_count": 118,
     "metadata": {},
     "output_type": "execute_result"
    }
   ],
   "source": [
    "# store CV results in a DF\n",
    "cv_results = pd.DataFrame(rs.cv_results_)\n",
    "cv_results"
   ]
  },
  {
   "cell_type": "code",
   "execution_count": 121,
   "metadata": {},
   "outputs": [
    {
     "data": {
      "image/png": "[encoded data removed]",
      "text/plain": [
       "<Figure size 1152x432 with 3 Axes>"
      ]
     },
     "metadata": {},
     "output_type": "display_data"
    }
   ],
   "source": [
    "# plotting CV results\n",
    "# for each value of c2, make a plot of c1 versus train and test f1-score\n",
    "\n",
    "plt.figure(figsize=(16,6))\n",
    "\n",
    "for i, val in enumerate(params_space['c2']):\n",
    "   \n",
    "    # subplot 1/3/i\n",
    "    plt.subplot(1, 3, i+1)\n",
    "    c2_subset = cv_results[cv_results['param_c2']==val]\n",
    "\n",
    "    plt.plot(c2_subset[\"param_c1\"], c2_subset[\"mean_test_score\"])\n",
    "    plt.plot(c2_subset[\"param_c1\"], c2_subset[\"mean_train_score\"])\n",
    "    plt.xlabel('c1')\n",
    "    plt.ylabel('Mean F-score')\n",
    "    plt.title(\"c2={0}\".format(val))\n",
    "    plt.ylim([0.80, 1])\n",
    "    plt.legend(['test score', 'train score'], loc='upper left')\n",
    "    plt.xscale('log')"
   ]
  },
  {
   "cell_type": "markdown",
   "metadata": {},
   "source": [
    "The plot above shows that at very low values of c_1, the model overfits, as shown by the difference in training and test performance. Also, the test score seems to be slightly higher for c_2 = 0.1.\n",
    "\n",
    "Let's thus choose c_1 = 0.1 and c_2 = 0.1. "
   ]
  },
  {
   "cell_type": "code",
   "execution_count": 120,
   "metadata": {
    "scrolled": true
   },
   "outputs": [
    {
     "data": {
      "text/plain": [
       "CRF(algorithm='lbfgs', all_possible_states=None,\n",
       "  all_possible_transitions=True, averaging=None, c=None, c1=0.1, c2=0.1,\n",
       "  calibration_candidates=None, calibration_eta=None,\n",
       "  calibration_max_trials=None, calibration_rate=None,\n",
       "  calibration_samples=None, delta=None, epsilon=None, error_sensitive=None,\n",
       "  gamma=None, keep_tempfiles=None, linesearch=None, max_iterations=100,\n",
       "  max_linesearch=None, min_freq=None, model_filename=None,\n",
       "  num_memories=None, pa_type=None, period=None, trainer_cls=None,\n",
       "  variance=None, verbose=False)"
      ]
     },
     "execution_count": 120,
     "metadata": {},
     "output_type": "execute_result"
    }
   ],
   "source": [
    "# building a model with optimal hyperparams\n",
    "crf = sklearn_crfsuite.CRF(\n",
    "    algorithm='lbfgs',\n",
    "    c1=0.1,\n",
    "    c2=0.1,\n",
    "    max_iterations=100,\n",
    "    all_possible_transitions=True\n",
    ")\n",
    "crf.fit(X_train, y_train)"
   ]
  },
  {
   "cell_type": "markdown",
   "metadata": {},
   "source": [
    "Having tuned the model, we can now save (dump) it to a a pickle file so that we can simply import it and use later for predictions."
   ]
  },
  {
   "cell_type": "code",
   "execution_count": 122,
   "metadata": {},
   "outputs": [],
   "source": [
    "# save the model to a pickle file\n",
    "import _pickle as cPickle\n",
    "\n",
    "with open('tuned_crf_classifier.pkl', 'wb') as clf:\n",
    "    try:\n",
    "        cPickle.dump(crf, clf)\n",
    "    except Exception as e:\n",
    "        print(e)\n",
    "    finally:\n",
    "        clf.close()   "
   ]
  },
  {
   "cell_type": "markdown",
   "metadata": {},
   "source": [
    "Now let's load the dumped model from the pkl file and use it for predictions."
   ]
  },
  {
   "cell_type": "code",
   "execution_count": 69,
   "metadata": {},
   "outputs": [],
   "source": [
    "# load the trained model\n",
    "import _pickle as cPickle\n",
    "\n",
    "with open('tuned_crf_classifier.pkl', 'rb') as fid:\n",
    "    crf = cPickle.load(fid)"
   ]
  },
  {
   "cell_type": "markdown",
   "metadata": {},
   "source": [
    "### Making Predictions \n",
    "\n",
    "Let's now use the trained model to make predictions. "
   ]
  },
  {
   "cell_type": "code",
   "execution_count": 159,
   "metadata": {
    "scrolled": false
   },
   "outputs": [
    {
     "data": {
      "text/plain": [
       "0.9358802464006175"
      ]
     },
     "execution_count": 159,
     "metadata": {},
     "output_type": "execute_result"
    }
   ],
   "source": [
    "# remove 'O' from the labels\n",
    "labels =list(crf.classes_)\n",
    "labels.remove('O')\n",
    "\n",
    "# make predictions on validation data\n",
    "y_pred = crf.predict(X_valid)\n",
    "metrics.flat_f1_score(y_valid, y_pred,\n",
    "                      average='weighted', labels=labels)"
   ]
  },
  {
   "cell_type": "markdown",
   "metadata": {},
   "source": [
    "The overall f1-score is comparable to that on training (cross-validation) data (which was about 93% on the test folds and 97% on training folds). Let's look at class-wise metrics as well."
   ]
  },
  {
   "cell_type": "code",
   "execution_count": 124,
   "metadata": {
    "scrolled": false
   },
   "outputs": [
    {
     "name": "stdout",
     "output_type": "stream",
     "text": [
      "                              precision    recall  f1-score   support\n",
      "\n",
      "             B-aircraft_code      1.000     1.000     1.000         3\n",
      "              B-airline_code      1.000     0.963     0.981        27\n",
      "              B-airline_name      1.000     0.993     0.996       139\n",
      "              I-airline_name      1.000     0.975     0.987        80\n",
      "              B-airport_code      0.800     0.800     0.800         5\n",
      "              B-airport_name      0.500     0.429     0.462         7\n",
      "              I-airport_name      0.667     0.444     0.533         9\n",
      " B-arrive_date.date_relative      0.000     0.000     0.000         1\n",
      "      B-arrive_date.day_name      0.250     0.071     0.111        14\n",
      "    B-arrive_date.day_number      0.600     0.353     0.444        17\n",
      "    I-arrive_date.day_number      0.000     0.000     0.000         2\n",
      "    B-arrive_date.month_name      0.600     0.353     0.444        17\n",
      "      B-arrive_time.end_time      1.000     0.571     0.727         7\n",
      "      I-arrive_time.end_time      1.000     0.667     0.800         6\n",
      "    B-arrive_time.period_mod      0.000     0.000     0.000         1\n",
      " B-arrive_time.period_of_day      1.000     0.111     0.200         9\n",
      " I-arrive_time.period_of_day      0.000     0.000     0.000         0\n",
      "    B-arrive_time.start_time      1.000     0.571     0.727         7\n",
      "    I-arrive_time.start_time      1.000     1.000     1.000         3\n",
      "          B-arrive_time.time      0.821     0.744     0.780        43\n",
      "          I-arrive_time.time      0.811     0.857     0.833        35\n",
      " B-arrive_time.time_relative      0.829     0.784     0.806        37\n",
      "                 B-city_name      0.692     0.419     0.522        43\n",
      "                 I-city_name      0.400     0.571     0.471         7\n",
      "                B-class_type      0.979     0.979     0.979        47\n",
      "                I-class_type      1.000     1.000     1.000        38\n",
      "                   B-connect      0.889     0.889     0.889         9\n",
      "             B-cost_relative      1.000     1.000     1.000        60\n",
      "             I-cost_relative      0.800     1.000     0.889         4\n",
      "                  B-day_name      0.000     0.000     0.000         0\n",
      "                B-day_number      0.000     0.000     0.000         0\n",
      "                 B-days_code      0.000     0.000     0.000         0\n",
      " B-depart_date.date_relative      0.786     0.846     0.815        13\n",
      "      B-depart_date.day_name      0.919     0.981     0.949       161\n",
      "    B-depart_date.day_number      0.867     0.951     0.907        82\n",
      "    I-depart_date.day_number      0.880     0.957     0.917        23\n",
      "    B-depart_date.month_name      0.857     0.960     0.906        75\n",
      "B-depart_date.today_relative      0.920     1.000     0.958        23\n",
      "I-depart_date.today_relative      0.000     0.000     0.000         0\n",
      "          B-depart_date.year      1.000     1.000     1.000         8\n",
      "      B-depart_time.end_time      0.400     1.000     0.571         2\n",
      "      I-depart_time.end_time      0.333     1.000     0.500         1\n",
      "    B-depart_time.period_mod      0.867     0.929     0.897        14\n",
      " B-depart_time.period_of_day      0.929     0.956     0.942       136\n",
      " I-depart_time.period_of_day      0.000     0.000     0.000         0\n",
      "    B-depart_time.start_time      0.400     1.000     0.571         2\n",
      "    I-depart_time.start_time      1.000     1.000     1.000         1\n",
      "          B-depart_time.time      0.838     0.905     0.870        74\n",
      "          I-depart_time.time      0.907     0.875     0.891        56\n",
      " B-depart_time.time_relative      0.859     0.902     0.880        61\n",
      " I-depart_time.time_relative      0.000     0.000     0.000         0\n",
      "                   B-economy      1.000     1.000     1.000         9\n",
      "                   I-economy      1.000     1.000     1.000         2\n",
      "               B-fare_amount      0.833     1.000     0.909         5\n",
      "               I-fare_amount      1.000     1.000     1.000         5\n",
      "           B-fare_basis_code      1.000     0.938     0.968        16\n",
      "           I-fare_basis_code      0.000     0.000     0.000         0\n",
      "               B-flight_days      1.000     1.000     1.000         4\n",
      "                B-flight_mod      0.971     0.943     0.957        70\n",
      "                I-flight_mod      0.000     0.000     0.000         2\n",
      "             B-flight_number      1.000     0.905     0.950        21\n",
      "               B-flight_stop      0.972     0.921     0.946        38\n",
      "               I-flight_stop      1.000     0.333     0.500         6\n",
      "               B-flight_time      0.909     0.833     0.870        12\n",
      "               I-flight_time      0.833     0.833     0.833         6\n",
      "      B-fromloc.airport_code      1.000     0.800     0.889         5\n",
      "      B-fromloc.airport_name      0.842     0.800     0.821        20\n",
      "      I-fromloc.airport_name      0.909     0.690     0.784        29\n",
      "         B-fromloc.city_name      0.987     0.984     0.986       868\n",
      "         I-fromloc.city_name      0.971     1.000     0.985       134\n",
      "        B-fromloc.state_code      1.000     0.929     0.963        14\n",
      "        B-fromloc.state_name      1.000     1.000     1.000        12\n",
      "        I-fromloc.state_name      1.000     1.000     1.000         3\n",
      "                      B-meal      1.000     1.000     1.000        11\n",
      "                 B-meal_code      0.000     0.000     0.000         0\n",
      "                 I-meal_code      0.000     0.000     0.000         0\n",
      "          B-meal_description      1.000     1.000     1.000        12\n",
      "          I-meal_description      0.000     0.000     0.000         0\n",
      "                       B-mod      0.400     1.000     0.571         2\n",
      "                B-month_name      0.000     0.000     0.000         0\n",
      "                        B-or      1.000     0.950     0.974        20\n",
      "             B-period_of_day      0.000     0.000     0.000         0\n",
      "          B-restriction_code      1.000     0.667     0.800         6\n",
      "          I-restriction_code      1.000     1.000     1.000         1\n",
      " B-return_date.date_relative      0.500     0.500     0.500         2\n",
      " I-return_date.date_relative      0.000     0.000     0.000         0\n",
      "      B-return_date.day_name      0.000     0.000     0.000         0\n",
      "    B-return_date.day_number      0.000     0.000     0.000         1\n",
      "    B-return_date.month_name      0.000     0.000     0.000         1\n",
      "B-return_date.today_relative      0.000     0.000     0.000         0\n",
      "I-return_date.today_relative      0.000     0.000     0.000         0\n",
      "    B-return_time.period_mod      1.000     1.000     1.000         1\n",
      " B-return_time.period_of_day      1.000     0.500     0.667         2\n",
      "                B-round_trip      1.000     1.000     1.000        62\n",
      "                I-round_trip      1.000     1.000     1.000        61\n",
      "                B-state_code      0.333     1.000     0.500         1\n",
      "                B-state_name      0.000     0.000     0.000         0\n",
      "      B-stoploc.airport_name      0.000     0.000     0.000         0\n",
      "         B-stoploc.city_name      0.688     0.815     0.746        54\n",
      "         I-stoploc.city_name      1.000     0.500     0.667         6\n",
      "        B-stoploc.state_code      0.000     0.000     0.000         1\n",
      "                      B-time      0.000     0.000     0.000         0\n",
      "                      I-time      0.000     0.000     0.000         0\n",
      "             B-time_relative      0.000     0.000     0.000         0\n",
      "            B-today_relative      0.000     0.000     0.000         0\n",
      "            I-today_relative      0.000     0.000     0.000         0\n",
      "        B-toloc.airport_code      1.000     1.000     1.000         4\n",
      "        B-toloc.airport_name      0.750     0.818     0.783        11\n",
      "        I-toloc.airport_name      0.632     0.923     0.750        13\n",
      "           B-toloc.city_name      0.971     0.981     0.976       860\n",
      "           I-toloc.city_name      0.988     0.988     0.988       241\n",
      "        B-toloc.country_name      0.000     0.000     0.000         0\n",
      "          B-toloc.state_code      1.000     1.000     1.000        19\n",
      "          B-toloc.state_name      1.000     1.000     1.000        22\n",
      "          I-toloc.state_name      1.000     1.000     1.000         4\n",
      "            B-transport_type      1.000     0.778     0.875         9\n",
      "            I-transport_type      1.000     1.000     1.000         4\n",
      "\n",
      "                 avg / total      0.940     0.938     0.936      4121\n",
      "\n"
     ]
    }
   ],
   "source": [
    "# class-wise scores on validation data\n",
    "sorted_labels = sorted(\n",
    "    labels,\n",
    "    key=lambda name: (name[1:], name[0])\n",
    ")\n",
    "print(metrics.flat_classification_report(\n",
    "    y_valid, y_pred, labels=sorted_labels, digits=3\n",
    "))"
   ]
  },
  {
   "cell_type": "markdown",
   "metadata": {},
   "source": [
    "Let's also make predictions on the test set and see the results. "
   ]
  },
  {
   "cell_type": "code",
   "execution_count": 160,
   "metadata": {},
   "outputs": [
    {
     "data": {
      "text/plain": [
       "0.909517940883257"
      ]
     },
     "execution_count": 160,
     "metadata": {},
     "output_type": "execute_result"
    }
   ],
   "source": [
    "# test data predictions\n",
    "# make predictions on validation data\n",
    "y_pred_test = crf.predict(X_test)\n",
    "metrics.flat_f1_score(y_test, y_pred_test,\n",
    "                      average='weighted', labels=labels)"
   ]
  },
  {
   "cell_type": "markdown",
   "metadata": {},
   "source": [
    "### Understanding the CRF Classifier\n",
    "\n",
    "Let's now understand what the classifier has learnt. The method ```crf.transition_features_``` returns a dict of key:value = (label-1, label-2):coef pairs - each key-val pair representing the transition coefficient from label-1 to label-2.\n",
    "\n",
    "The ```Counter``` class from the collections module provides a convenient way of counting and printing the frequency of items (the top-N or bottom counts). Read the <a href=\"https://docs.python.org/2/library/collections.html\">docs of Counter class here.</a>"
   ]
  },
  {
   "cell_type": "code",
   "execution_count": 137,
   "metadata": {},
   "outputs": [],
   "source": [
    "# look up more attributes and methods of sklearn crf\n",
    "# help(crf)"
   ]
  },
  {
   "cell_type": "code",
   "execution_count": 138,
   "metadata": {
    "scrolled": false
   },
   "outputs": [
    {
     "name": "stdout",
     "output_type": "stream",
     "text": [
      "Top likely transitions:\n",
      "B-fromloc.airport_name -> I-fromloc.airport_name 6.139828\n",
      "B-airport_name -> I-airport_name 6.040046\n",
      "B-depart_date.month_name -> B-depart_date.day_number 5.786839\n",
      "B-airline_name -> I-airline_name 5.694494\n",
      "B-arrive_date.month_name -> B-arrive_date.day_number 5.679481\n",
      "B-city_name -> I-city_name 5.639162\n",
      "B-toloc.airport_name -> I-toloc.airport_name 5.543314\n",
      "B-fromloc.city_name -> I-fromloc.city_name 5.271730\n",
      "B-flight_time -> I-flight_time 5.235649\n",
      "B-stoploc.city_name -> I-stoploc.city_name 5.072771\n",
      "B-toloc.city_name -> I-toloc.city_name 4.924069\n",
      "I-fromloc.airport_name -> I-fromloc.airport_name 4.912550\n",
      "I-depart_date.today_relative -> I-depart_date.today_relative 4.905395\n",
      "B-depart_time.time_relative -> B-depart_time.time 4.724515\n",
      "B-depart_date.day_number -> I-depart_date.day_number 4.704134\n",
      "B-depart_time.time -> I-depart_time.time 4.514564\n",
      "B-depart_time.end_time -> I-depart_time.end_time 4.491012\n",
      "I-flight_time -> I-flight_time 4.480120\n",
      "B-arrive_time.end_time -> I-arrive_time.end_time 4.478821\n",
      "I-city_name -> I-city_name 4.478231\n",
      "\n",
      "Top unlikely transitions:\n",
      "B-arrive_date.date_relative -> B-depart_date.day_name -1.387490\n",
      "B-depart_date.day_name -> B-arrive_date.month_name -1.397373\n",
      "O      -> B-or    -1.403786\n",
      "B-depart_date.day_name -> B-arrive_time.period_of_day -1.416080\n",
      "O      -> I-depart_date.today_relative -1.417489\n",
      "B-toloc.city_name -> I-fromloc.city_name -1.475582\n",
      "B-toloc.city_name -> B-or    -1.537920\n",
      "B-depart_time.time_relative -> B-arrive_time.time -1.604171\n",
      "O      -> I-fromloc.airport_name -1.640295\n",
      "I-arrive_time.time -> B-depart_date.date_relative -1.685604\n",
      "B-toloc.city_name -> I-toloc.airport_name -1.695908\n",
      "B-arrive_time.time -> I-depart_time.time -1.743275\n",
      "O      -> I-city_name -1.802009\n",
      "O      -> I-toloc.city_name -1.802546\n",
      "B-arrive_date.day_name -> B-depart_time.period_of_day -1.824814\n",
      "B-depart_time.time -> I-arrive_time.time -1.910633\n",
      "B-arrive_time.time_relative -> B-depart_time.time -2.051462\n",
      "B-depart_date.day_name -> B-arrive_time.time_relative -2.068858\n",
      "O      -> I-flight_time -2.250896\n",
      "O      -> I-airline_name -2.659119\n"
     ]
    }
   ],
   "source": [
    "from collections import Counter\n",
    "\n",
    "def print_transitions(trans_features):\n",
    "    for (label_from, label_to), weight in trans_features:\n",
    "        print(\"%-6s -> %-7s %0.6f\" % (label_from, label_to, weight))\n",
    "\n",
    "print(\"Top likely transitions:\")\n",
    "print_transitions(Counter(crf.transition_features_).most_common(20))\n",
    "\n",
    "print(\"\\nTop unlikely transitions:\")\n",
    "print_transitions(Counter(crf.transition_features_).most_common()[-20:])"
   ]
  },
  {
   "cell_type": "markdown",
   "metadata": {},
   "source": [
    "The results show that the transitions ```B-fromloc.airport_name -> I-fromloc.airport_name```, ```B-depart_date.month_name -> B-depart_date.day_number``` are very likely. You can also see the unlikely transitions.\n",
    "\n",
    "We can also see the most useful (discriminative) features."
   ]
  },
  {
   "cell_type": "code",
   "execution_count": 140,
   "metadata": {},
   "outputs": [
    {
     "name": "stdout",
     "output_type": "stream",
     "text": [
      "Top positive:\n",
      "5.297233 B-fromloc.city_name prevword:from\n",
      "5.104957 B-arrive_time.time_relative prevword:arriving\n",
      "5.059366 B-arrive_time.time_relative prevword:arrive\n",
      "4.949039 B-toloc.state_name word_is_state\n",
      "4.017096 B-depart_time.start_time prevword:between\n",
      "3.841796 B-stoploc.city_name prevword:through\n",
      "3.826135 B-fromloc.city_name prevword:leaving\n",
      "3.819081 O        pos:DT\n",
      "3.725986 I-depart_date.day_number prevword:twenty\n",
      "3.703128 B-toloc.city_name prevword:into\n",
      "3.588173 B-arrive_time.start_time prevword:between\n",
      "3.566806 B-fromloc.airport_name prevword:from\n",
      "3.506935 B-fromloc.city_name prevword:between\n",
      "3.481669 B-fromloc.city_name prevword:leave\n",
      "3.457800 B-stoploc.city_name prevword:via\n",
      "3.419583 B-toloc.city_name prevword:for\n",
      "3.369874 B-flight_number prevword:flight\n",
      "3.310759 B-toloc.city_name prevword:downtown\n",
      "3.298952 B-city_name prevword:serve\n",
      "3.286938 B-toloc.city_name prevword:arriving\n",
      "3.281605 B-flight_mod nextword:flight\n",
      "3.273857 O        suff_1:e\n",
      "3.221108 B-fromloc.city_name prevword:depart\n",
      "3.153781 B-toloc.city_name word_is_city\n",
      "3.145663 O        prevword:dinnertime\n",
      "3.141976 B-class_type nextword:class\n",
      "3.116168 B-fromloc.city_name word_is_city\n",
      "3.101636 B-return_date.date_relative prevword:same\n",
      "3.092508 B-mod    nextword:seating\n",
      "3.056442 B-fromloc.state_name word_is_state\n",
      "\n",
      "Top negative:\n",
      "-1.303362 B-fromloc.city_name prevword:for\n",
      "-1.314199 B-arrive_time.time_relative prevword:francisco\n",
      "-1.316259 B-depart_date.day_number nextword:with\n",
      "-1.325397 B-depart_time.time_relative prevword:monday\n",
      "-1.326700 B-toloc.city_name nextword:to\n",
      "-1.326700 B-toloc.city_name nextpos:TO\n",
      "-1.343932 I-fromloc.city_name word_is_state\n",
      "-1.348694 O        suff_2:al\n",
      "-1.384626 B-flight_stop nextpos:IN\n",
      "-1.389035 I-toloc.city_name nextword:for\n",
      "-1.401758 B-toloc.city_name prevpos:VBZ\n",
      "-1.415015 O        nextword:seating\n",
      "-1.431632 B-depart_time.time_relative prevword:newark\n",
      "-1.467101 B-toloc.city_name prevpos:NN\n",
      "-1.485325 O        prevword:on\n",
      "-1.499093 O        suff_3:day\n",
      "-1.553078 B-depart_date.day_name word_is_city\n",
      "-1.605193 B-toloc.city_name prevword:leave\n",
      "-1.652399 O        suff_4:ning\n",
      "-1.709932 B-depart_time.period_of_day prevword:late\n",
      "-1.723074 O        prevword:fly\n",
      "-1.812572 O        suff_2:st\n",
      "-1.905599 O        nextword:day\n",
      "-1.935902 B-fromloc.city_name prevword:at\n",
      "-2.060522 B-arrive_time.time_relative prevpos:VB\n",
      "-2.074255 B-fromloc.city_name prevword:flights\n",
      "-2.221668 O        nextword:than\n",
      "-2.266080 O        prevword:code\n",
      "-2.980735 O        prevword:returning\n",
      "-3.098574 O        word_is_city\n"
     ]
    }
   ],
   "source": [
    "# important features\n",
    "def print_state_features(state_features):\n",
    "    for (attr, label), weight in state_features:\n",
    "        print(\"%0.6f %-8s %s\" % (weight, label, attr))\n",
    "\n",
    "print(\"Top positive:\")\n",
    "print_state_features(Counter(crf.state_features_).most_common(30))\n",
    "\n",
    "print(\"\\nTop negative:\")\n",
    "print_state_features(Counter(crf.state_features_).most_common()[-30:])"
   ]
  },
  {
   "cell_type": "markdown",
   "metadata": {},
   "source": [
    "Now that we have a trained tagger and have looked at the overall metrics, let's zoom in and look at the actual and predicted labels of some sample sentences."
   ]
  },
  {
   "cell_type": "code",
   "execution_count": 141,
   "metadata": {
    "scrolled": false
   },
   "outputs": [
    {
     "name": "stdout",
     "output_type": "stream",
     "text": [
      "what aircraft is used on delta flight DIGITDIGITDIGITDIGIT from kansas city to salt lake city\n"
     ]
    }
   ],
   "source": [
    "# tagging a sample sentence (first validation sentence)\n",
    "i = 0\n",
    "sample_sent = valid_labels[i]\n",
    "print(' '.join(sent2tokens(sample_sent)), end='\\n')"
   ]
  },
  {
   "cell_type": "code",
   "execution_count": 142,
   "metadata": {},
   "outputs": [
    {
     "name": "stdout",
     "output_type": "stream",
     "text": [
      "Predicted: \n",
      " O O O O O B-airline_name O B-flight_number O B-fromloc.city_name I-fromloc.city_name O B-toloc.city_name I-toloc.city_name I-toloc.city_name\n",
      "\n",
      "\n",
      "Correct: \n",
      " O O O O O B-airline_name O B-flight_number O B-fromloc.city_name I-fromloc.city_name O B-toloc.city_name I-toloc.city_name I-toloc.city_name\n"
     ]
    }
   ],
   "source": [
    "# compare the predicted and actual labels for a query\n",
    "print(\"Predicted:\", \"\\n\",' '.join(y_pred[0]))\n",
    "print('\\n')\n",
    "print(\"Correct:\", \"\\n\" ,' '.join(sent2labels(sample_sent)))"
   ]
  },
  {
   "cell_type": "markdown",
   "metadata": {},
   "source": [
    "### Converting Predicted Labels to Trees and Traversing Them\n",
    "\n",
    "Let's now see how we can use the trained model to make predictions on unseen data and extract useful entities from it.\n",
    "\n",
    "Once we predict the labels of a sentence, we want to extract useful entities from it. In the following code, we first append the predicted labels to the (word, pos) sentence to get tuples of (word, pos, predicted_label). Then we convert the list to tree format, as seen earlier, and traverse the tree to extract useful entities. \n",
    "\n"
   ]
  },
  {
   "cell_type": "code",
   "execution_count": 149,
   "metadata": {},
   "outputs": [],
   "source": [
    "# function to create (word, pos_tag, predicted_iob_label) tuples for a given dataset\n",
    "def append_predicted_tags(pos_tagged_data, labels):\n",
    "    iob_labels = []\n",
    "    for sent in list(zip(pos_tagged_data, labels)):\n",
    "        pos = sent[0]\n",
    "        labels = sent[1]\n",
    "        l = list(zip(pos, labels))\n",
    "        tuple_3 = [(word_pos[0], word_pos[1], label) for (word_pos, label) in l]\n",
    "        iob_labels.append(tuple_3)\n",
    "    return iob_labels"
   ]
  },
  {
   "cell_type": "code",
   "execution_count": 151,
   "metadata": {
    "scrolled": true
   },
   "outputs": [
    {
     "data": {
      "text/plain": [
       "[('what', 'WP', 'O'),\n",
       " ('aircraft', 'NN', 'O'),\n",
       " ('is', 'VBZ', 'O'),\n",
       " ('used', 'VBN', 'O'),\n",
       " ('on', 'IN', 'O'),\n",
       " ('delta', 'JJ', 'B-airline_name'),\n",
       " ('flight', 'NN', 'O'),\n",
       " ('DIGITDIGITDIGITDIGIT', 'NNP', 'B-flight_number'),\n",
       " ('from', 'IN', 'O'),\n",
       " ('kansas', 'NNP', 'B-fromloc.city_name'),\n",
       " ('city', 'NN', 'I-fromloc.city_name'),\n",
       " ('to', 'TO', 'O'),\n",
       " ('salt', 'VB', 'B-toloc.city_name'),\n",
       " ('lake', 'JJ', 'I-toloc.city_name'),\n",
       " ('city', 'NN', 'I-toloc.city_name')]"
      ]
     },
     "execution_count": 151,
     "metadata": {},
     "output_type": "execute_result"
    }
   ],
   "source": [
    "# predictions of IOB tags on a sample validation sentence \n",
    "valid_tags = append_predicted_tags(valid_pos, y_pred)\n",
    "valid_tags[0]"
   ]
  },
  {
   "cell_type": "markdown",
   "metadata": {},
   "source": [
    "Now, we can convert the predicted sentence labels to a tree format and traverse the tree to extarct useful entities."
   ]
  },
  {
   "cell_type": "code",
   "execution_count": 152,
   "metadata": {
    "scrolled": false
   },
   "outputs": [
    {
     "name": "stdout",
     "output_type": "stream",
     "text": [
      "(S\n",
      "  what/WP\n",
      "  aircraft/NN\n",
      "  is/VBZ\n",
      "  used/VBN\n",
      "  on/IN\n",
      "  (airline_name delta/JJ)\n",
      "  flight/NN\n",
      "  (flight_number DIGITDIGITDIGITDIGIT/NNP)\n",
      "  from/IN\n",
      "  (fromloc.city_name kansas/NNP city/NN)\n",
      "  to/TO\n",
      "  (toloc.city_name salt/VB lake/JJ city/NN))\n"
     ]
    }
   ],
   "source": [
    "# create a tree using the assigned iob labels\n",
    "valid_trees = [conlltags2tree(sent) for sent in valid_tags]\n",
    "print(valid_trees[0])"
   ]
  },
  {
   "cell_type": "markdown",
   "metadata": {},
   "source": [
    "One can similarly make predictions on the test dataset and store them in tree format."
   ]
  },
  {
   "cell_type": "code",
   "execution_count": 225,
   "metadata": {},
   "outputs": [
    {
     "name": "stdout",
     "output_type": "stream",
     "text": [
      "(S\n",
      "  i/NN\n",
      "  would/MD\n",
      "  like/VB\n",
      "  to/TO\n",
      "  find/VB\n",
      "  a/DT\n",
      "  flight/NN\n",
      "  from/IN\n",
      "  (fromloc.city_name charlotte/NN)\n",
      "  to/TO\n",
      "  (toloc.city_name las/VB vegas/NN)\n",
      "  that/WDT\n",
      "  makes/VBZ\n",
      "  a/DT\n",
      "  stop/NN\n",
      "  in/IN\n",
      "  (stoploc.city_name st./NN louis/NN))\n"
     ]
    }
   ],
   "source": [
    "# append test data predicted tags\n",
    "test_tags = append_predicted_tags(test_pos, y_pred_test)\n",
    "test_trees = [conlltags2tree(sent) for sent in test_tags]\n",
    "print(test_trees[0])"
   ]
  },
  {
   "cell_type": "markdown",
   "metadata": {},
   "source": [
    "### Traversing a Chunked Tree\n",
    "\n",
    "Now that we have labelled the validation and test datasets, let's see how we can traverse the trees. The following code shows a sample predicted validation query and extracts all the 'chunks' from the tree.\n",
    "\n",
    "In NLTK, trees are stored as objects of the ```Tree``` class, and each chunk of a tree is itself a subtree of the ```Tree``` class. Below, we traverse a sample tree, check whether a given object in the tree is an object  ```Tree``` (i.e. a chunk), and prints the *label* and the *leaves* of the chunk subtree."
   ]
  },
  {
   "cell_type": "code",
   "execution_count": 153,
   "metadata": {
    "scrolled": true
   },
   "outputs": [
    {
     "name": "stdout",
     "output_type": "stream",
     "text": [
      "tell me about flights leaving from atlanta and going to charlotte north carolina next monday i need to know about flights that arrive in charlotte between DIGITDIGITDIGIT and DIGITDIGITDIGIT pm \n",
      "\n",
      "fromloc.city_name [('atlanta', 'NN')]\n",
      "toloc.city_name [('charlotte', 'VB')]\n",
      "toloc.state_name [('north', 'JJ'), ('carolina', 'NNS')]\n",
      "depart_date.date_relative [('next', 'IN')]\n",
      "depart_date.day_name [('monday', 'NN')]\n",
      "toloc.city_name [('charlotte', 'NN')]\n",
      "depart_time.start_time [('DIGITDIGITDIGIT', 'NNP')]\n",
      "arrive_time.end_time [('DIGITDIGITDIGIT', 'NNP'), ('pm', 'NN')]\n"
     ]
    }
   ],
   "source": [
    "# choose a random predicted tree\n",
    "i = random.randrange(len(valid_trees))\n",
    "\n",
    "# print the string version of the chosen sentence\n",
    "chunked_tree = valid_trees[i]\n",
    "print(' '.join([id_to_words[val] for val in val_x[i]]), '\\n')\n",
    "\n",
    "# traverse the tree and print labels of subtrees \n",
    "for n in chunked_tree:\n",
    "    if isinstance(n, nltk.tree.Tree):\n",
    "        print(n.label(), n.leaves())"
   ]
  },
  {
   "cell_type": "code",
   "execution_count": 79,
   "metadata": {
    "scrolled": true
   },
   "outputs": [
    {
     "data": {
      "text/plain": [
       "410"
      ]
     },
     "execution_count": 79,
     "metadata": {},
     "output_type": "execute_result"
    }
   ],
   "source": [
    "# correctly parsed complex queries - i= 771, 410, 25, 473, 23, 498, 893, 882, 694\n",
    "# ambiguous queries: not many so far\n",
    "i"
   ]
  },
  {
   "cell_type": "markdown",
   "metadata": {},
   "source": [
    "## Building an Application"
   ]
  },
  {
   "cell_type": "markdown",
   "metadata": {},
   "source": [
    "Now that we can extract the chunks from any given user query, we need to decide which chunks  we actually need for our application and extract only those. \n",
    "\n",
    "Firstly, note that although there are a variety of labels/chunk types, only a few occur in majority of user queries. \n",
    "\n",
    "Secondly, while building an application to make flight reservations, you may be using an API/database to fetch the requested flight data, and the API/database may only provide certain types of information. For e.g. if the API does not provide any info about *meals* in flights, there may be no use extracting the entity ```meal_description```.\n",
    "\n",
    "Let's look at both the variety and frequency of entities. "
   ]
  },
  {
   "cell_type": "code",
   "execution_count": 163,
   "metadata": {},
   "outputs": [],
   "source": [
    "# list all labels of train trees\n",
    "tree_labels = []\n",
    "for tree in train_trees:\n",
    "    for n in tree:\n",
    "        if isinstance(n, nltk.tree.Tree):\n",
    "            tree_labels.append(n.label())"
   ]
  },
  {
   "cell_type": "code",
   "execution_count": 165,
   "metadata": {},
   "outputs": [
    {
     "data": {
      "text/plain": [
       "78"
      ]
     },
     "execution_count": 165,
     "metadata": {},
     "output_type": "execute_result"
    }
   ],
   "source": [
    "# training set has 78 unique labels\n",
    "label_set = set(tree_labels)\n",
    "len(label_set)"
   ]
  },
  {
   "cell_type": "markdown",
   "metadata": {},
   "source": [
    "There are 78 types of labels/entities in the training set (there might be some more in validation / test as well, though not many). Let's now look at the frequency of chunk types."
   ]
  },
  {
   "cell_type": "code",
   "execution_count": 179,
   "metadata": {},
   "outputs": [
    {
     "name": "stdout",
     "output_type": "stream",
     "text": [
      "[('toloc.city_name', 3483),\n",
      " ('fromloc.city_name', 3458),\n",
      " ('depart_date.day_name', 728),\n",
      " ('airline_name', 562),\n",
      " ('depart_time.period_of_day', 457),\n",
      " ('depart_date.day_number', 313),\n",
      " ('depart_date.month_name', 304),\n",
      " ('depart_time.time', 295),\n",
      " ('round_trip', 286),\n",
      " ('cost_relative', 284)]\n"
     ]
    }
   ],
   "source": [
    "# frequency of chunk types/labels\n",
    "c = Counter(tree_labels)\n",
    "pprint.pprint(c.most_common(10))"
   ]
  },
  {
   "cell_type": "markdown",
   "metadata": {
    "scrolled": true
   },
   "source": [
    "The dict above shows the frequency of each chunk type in the training set. As expected, the most frequent ones are ```toloc.city_name```, ```fromloc.city_name```, ```depart_date.day_name``` etc.\n",
    "\n",
    "In the section below, we will extract some common entities from a given sentence and use <a href=\"https://developer.flightstats.com/\">the flightstats API</a> to query flight schedules data. \n",
    "\n",
    "For now, we'll extract only ```fromloc.city_name```, ```toloc.city_name```, ```depart_date.day_name```, ```depart_time.period_of_day```, ```depart_date.day_number```, ```depart_date.month_name```, ```depart_time.time_relative```, ```depart_date.today_relative``` and ```depart_time.time```."
   ]
  },
  {
   "cell_type": "code",
   "execution_count": 339,
   "metadata": {
    "scrolled": false
   },
   "outputs": [
    {
     "name": "stdout",
     "output_type": "stream",
     "text": [
      "what airline is the flight originating in atlanta on november seventh at noon and arriving in san francisco at DIGITDIGITDIGIT pm \n",
      "\n",
      "toloc.city_name [('atlanta', 'NN')]\n",
      "depart_date.month_name [('november', 'JJ')]\n",
      "depart_date.day_number [('seventh', 'NN')]\n",
      "depart_time.time [('noon', 'NN')]\n",
      "toloc.city_name [('san', 'JJ'), ('francisco', 'NN')]\n",
      "depart_time.time [('DIGITDIGITDIGIT', 'NNP'), ('pm', 'NN')]\n"
     ]
    }
   ],
   "source": [
    "# print the string version of the chosen sentence\n",
    "i = random.randrange(len(valid_trees))\n",
    "# i=408\n",
    "chunked_tree = valid_trees[i]\n",
    "print(' '.join([id_to_words[val] for val in val_x[i]]), '\\n')\n",
    "\n",
    "# acceptable labels\n",
    "extract_labels = [\"fromloc.city_name\", \"toloc.city_name\", \"depart_date.day_name\", \n",
    "                 \"depart_time.period_of_day\", \"depart_date.day_number\", \"depart_date.month_name\",\n",
    "                 \"depart_time.time\", \"depart_time.time_relative\", \"depart_date.today_relative\"]\n",
    "\n",
    "# traverse the tree and print labels of subtrees \n",
    "for n in chunked_tree:\n",
    "    if isinstance(n, nltk.tree.Tree) and \\\n",
    "     n.label() in extract_labels:\n",
    "        print(n.label(), n.leaves())"
   ]
  },
  {
   "cell_type": "code",
   "execution_count": 333,
   "metadata": {},
   "outputs": [
    {
     "data": {
      "text/plain": [
       "285"
      ]
     },
     "execution_count": 333,
     "metadata": {},
     "output_type": "execute_result"
    }
   ],
   "source": [
    "# complex queries\n",
    "#i = 637, 255, 285\n",
    "i"
   ]
  },
  {
   "cell_type": "markdown",
   "metadata": {},
   "source": [
    "### Querying Data from FlightStats API \n",
    "\n",
    "We'll use the flightstats API for getting data of flight schedules. <a href=\"https://developer.flightstats.com/api-docs/\">The homepage of flightstats API</a> shows the list of all APIs they provide; we'll use <a href=\"https://developer.flightstats.com/api-docs/scheduledFlights/v1\">the Schedules API</a>."
   ]
  },
  {
   "cell_type": "code",
   "execution_count": 250,
   "metadata": {},
   "outputs": [],
   "source": [
    "# Useful flightstats URLs\n",
    "# https://developer.flightstats.com/api-docs/scheduledFlights/v1\n",
    "# https://developer.flightstats.com/api-docs/\n",
    "# https://developer.flightstats.com/api-docs/how_to"
   ]
  },
  {
   "cell_type": "markdown",
   "metadata": {},
   "source": [
    "The flightstats Schedules API provides multiple API call types (mentioned on <a href=\"https://developer.flightstats.com/api-docs/scheduledFlights/v1\">this page</a>), though we'll only use the following four types:\n",
    "1. from arr_city to dep_city on dep_date\n",
    "2. from arr_city to dep_city on arr_date\n",
    "3. from dep_city on dep_date\n",
    "4. from arr_city on arr_date"
   ]
  },
  {
   "cell_type": "markdown",
   "metadata": {},
   "source": [
    "<img src=\"api.png\">"
   ]
  },
  {
   "cell_type": "markdown",
   "metadata": {},
   "source": [
    "The first step is to sign up and create an app ID and key. The example query below queries the Schedules API to get a list of all flights from airport_code_1 to airport_code_2 departing on a certain date (type 1)."
   ]
  },
  {
   "cell_type": "code",
   "execution_count": 293,
   "metadata": {
    "scrolled": false
   },
   "outputs": [
    {
     "name": "stdout",
     "output_type": "stream",
     "text": [
      "https://api.flightstats.com/flex/schedules/rest/v1/json/from/JFK/to/LAX/departing/2018/7/18?appId=9bed5b33&appKey=d7a448569ce9d0821da4fcc9f371e8cc\n"
     ]
    }
   ],
   "source": [
    "# querying flightstats API \n",
    "app_id = '9bed5b33'\n",
    "app_key = 'd7a448569ce9d0821da4fcc9f371e8cc'\n",
    "\n",
    "base_url = 'https://api.flightstats.com/flex/schedules/rest/v1/json/from/'\n",
    "\n",
    "# {departureAirportCode}/to/{arrivalAirportCode}/departing/{year}/{month}/{day}\n",
    "# JFK in new york to LAX in los angeles\n",
    "# make sure to enter a future date, else no data is returned\n",
    "extended_url = 'JFK/to/LAX/departing/2018/7/18'\n",
    "\n",
    "# credentials\n",
    "creds = '?appId={0}&appKey={1}'.format(app_id, app_key)\n",
    "\n",
    "# complete url\n",
    "url = base_url + extended_url + creds\n",
    "print(url)"
   ]
  },
  {
   "cell_type": "code",
   "execution_count": 282,
   "metadata": {},
   "outputs": [],
   "source": [
    "# request data from the API\n",
    "import requests, json\n",
    "data = requests.get(url).json()"
   ]
  },
  {
   "cell_type": "code",
   "execution_count": 283,
   "metadata": {
    "scrolled": false
   },
   "outputs": [
    {
     "data": {
      "text/plain": [
       "{'carrierFsCode': 'B6',\n",
       " 'flightNumber': '523',\n",
       " 'departureAirportFsCode': 'JFK',\n",
       " 'arrivalAirportFsCode': 'LAX',\n",
       " 'stops': 0,\n",
       " 'departureTerminal': '5',\n",
       " 'arrivalTerminal': '5',\n",
       " 'departureTime': '2018-07-18T12:37:00.000',\n",
       " 'arrivalTime': '2018-07-18T15:35:00.000',\n",
       " 'flightEquipmentIataCode': '32S',\n",
       " 'isCodeshare': False,\n",
       " 'isWetlease': False,\n",
       " 'serviceType': 'J',\n",
       " 'serviceClasses': ['R', 'F', 'J', 'Y'],\n",
       " 'trafficRestrictions': [],\n",
       " 'codeshares': [{'carrierFsCode': 'QR',\n",
       "   'flightNumber': '3907',\n",
       "   'serviceType': 'J',\n",
       "   'serviceClasses': ['R', 'J', 'Y'],\n",
       "   'trafficRestrictions': ['Y'],\n",
       "   'referenceCode': 2079229},\n",
       "  {'carrierFsCode': 'HA',\n",
       "   'flightNumber': '2303',\n",
       "   'serviceType': 'J',\n",
       "   'serviceClasses': ['F', 'J', 'Y'],\n",
       "   'trafficRestrictions': ['X'],\n",
       "   'referenceCode': 10827828},\n",
       "  {'carrierFsCode': 'EY',\n",
       "   'flightNumber': '8292',\n",
       "   'serviceType': 'J',\n",
       "   'serviceClasses': ['J', 'Y'],\n",
       "   'trafficRestrictions': ['G'],\n",
       "   'referenceCode': 10827829}],\n",
       " 'referenceCode': '488-2081230--'}"
      ]
     },
     "execution_count": 283,
     "metadata": {},
     "output_type": "execute_result"
    }
   ],
   "source": [
    "# sample flight details\n",
    "data['scheduledFlights'][1]"
   ]
  },
  {
   "cell_type": "code",
   "execution_count": 253,
   "metadata": {
    "scrolled": true
   },
   "outputs": [
    {
     "data": {
      "text/plain": [
       "162"
      ]
     },
     "execution_count": 253,
     "metadata": {},
     "output_type": "execute_result"
    }
   ],
   "source": [
    "# number of flights returned\n",
    "len(data['scheduledFlights'])"
   ]
  },
  {
   "cell_type": "code",
   "execution_count": null,
   "metadata": {},
   "outputs": [],
   "source": []
  },
  {
   "cell_type": "code",
   "execution_count": null,
   "metadata": {},
   "outputs": [],
   "source": []
  },
  {
   "cell_type": "markdown",
   "metadata": {},
   "source": [
    "The query above uses airport codes to request the data, but our parser extracts the names of cities (san franciso, new york etc.) rather than airport codes. \n",
    "\n",
    "Thus, we need to convert the city names to flightstats airport codes. We can do that using another flightstats API - *airports*, which returns a list of all airports, their codes, and various other attributes."
   ]
  },
  {
   "cell_type": "code",
   "execution_count": 254,
   "metadata": {},
   "outputs": [],
   "source": [
    "# data of all active airports\n",
    "base_url = 'https://api.flightstats.com/flex/airports/rest/v1/json/active/'\n",
    "url = base_url + creds\n",
    "data = requests.get(url)\n",
    "airports = data.json()\n",
    "\n",
    "# convert to df\n",
    "airports_df = pd.DataFrame(airports['airports'])\n",
    "airports_df.to_csv('airports.csv')"
   ]
  },
  {
   "cell_type": "code",
   "execution_count": 255,
   "metadata": {},
   "outputs": [
    {
     "data": {
      "text/html": [
       "<div>\n",
       "<style scoped>\n",
       "    .dataframe tbody tr th:only-of-type {\n",
       "        vertical-align: middle;\n",
       "    }\n",
       "\n",
       "    .dataframe tbody tr th {\n",
       "        vertical-align: top;\n",
       "    }\n",
       "\n",
       "    .dataframe thead th {\n",
       "        text-align: right;\n",
       "    }\n",
       "</style>\n",
       "<table border=\"1\" class=\"dataframe\">\n",
       "  <thead>\n",
       "    <tr style=\"text-align: right;\">\n",
       "      <th></th>\n",
       "      <th>active</th>\n",
       "      <th>city</th>\n",
       "      <th>cityCode</th>\n",
       "      <th>classification</th>\n",
       "      <th>countryCode</th>\n",
       "      <th>countryName</th>\n",
       "      <th>delayIndexUrl</th>\n",
       "      <th>elevationFeet</th>\n",
       "      <th>faa</th>\n",
       "      <th>fs</th>\n",
       "      <th>...</th>\n",
       "      <th>name</th>\n",
       "      <th>postalCode</th>\n",
       "      <th>regionName</th>\n",
       "      <th>stateCode</th>\n",
       "      <th>street1</th>\n",
       "      <th>street2</th>\n",
       "      <th>timeZoneRegionName</th>\n",
       "      <th>utcOffsetHours</th>\n",
       "      <th>weatherUrl</th>\n",
       "      <th>weatherZone</th>\n",
       "    </tr>\n",
       "  </thead>\n",
       "  <tbody>\n",
       "    <tr>\n",
       "      <th>0</th>\n",
       "      <td>True</td>\n",
       "      <td>Bay Springs</td>\n",
       "      <td>NaN</td>\n",
       "      <td>5</td>\n",
       "      <td>US</td>\n",
       "      <td>United States</td>\n",
       "      <td>https://api.flightstats.com/flex/delayindex/re...</td>\n",
       "      <td>351</td>\n",
       "      <td>00M</td>\n",
       "      <td>00M</td>\n",
       "      <td>...</td>\n",
       "      <td>Thigpen</td>\n",
       "      <td>NaN</td>\n",
       "      <td>North America</td>\n",
       "      <td>MS</td>\n",
       "      <td>NaN</td>\n",
       "      <td>NaN</td>\n",
       "      <td>America/Chicago</td>\n",
       "      <td>-5.0</td>\n",
       "      <td>https://api.flightstats.com/flex/weather/rest/...</td>\n",
       "      <td>NaN</td>\n",
       "    </tr>\n",
       "    <tr>\n",
       "      <th>1</th>\n",
       "      <td>True</td>\n",
       "      <td>Bridgeton</td>\n",
       "      <td>NaN</td>\n",
       "      <td>5</td>\n",
       "      <td>US</td>\n",
       "      <td>United States</td>\n",
       "      <td>https://api.flightstats.com/flex/delayindex/re...</td>\n",
       "      <td>105</td>\n",
       "      <td>00N</td>\n",
       "      <td>00N</td>\n",
       "      <td>...</td>\n",
       "      <td>Bucks</td>\n",
       "      <td>NaN</td>\n",
       "      <td>North America</td>\n",
       "      <td>NJ</td>\n",
       "      <td>NaN</td>\n",
       "      <td>NaN</td>\n",
       "      <td>America/New_York</td>\n",
       "      <td>-4.0</td>\n",
       "      <td>https://api.flightstats.com/flex/weather/rest/...</td>\n",
       "      <td>NaN</td>\n",
       "    </tr>\n",
       "    <tr>\n",
       "      <th>2</th>\n",
       "      <td>True</td>\n",
       "      <td>Livingston</td>\n",
       "      <td>NaN</td>\n",
       "      <td>5</td>\n",
       "      <td>US</td>\n",
       "      <td>United States</td>\n",
       "      <td>https://api.flightstats.com/flex/delayindex/re...</td>\n",
       "      <td>151</td>\n",
       "      <td>00R</td>\n",
       "      <td>00R</td>\n",
       "      <td>...</td>\n",
       "      <td>Livingston Municipal</td>\n",
       "      <td>NaN</td>\n",
       "      <td>North America</td>\n",
       "      <td>TX</td>\n",
       "      <td>NaN</td>\n",
       "      <td>NaN</td>\n",
       "      <td>America/Chicago</td>\n",
       "      <td>-5.0</td>\n",
       "      <td>https://api.flightstats.com/flex/weather/rest/...</td>\n",
       "      <td>NaN</td>\n",
       "    </tr>\n",
       "    <tr>\n",
       "      <th>3</th>\n",
       "      <td>True</td>\n",
       "      <td>Mc Kenzie Bridge</td>\n",
       "      <td>NaN</td>\n",
       "      <td>5</td>\n",
       "      <td>US</td>\n",
       "      <td>United States</td>\n",
       "      <td>https://api.flightstats.com/flex/delayindex/re...</td>\n",
       "      <td>1620</td>\n",
       "      <td>00S</td>\n",
       "      <td>00S</td>\n",
       "      <td>...</td>\n",
       "      <td>Mc Kenzie Bridge State</td>\n",
       "      <td>NaN</td>\n",
       "      <td>North America</td>\n",
       "      <td>OR</td>\n",
       "      <td>NaN</td>\n",
       "      <td>NaN</td>\n",
       "      <td>America/Los_Angeles</td>\n",
       "      <td>-7.0</td>\n",
       "      <td>https://api.flightstats.com/flex/weather/rest/...</td>\n",
       "      <td>NaN</td>\n",
       "    </tr>\n",
       "    <tr>\n",
       "      <th>4</th>\n",
       "      <td>True</td>\n",
       "      <td>Colorado Springs</td>\n",
       "      <td>NaN</td>\n",
       "      <td>5</td>\n",
       "      <td>US</td>\n",
       "      <td>United States</td>\n",
       "      <td>https://api.flightstats.com/flex/delayindex/re...</td>\n",
       "      <td>6874</td>\n",
       "      <td>00V</td>\n",
       "      <td>00V</td>\n",
       "      <td>...</td>\n",
       "      <td>Meadow Lake</td>\n",
       "      <td>NaN</td>\n",
       "      <td>North America</td>\n",
       "      <td>CO</td>\n",
       "      <td>NaN</td>\n",
       "      <td>NaN</td>\n",
       "      <td>America/Denver</td>\n",
       "      <td>-6.0</td>\n",
       "      <td>https://api.flightstats.com/flex/weather/rest/...</td>\n",
       "      <td>NaN</td>\n",
       "    </tr>\n",
       "  </tbody>\n",
       "</table>\n",
       "<p>5 rows × 25 columns</p>\n",
       "</div>"
      ],
      "text/plain": [
       "   active              city cityCode  classification countryCode  \\\n",
       "0    True       Bay Springs      NaN               5          US   \n",
       "1    True         Bridgeton      NaN               5          US   \n",
       "2    True        Livingston      NaN               5          US   \n",
       "3    True  Mc Kenzie Bridge      NaN               5          US   \n",
       "4    True  Colorado Springs      NaN               5          US   \n",
       "\n",
       "     countryName                                      delayIndexUrl  \\\n",
       "0  United States  https://api.flightstats.com/flex/delayindex/re...   \n",
       "1  United States  https://api.flightstats.com/flex/delayindex/re...   \n",
       "2  United States  https://api.flightstats.com/flex/delayindex/re...   \n",
       "3  United States  https://api.flightstats.com/flex/delayindex/re...   \n",
       "4  United States  https://api.flightstats.com/flex/delayindex/re...   \n",
       "\n",
       "   elevationFeet  faa   fs     ...                        name postalCode  \\\n",
       "0            351  00M  00M     ...                     Thigpen        NaN   \n",
       "1            105  00N  00N     ...                       Bucks        NaN   \n",
       "2            151  00R  00R     ...        Livingston Municipal        NaN   \n",
       "3           1620  00S  00S     ...      Mc Kenzie Bridge State        NaN   \n",
       "4           6874  00V  00V     ...                 Meadow Lake        NaN   \n",
       "\n",
       "      regionName stateCode  street1 street2   timeZoneRegionName  \\\n",
       "0  North America        MS      NaN     NaN      America/Chicago   \n",
       "1  North America        NJ      NaN     NaN     America/New_York   \n",
       "2  North America        TX      NaN     NaN      America/Chicago   \n",
       "3  North America        OR      NaN     NaN  America/Los_Angeles   \n",
       "4  North America        CO      NaN     NaN       America/Denver   \n",
       "\n",
       "  utcOffsetHours                                         weatherUrl  \\\n",
       "0           -5.0  https://api.flightstats.com/flex/weather/rest/...   \n",
       "1           -4.0  https://api.flightstats.com/flex/weather/rest/...   \n",
       "2           -5.0  https://api.flightstats.com/flex/weather/rest/...   \n",
       "3           -7.0  https://api.flightstats.com/flex/weather/rest/...   \n",
       "4           -6.0  https://api.flightstats.com/flex/weather/rest/...   \n",
       "\n",
       "  weatherZone  \n",
       "0         NaN  \n",
       "1         NaN  \n",
       "2         NaN  \n",
       "3         NaN  \n",
       "4         NaN  \n",
       "\n",
       "[5 rows x 25 columns]"
      ]
     },
     "execution_count": 255,
     "metadata": {},
     "output_type": "execute_result"
    }
   ],
   "source": [
    "airports_df.head()"
   ]
  },
  {
   "cell_type": "code",
   "execution_count": 265,
   "metadata": {
    "scrolled": true
   },
   "outputs": [
    {
     "data": {
      "text/html": [
       "<div>\n",
       "<style scoped>\n",
       "    .dataframe tbody tr th:only-of-type {\n",
       "        vertical-align: middle;\n",
       "    }\n",
       "\n",
       "    .dataframe tbody tr th {\n",
       "        vertical-align: top;\n",
       "    }\n",
       "\n",
       "    .dataframe thead th {\n",
       "        text-align: right;\n",
       "    }\n",
       "</style>\n",
       "<table border=\"1\" class=\"dataframe\">\n",
       "  <thead>\n",
       "    <tr style=\"text-align: right;\">\n",
       "      <th></th>\n",
       "      <th>active</th>\n",
       "      <th>city</th>\n",
       "      <th>cityCode</th>\n",
       "      <th>classification</th>\n",
       "      <th>countryCode</th>\n",
       "      <th>countryName</th>\n",
       "      <th>delayIndexUrl</th>\n",
       "      <th>elevationFeet</th>\n",
       "      <th>faa</th>\n",
       "      <th>fs</th>\n",
       "      <th>...</th>\n",
       "      <th>name</th>\n",
       "      <th>postalCode</th>\n",
       "      <th>regionName</th>\n",
       "      <th>stateCode</th>\n",
       "      <th>street1</th>\n",
       "      <th>street2</th>\n",
       "      <th>timeZoneRegionName</th>\n",
       "      <th>utcOffsetHours</th>\n",
       "      <th>weatherUrl</th>\n",
       "      <th>weatherZone</th>\n",
       "    </tr>\n",
       "  </thead>\n",
       "  <tbody>\n",
       "    <tr>\n",
       "      <th>7526</th>\n",
       "      <td>True</td>\n",
       "      <td>New York</td>\n",
       "      <td>NYC</td>\n",
       "      <td>1</td>\n",
       "      <td>US</td>\n",
       "      <td>United States</td>\n",
       "      <td>https://api.flightstats.com/flex/delayindex/re...</td>\n",
       "      <td>13</td>\n",
       "      <td>JFK</td>\n",
       "      <td>JFK</td>\n",
       "      <td>...</td>\n",
       "      <td>John F. Kennedy International Airport</td>\n",
       "      <td>11430</td>\n",
       "      <td>North America</td>\n",
       "      <td>NY</td>\n",
       "      <td>JFK Airport</td>\n",
       "      <td>NaN</td>\n",
       "      <td>America/New_York</td>\n",
       "      <td>-4.0</td>\n",
       "      <td>https://api.flightstats.com/flex/weather/rest/...</td>\n",
       "      <td>NYZ178</td>\n",
       "    </tr>\n",
       "    <tr>\n",
       "      <th>7637</th>\n",
       "      <td>True</td>\n",
       "      <td>New York</td>\n",
       "      <td>NYC</td>\n",
       "      <td>5</td>\n",
       "      <td>US</td>\n",
       "      <td>United States</td>\n",
       "      <td>https://api.flightstats.com/flex/delayindex/re...</td>\n",
       "      <td>0</td>\n",
       "      <td>NaN</td>\n",
       "      <td>JRE</td>\n",
       "      <td>...</td>\n",
       "      <td>East 60th Street Heliport</td>\n",
       "      <td>NaN</td>\n",
       "      <td>North America</td>\n",
       "      <td>NY</td>\n",
       "      <td>NaN</td>\n",
       "      <td>NaN</td>\n",
       "      <td>America/New_York</td>\n",
       "      <td>-4.0</td>\n",
       "      <td>https://api.flightstats.com/flex/weather/rest/...</td>\n",
       "      <td>NaN</td>\n",
       "    </tr>\n",
       "    <tr>\n",
       "      <th>8202</th>\n",
       "      <td>True</td>\n",
       "      <td>New York</td>\n",
       "      <td>NaN</td>\n",
       "      <td>5</td>\n",
       "      <td>US</td>\n",
       "      <td>United States</td>\n",
       "      <td>https://api.flightstats.com/flex/delayindex/re...</td>\n",
       "      <td>0</td>\n",
       "      <td>JRA</td>\n",
       "      <td>KJRA</td>\n",
       "      <td>...</td>\n",
       "      <td>Port Authority-West 30Th St. Midtown. (Hel</td>\n",
       "      <td>NaN</td>\n",
       "      <td>North America</td>\n",
       "      <td>NY</td>\n",
       "      <td>NaN</td>\n",
       "      <td>NaN</td>\n",
       "      <td>America/New_York</td>\n",
       "      <td>-4.0</td>\n",
       "      <td>https://api.flightstats.com/flex/weather/rest/...</td>\n",
       "      <td>NaN</td>\n",
       "    </tr>\n",
       "    <tr>\n",
       "      <th>8203</th>\n",
       "      <td>True</td>\n",
       "      <td>New York</td>\n",
       "      <td>NaN</td>\n",
       "      <td>5</td>\n",
       "      <td>US</td>\n",
       "      <td>United States</td>\n",
       "      <td>https://api.flightstats.com/flex/delayindex/re...</td>\n",
       "      <td>0</td>\n",
       "      <td>JRB</td>\n",
       "      <td>KJRB</td>\n",
       "      <td>...</td>\n",
       "      <td>Wall St (Heliport)</td>\n",
       "      <td>NaN</td>\n",
       "      <td>North America</td>\n",
       "      <td>NY</td>\n",
       "      <td>NaN</td>\n",
       "      <td>NaN</td>\n",
       "      <td>America/New_York</td>\n",
       "      <td>-4.0</td>\n",
       "      <td>https://api.flightstats.com/flex/weather/rest/...</td>\n",
       "      <td>NaN</td>\n",
       "    </tr>\n",
       "    <tr>\n",
       "      <th>9320</th>\n",
       "      <td>True</td>\n",
       "      <td>New York</td>\n",
       "      <td>NYC</td>\n",
       "      <td>1</td>\n",
       "      <td>US</td>\n",
       "      <td>United States</td>\n",
       "      <td>https://api.flightstats.com/flex/delayindex/re...</td>\n",
       "      <td>22</td>\n",
       "      <td>LGA</td>\n",
       "      <td>LGA</td>\n",
       "      <td>...</td>\n",
       "      <td>LaGuardia Airport</td>\n",
       "      <td>11371</td>\n",
       "      <td>North America</td>\n",
       "      <td>NY</td>\n",
       "      <td>Hangar 7 Center</td>\n",
       "      <td>NaN</td>\n",
       "      <td>America/New_York</td>\n",
       "      <td>-4.0</td>\n",
       "      <td>https://api.flightstats.com/flex/weather/rest/...</td>\n",
       "      <td>NYZ176</td>\n",
       "    </tr>\n",
       "    <tr>\n",
       "      <th>10803</th>\n",
       "      <td>True</td>\n",
       "      <td>New York</td>\n",
       "      <td>NYC</td>\n",
       "      <td>5</td>\n",
       "      <td>US</td>\n",
       "      <td>United States</td>\n",
       "      <td>https://api.flightstats.com/flex/delayindex/re...</td>\n",
       "      <td>0</td>\n",
       "      <td>NaN</td>\n",
       "      <td>NBP</td>\n",
       "      <td>...</td>\n",
       "      <td>Battery Park City/North Cove Sea Plane Base</td>\n",
       "      <td>NaN</td>\n",
       "      <td>North America</td>\n",
       "      <td>NY</td>\n",
       "      <td>NaN</td>\n",
       "      <td>NaN</td>\n",
       "      <td>America/New_York</td>\n",
       "      <td>-4.0</td>\n",
       "      <td>https://api.flightstats.com/flex/weather/rest/...</td>\n",
       "      <td>NaN</td>\n",
       "    </tr>\n",
       "    <tr>\n",
       "      <th>10858</th>\n",
       "      <td>True</td>\n",
       "      <td>New York</td>\n",
       "      <td>NYC</td>\n",
       "      <td>5</td>\n",
       "      <td>US</td>\n",
       "      <td>United States</td>\n",
       "      <td>https://api.flightstats.com/flex/delayindex/re...</td>\n",
       "      <td>0</td>\n",
       "      <td>NaN</td>\n",
       "      <td>NES</td>\n",
       "      <td>...</td>\n",
       "      <td>East 34th Street - Sea Plane Base</td>\n",
       "      <td>NaN</td>\n",
       "      <td>North America</td>\n",
       "      <td>NY</td>\n",
       "      <td>NaN</td>\n",
       "      <td>NaN</td>\n",
       "      <td>America/New_York</td>\n",
       "      <td>-4.0</td>\n",
       "      <td>https://api.flightstats.com/flex/weather/rest/...</td>\n",
       "      <td>NaN</td>\n",
       "    </tr>\n",
       "    <tr>\n",
       "      <th>11095</th>\n",
       "      <td>True</td>\n",
       "      <td>New York</td>\n",
       "      <td>NYC</td>\n",
       "      <td>5</td>\n",
       "      <td>US</td>\n",
       "      <td>United States</td>\n",
       "      <td>https://api.flightstats.com/flex/delayindex/re...</td>\n",
       "      <td>0</td>\n",
       "      <td>NaN</td>\n",
       "      <td>NWS</td>\n",
       "      <td>...</td>\n",
       "      <td>Pier 11-Wall St Sea Plane Base</td>\n",
       "      <td>NaN</td>\n",
       "      <td>North America</td>\n",
       "      <td>NY</td>\n",
       "      <td>NaN</td>\n",
       "      <td>NaN</td>\n",
       "      <td>America/New_York</td>\n",
       "      <td>-4.0</td>\n",
       "      <td>https://api.flightstats.com/flex/weather/rest/...</td>\n",
       "      <td>NaN</td>\n",
       "    </tr>\n",
       "    <tr>\n",
       "      <th>11112</th>\n",
       "      <td>True</td>\n",
       "      <td>New York</td>\n",
       "      <td>NaN</td>\n",
       "      <td>5</td>\n",
       "      <td>US</td>\n",
       "      <td>United States</td>\n",
       "      <td>https://api.flightstats.com/flex/delayindex/re...</td>\n",
       "      <td>0</td>\n",
       "      <td>NaN</td>\n",
       "      <td>NYS</td>\n",
       "      <td>...</td>\n",
       "      <td>New York Skyports Seaplane Base</td>\n",
       "      <td>NaN</td>\n",
       "      <td>North America</td>\n",
       "      <td>NY</td>\n",
       "      <td>NaN</td>\n",
       "      <td>NaN</td>\n",
       "      <td>America/New_York</td>\n",
       "      <td>-4.0</td>\n",
       "      <td>https://api.flightstats.com/flex/weather/rest/...</td>\n",
       "      <td>NaN</td>\n",
       "    </tr>\n",
       "    <tr>\n",
       "      <th>14332</th>\n",
       "      <td>True</td>\n",
       "      <td>New York</td>\n",
       "      <td>NYC</td>\n",
       "      <td>5</td>\n",
       "      <td>US</td>\n",
       "      <td>United States</td>\n",
       "      <td>https://api.flightstats.com/flex/delayindex/re...</td>\n",
       "      <td>0</td>\n",
       "      <td>NaN</td>\n",
       "      <td>TSS</td>\n",
       "      <td>...</td>\n",
       "      <td>East 34th Street Heliport</td>\n",
       "      <td>NaN</td>\n",
       "      <td>North America</td>\n",
       "      <td>NY</td>\n",
       "      <td>NaN</td>\n",
       "      <td>NaN</td>\n",
       "      <td>America/New_York</td>\n",
       "      <td>-4.0</td>\n",
       "      <td>https://api.flightstats.com/flex/weather/rest/...</td>\n",
       "      <td>NaN</td>\n",
       "    </tr>\n",
       "  </tbody>\n",
       "</table>\n",
       "<p>10 rows × 25 columns</p>\n",
       "</div>"
      ],
      "text/plain": [
       "       active      city cityCode  classification countryCode    countryName  \\\n",
       "7526     True  New York      NYC               1          US  United States   \n",
       "7637     True  New York      NYC               5          US  United States   \n",
       "8202     True  New York      NaN               5          US  United States   \n",
       "8203     True  New York      NaN               5          US  United States   \n",
       "9320     True  New York      NYC               1          US  United States   \n",
       "10803    True  New York      NYC               5          US  United States   \n",
       "10858    True  New York      NYC               5          US  United States   \n",
       "11095    True  New York      NYC               5          US  United States   \n",
       "11112    True  New York      NaN               5          US  United States   \n",
       "14332    True  New York      NYC               5          US  United States   \n",
       "\n",
       "                                           delayIndexUrl  elevationFeet  faa  \\\n",
       "7526   https://api.flightstats.com/flex/delayindex/re...             13  JFK   \n",
       "7637   https://api.flightstats.com/flex/delayindex/re...              0  NaN   \n",
       "8202   https://api.flightstats.com/flex/delayindex/re...              0  JRA   \n",
       "8203   https://api.flightstats.com/flex/delayindex/re...              0  JRB   \n",
       "9320   https://api.flightstats.com/flex/delayindex/re...             22  LGA   \n",
       "10803  https://api.flightstats.com/flex/delayindex/re...              0  NaN   \n",
       "10858  https://api.flightstats.com/flex/delayindex/re...              0  NaN   \n",
       "11095  https://api.flightstats.com/flex/delayindex/re...              0  NaN   \n",
       "11112  https://api.flightstats.com/flex/delayindex/re...              0  NaN   \n",
       "14332  https://api.flightstats.com/flex/delayindex/re...              0  NaN   \n",
       "\n",
       "         fs     ...                                             name  \\\n",
       "7526    JFK     ...            John F. Kennedy International Airport   \n",
       "7637    JRE     ...                        East 60th Street Heliport   \n",
       "8202   KJRA     ...       Port Authority-West 30Th St. Midtown. (Hel   \n",
       "8203   KJRB     ...                               Wall St (Heliport)   \n",
       "9320    LGA     ...                                LaGuardia Airport   \n",
       "10803   NBP     ...      Battery Park City/North Cove Sea Plane Base   \n",
       "10858   NES     ...                East 34th Street - Sea Plane Base   \n",
       "11095   NWS     ...                   Pier 11-Wall St Sea Plane Base   \n",
       "11112   NYS     ...                  New York Skyports Seaplane Base   \n",
       "14332   TSS     ...                        East 34th Street Heliport   \n",
       "\n",
       "      postalCode     regionName stateCode          street1 street2  \\\n",
       "7526       11430  North America        NY      JFK Airport     NaN   \n",
       "7637         NaN  North America        NY              NaN     NaN   \n",
       "8202         NaN  North America        NY              NaN     NaN   \n",
       "8203         NaN  North America        NY              NaN     NaN   \n",
       "9320       11371  North America        NY  Hangar 7 Center     NaN   \n",
       "10803        NaN  North America        NY              NaN     NaN   \n",
       "10858        NaN  North America        NY              NaN     NaN   \n",
       "11095        NaN  North America        NY              NaN     NaN   \n",
       "11112        NaN  North America        NY              NaN     NaN   \n",
       "14332        NaN  North America        NY              NaN     NaN   \n",
       "\n",
       "      timeZoneRegionName utcOffsetHours  \\\n",
       "7526    America/New_York           -4.0   \n",
       "7637    America/New_York           -4.0   \n",
       "8202    America/New_York           -4.0   \n",
       "8203    America/New_York           -4.0   \n",
       "9320    America/New_York           -4.0   \n",
       "10803   America/New_York           -4.0   \n",
       "10858   America/New_York           -4.0   \n",
       "11095   America/New_York           -4.0   \n",
       "11112   America/New_York           -4.0   \n",
       "14332   America/New_York           -4.0   \n",
       "\n",
       "                                              weatherUrl weatherZone  \n",
       "7526   https://api.flightstats.com/flex/weather/rest/...      NYZ178  \n",
       "7637   https://api.flightstats.com/flex/weather/rest/...         NaN  \n",
       "8202   https://api.flightstats.com/flex/weather/rest/...         NaN  \n",
       "8203   https://api.flightstats.com/flex/weather/rest/...         NaN  \n",
       "9320   https://api.flightstats.com/flex/weather/rest/...      NYZ176  \n",
       "10803  https://api.flightstats.com/flex/weather/rest/...         NaN  \n",
       "10858  https://api.flightstats.com/flex/weather/rest/...         NaN  \n",
       "11095  https://api.flightstats.com/flex/weather/rest/...         NaN  \n",
       "11112  https://api.flightstats.com/flex/weather/rest/...         NaN  \n",
       "14332  https://api.flightstats.com/flex/weather/rest/...         NaN  \n",
       "\n",
       "[10 rows x 25 columns]"
      ]
     },
     "execution_count": 265,
     "metadata": {},
     "output_type": "execute_result"
    }
   ],
   "source": [
    "# looking up 'new york' in the airports dataframe\n",
    "# fs refers to 'flightstats code' of the airport\n",
    "airports_df[airports_df['city'].str.lower() =='new york']"
   ]
  },
  {
   "cell_type": "markdown",
   "metadata": {},
   "source": [
    "The list above shows that New York has multiple airports and thus airport codes (you can check for other cities such as LA etc.). The main airports, however, have the value classification=1. \n",
    "\n",
    "Let's write a small function which takes in the city name and returns the codes of the main airports."
   ]
  },
  {
   "cell_type": "code",
   "execution_count": 276,
   "metadata": {},
   "outputs": [],
   "source": [
    "# extract main airport codes from city name\n",
    "def city_to_airport_code(city):\n",
    "    df = airports_df[(airports_df['city'].str.lower() == city) & \\\n",
    "                (airports_df['classification'] == 1)]['fs']\n",
    "    return list(df)\n"
   ]
  },
  {
   "cell_type": "code",
   "execution_count": 310,
   "metadata": {},
   "outputs": [
    {
     "name": "stdout",
     "output_type": "stream",
     "text": [
      "['JFK', 'LGA']\n",
      "['BWI']\n",
      "['MDW', 'ORD']\n"
     ]
    }
   ],
   "source": [
    "# samples\n",
    "print(city_to_airport_code(\"new york\"))\n",
    "print(city_to_airport_code(\"baltimore\"))\n",
    "print(city_to_airport_code(\"chicago\"))\n"
   ]
  },
  {
   "cell_type": "markdown",
   "metadata": {},
   "source": [
    "Now, after extracting the source and destination cities (the entities ```fromloc``` and ```toloc```), we can query the API to get the list of flights. We also have to parse the dates to get the year, month and day."
   ]
  },
  {
   "cell_type": "markdown",
   "metadata": {},
   "source": [
    " ### Ignore - Processing a Sample User Generated Query"
   ]
  },
  {
   "cell_type": "code",
   "execution_count": 80,
   "metadata": {
    "scrolled": true
   },
   "outputs": [
    {
     "data": {
      "text/plain": [
       "['O',\n",
       " 'O',\n",
       " 'O',\n",
       " 'O',\n",
       " 'O',\n",
       " 'O',\n",
       " 'O',\n",
       " 'B-fromloc.city_name',\n",
       " 'I-fromloc.city_name',\n",
       " 'O',\n",
       " 'B-toloc.city_name',\n",
       " 'I-toloc.city_name',\n",
       " 'O',\n",
       " 'O',\n",
       " 'B-depart_date.day_name',\n",
       " 'B-depart_time.time_relative',\n",
       " 'B-depart_time.time',\n",
       " 'I-depart_time.time']"
      ]
     },
     "execution_count": 80,
     "metadata": {},
     "output_type": "execute_result"
    }
   ],
   "source": [
    "# sample: predicting a new user generated query\n",
    "s = 'Can you please show me flights from new york to los angeles departing on Monday after DIGIT pm'\n",
    "\n",
    "# tokenize and tag user query and create features for each token\n",
    "def process_user_query(sent_string):\n",
    "    tokens = nltk.word_tokenize(sent_string)\n",
    "    pos_tags = nltk.pos_tag(tokens)\n",
    "    \n",
    "    # create features from words in query q\n",
    "    query_features = [word_features(pos_tags, i) for i in range(len(pos_tags))]      \n",
    "    return(pos_tags, query_features)\n",
    "\n",
    "# generate query features for sentence s\n",
    "query_pos_tags, query_features = process_user_query(s)\n",
    "\n",
    "# predict tags of query\n",
    "predicted_labels = crf.predict([query_features])[0]\n",
    "predicted_labels"
   ]
  },
  {
   "cell_type": "code",
   "execution_count": 81,
   "metadata": {
    "scrolled": true
   },
   "outputs": [
    {
     "name": "stdout",
     "output_type": "stream",
     "text": [
      "fromloc.city_name : new york\n",
      "toloc.city_name : los angeles\n",
      "depart_date.day_name : Monday\n",
      "depart_time.time_relative : after\n",
      "depart_time.time : DIGIT pm\n"
     ]
    }
   ],
   "source": [
    "# convert the predicted labels into standard (token, pos, label) format\n",
    "query_tag_list = [(pos_tag[0], pos_tag[1], label) for pos_tag, label in list(zip(query_pos_tags, predicted_labels))]\n",
    "\n",
    "# convert into tree\n",
    "query_tree = conlltags2tree(query_tag_list)\n",
    "\n",
    "# traverse the tree and print labels of subtrees \n",
    "for n in query_tree:\n",
    "    if isinstance(n, nltk.tree.Tree):\n",
    "        label = n.label()\n",
    "        leaves = ' '.join(i[0] for i in n.leaves())\n",
    "        print(label,':', leaves)"
   ]
  }
 ],
 "metadata": {
  "kernelspec": {
   "display_name": "py36_env",
   "language": "python",
   "name": "py36_env"
  },
  "language_info": {
   "codemirror_mode": {
    "name": "ipython",
    "version": 3
   },
   "file_extension": ".py",
   "mimetype": "text/x-python",
   "name": "python",
   "nbconvert_exporter": "python",
   "pygments_lexer": "ipython3",
   "version": "3.6.5"
  }
 },
 "nbformat": 4,
 "nbformat_minor": 2
}
