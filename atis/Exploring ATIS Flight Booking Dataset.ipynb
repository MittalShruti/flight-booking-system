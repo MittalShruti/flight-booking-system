{
 "cells": [
  {
   "cell_type": "markdown",
   "metadata": {},
   "source": [
    "# ATIS Flight Reservations Dataset\n",
    "\n",
    "Dataset download link: http://lisaweb.iro.umontreal.ca/transfert/lisa/users/mesnilgr/atis/\n",
    "\n",
    "\n"
   ]
  },
  {
   "cell_type": "markdown",
   "metadata": {},
   "source": [
    "## Understanding the Data"
   ]
  },
  {
   "cell_type": "code",
   "execution_count": 104,
   "metadata": {},
   "outputs": [],
   "source": [
    "import numpy as np\n",
    "import pandas as pd\n",
    "import nltk, pprint, os\n",
    "import gzip, os, pickle\n",
    "import matplotlib.pyplot as plt\n",
    "import random"
   ]
  },
  {
   "cell_type": "code",
   "execution_count": 2,
   "metadata": {
    "scrolled": true
   },
   "outputs": [],
   "source": [
    "# read the first part of the dataset\n",
    "# each part (.gz file) contains train, validation and test sets, plus a dict\n",
    "\n",
    "filename = 'atis.fold0.pkl.gz'\n",
    "f = gzip.open(filename, 'rb')\n",
    "try:\n",
    "    train_set, valid_set, test_set, dicts = pickle.load(f, encoding='latin1')\n",
    "except:\n",
    "    train_set, valid_set, test_set, dicts = pickle.load(f)\n"
   ]
  },
  {
   "cell_type": "code",
   "execution_count": 3,
   "metadata": {
    "scrolled": true
   },
   "outputs": [
    {
     "name": "stdout",
     "output_type": "stream",
     "text": [
      "(3, 3983)\n",
      "(3, 995)\n",
      "(3, 893)\n"
     ]
    }
   ],
   "source": [
    "# structure of the component data files\n",
    "print(np.shape(train_set))\n",
    "print(np.shape(valid_set))\n",
    "print(np.shape(test_set))"
   ]
  },
  {
   "cell_type": "code",
   "execution_count": 4,
   "metadata": {},
   "outputs": [
    {
     "name": "stdout",
     "output_type": "stream",
     "text": [
      "3\n",
      "<class 'list'>\n",
      "3983\n"
     ]
    }
   ],
   "source": [
    "# each set is a tuple of length 3, each element being a list \n",
    "print(len(train_set))\n",
    "print(type(train_set[0]))\n",
    "print(len(train_set[0]))\n"
   ]
  },
  {
   "cell_type": "markdown",
   "metadata": {},
   "source": [
    "The first list has 3983 arrays, each array being a sentence. The words are although encoded by numbers (and have to be decoded using the dict provided).\n",
    "\n",
    "Let's store the three lists into separate objects."
   ]
  },
  {
   "cell_type": "code",
   "execution_count": 6,
   "metadata": {},
   "outputs": [],
   "source": [
    "# storing the three elements of the tuple in three objects\n",
    "train_x, _, train_label = train_set\n",
    "val_x, _, val_label = valid_set"
   ]
  },
  {
   "cell_type": "markdown",
   "metadata": {},
   "source": [
    "The first list represents the actual words (encoded), and the third list contains their labels (again, encoded)."
   ]
  },
  {
   "cell_type": "code",
   "execution_count": 8,
   "metadata": {
    "scrolled": false
   },
   "outputs": [
    {
     "data": {
      "text/plain": [
       "array([554, 194, 268,  64,  62,  16,   8, 234, 481,  20,  40,  58, 234,\n",
       "       415, 205])"
      ]
     },
     "execution_count": 8,
     "metadata": {},
     "output_type": "execute_result"
    }
   ],
   "source": [
    "# each list in the tuple is a numpy array (a sentence)\n",
    "# printing first list in the tuple's first element\n",
    "train_x[0]"
   ]
  },
  {
   "cell_type": "code",
   "execution_count": 81,
   "metadata": {},
   "outputs": [
    {
     "data": {
      "text/plain": [
       "array([126, 126, 126,  48, 126,  36,  35, 126, 126,  33, 126, 126, 126,\n",
       "        78, 123])"
      ]
     },
     "execution_count": 81,
     "metadata": {},
     "output_type": "execute_result"
    }
   ],
   "source": [
    "# labels are stored in the third list train_label\n",
    "train_label[0]"
   ]
  },
  {
   "cell_type": "code",
   "execution_count": 29,
   "metadata": {},
   "outputs": [
    {
     "name": "stdout",
     "output_type": "stream",
     "text": [
      "<class 'dict'>\n",
      "dict_keys(['labels2idx', 'tables2idx', 'words2idx'])\n"
     ]
    }
   ],
   "source": [
    "# dicts \n",
    "print(type(dicts))\n",
    "print(dicts.keys())"
   ]
  },
  {
   "cell_type": "code",
   "execution_count": 33,
   "metadata": {
    "scrolled": true
   },
   "outputs": [
    {
     "name": "stdout",
     "output_type": "stream",
     "text": [
      "<class 'dict'>\n",
      "<class 'dict'>\n",
      "<class 'dict'>\n"
     ]
    }
   ],
   "source": [
    "# each key:value pair is itself a dict\n",
    "print(type(dicts['labels2idx']))\n",
    "print(type(dicts['tables2idx']))\n",
    "print(type(dicts['words2idx']))\n"
   ]
  },
  {
   "cell_type": "code",
   "execution_count": 10,
   "metadata": {},
   "outputs": [],
   "source": [
    "# storing labels and words in separate variables\n",
    "words = dicts['words2idx']\n",
    "labels = dicts['labels2idx']\n",
    "tables = dicts['tables2idx']"
   ]
  },
  {
   "cell_type": "code",
   "execution_count": 11,
   "metadata": {
    "scrolled": false
   },
   "outputs": [
    {
     "data": {
      "text/plain": [
       "dict_keys(['all', 'coach', 'cincinnati', 'people', 'month', 'four', 'code', 'go', 'show', 'thursday', 'to', 'restriction', 'dinnertime', 'under', 'sorry', 'include', 'midwest', 'worth', 'southwest', 'me', 'returning', 'far', 'vegas', 'airfare', 'ticket', 'difference', 'arrange', 'tickets', 'louis', 'cheapest', 'list', 'wednesday', 'leave', 'heading', 'ten', 'direct', 'turboprop', 'rate', 'cost', 'quebec', 'layover', 'air', 'what', 'stands', 'chicago', 'schedule', 'transcontinental', 'goes', 'new', 'transportation', 'here', 'hours', 'let', 'twentieth', 'along', 'thrift', 'passengers', 'great', 'thirty', 'canadian', 'leaves', 'alaska', 'leaving', 'amount', 'weekday', 'makes', 'midway', 'montreal', 'via', 'depart', 'county', 'names', 'stand', 'total', 'seventeenth', 'use', 'twa', 'from', 'would', 'abbreviations', 'destination', 'only', 'next', 'live', 'shortest', 'limousine', 'tell', 'today', 'more', 'DIGIT', 'm80', 'downtown', 'train', 'tampa', 'fly', 'f', 'this', 'car', 'anywhere', 'can', 'following', 'making', 'arrive', 'my', 'could', 'give', 'december', 'numbers', 'want', 'DIGITDIGITDIGITDIGITDIGITDIGIT', 'airplane', 'times', 'information', 'tacoma', 'provide', 'travel', 'six', 'dinner', 'located', 'sunday', 'fourth', 'types', 'beach', 'nonstop', 'economy', 'fare', 'okay', 'y', 'may', 'earlier', 'plane', 'ff', 'coming', 'eighth', 'fn', 'las', 'a', 'boeing', 'third', 'departure', 'q', 'so', 'rentals', 'houston', 'serving', 'help', 'september', 'over', 'midnight', 'soon', 'logan', 'through', 'milwaukee', 'still', 'before', 'thirtieth', 'thank', 'fit', 'how', 'trying', 'denver', 'actually', 'late', 'offers', 'listing', 'texas', 'DIGITDIGITDIGITDIGIT', 'then', 'evening', 'return', 'yn', 'lunch', 'wednesdays', 'they', 'arriving', 'now', 'rental', 'day', 'landings', 'february', 'airports', 'name', 'sundays', 'january', 'detroit', 'each', 'meal', 'dulles', 'petersburg', 'thirteenth', 'ea', 'used', 'arrives', 'connect', 'requesting', 'tenth', 'saturday', 'out', 'canada', 'looking', 'arizona', 'cars', 'friday', 'seventh', 'california', 'york', 'bwi', 'ord', 'earliest', 'repeat', 'dc10', 'atl', 'florida', 'days', 'round', 'american', 'afternoon', 'st.', 'first', 'there', 'number', 'one', 'eleventh', 'approximately', 'another', 'tomorrow', '<UNK>', 'city', 'service', 'twenty', 'dfw', 'weekdays', 'least', 'their', 'rates', 'DIGITDIGITDIGIT', 'time', 'too', 'sixteenth', 'that', 'pittsburgh', 'serve', 'july', 'than', 'toronto', 'distance', 'kind', 'b', 'second', 'pennsylvania', 'classes', 'other', 'traveling', 'and', 'charlotte', 'san', 'stopovers', 'boston', 'takeoff', 'say', 'buy', 'rent', 'have', 'need', 'breakfast', 'philly', 'any', 'sa', 'dallas', 'also', 'without', 'take', 'which', 'sure', 'price', 'who', 'serviced', 'most', 'eight', 'landing', 'services', 'america', 'class', 'later', 'm', 'nineteenth', 'salt', 'departing', 'cheap', 'tuesdays', 'find', 'fifth', 'ground', 'snack', 'with', 'explain', 'minnesota', 'should', 'flights', 'going', 'qx', 'carolina', 'do', 'dl', 'get', 'michigan', 'express', 'stop', 'dc', 'international', 'during', 'westchester', 'qw', 'stapleton', 'h', 'morning', 'wish', 'ohio', 'where', 'qo', 'arrival', 'eighteenth', 'up', 'connections', 'see', 'are', 'close', 'yes', 'capacity', 'please', 'smallest', 'various', 'between', 'f28', 'available', 'we', 'august', 's', 'nashville', 'aircraft', 'fifteenth', 'cities', 'jfk', 'both', 'c', 'last', 'many', 'taking', 'la', 'trips', 'april', 'connection', 'baltimore', 'flies', 'co', 'tuesday', 'nonstops', 'tennessee', 'stopover', 'cp', 'november', 'expensive', 'west', 'airlines', 'nationair', 'much', 'define', 'mco', 'flight', 'eastern', 'airplanes', 'lives', 'prices', 'atlanta', 'an', 'those', 'sfo', 'georgia', 'look', 'these', 'originate', 'choices', 'will', 'near', 'itinerary', 'stopping', 'mitchell', 'fourteenth', 'thursdays', 'is', 'it', 'arrangements', 'in', 'seattle', 'if', 'different', 'make', 'airport', 'same', 'northwest', 'ewr', 'twelfth', 'week', 'indianapolis', 'diego', 'takeoffs', 'uses', 'two', 'database', 'i', 'well', 'options', 'costs', 'jersey', 'very', 'the', 'latest', 'taxi', 'just', 'less', 'ninth', 'abbreviation', 'seats', 'love', 'paul', 'jose', 'sixteen', 'lake', 'book', 'ap80', 'fares', 'has', 'march', 'around', 'utah', 'possible', 'early', 'know', 'schedules', 'using', 'like', 'd', 'miami', 'orlando', 'arrivals', 'either', 'night', 'served', 'tower', 'limo', 'seating', 'right', 'saturdays', 'lastest', 'some', 'back', \"'t\", 'serves', 'cleveland', \"'s\", 'transport', 'provided', 'oakland', 'phoenix', 'for', 'noon', 'stops', 'newark', 'does', 'connecting', 'booking', 'be', 'columbus', 'business', 'reaching', 'sixth', 'departures', 'ap57', 'by', 'after', 'on', 'about', 'noontime', 'DIGITDIGIT', 'of', 'dollars', 'burbank', 'angeles', 'carries', 'airline', 'mean', 'or', 'plan', 'colorado', 'united', 'into', 'within', 'washington', 'bound', 'three', 'your', 'guardia', 'ontario', 'area', 'flying', 'philadelphia', 'long', 'continental', 'los', '72s', 'way', 'lowest', 'mornings', 'north', 'offer', 'hp', 'restrictions', 'but', 'hi', 'delta', 'highest', 'memphis', 'fort', 'october', 'type', 'maximum', 'us', \"'re\", 'planes', 'pm', 'ua', 'display', 'originating', 'ac', 'reservations', 'describe', 'am', 'minneapolis', 'general', 'ap', 'as', 'sometime', 'at', 'trip', 'again', 'codes', \"'ll\", 'no', 'when', 'field', 'interested', 'you', 'nw', 'francisco', 'kinds', 'monday', \"o'clock\", 'kansas', 'june', 'lufthansa', 'meaning', \"'d\", 'reservation', \"'m\", 'friends', 'meals', 'land', 'daily', 'departs', 'missouri', 'starting', 'hello'])"
      ]
     },
     "execution_count": 11,
     "metadata": {},
     "output_type": "execute_result"
    }
   ],
   "source": [
    "# each key of words_dict is a word, each value its index\n",
    "words.keys()"
   ]
  },
  {
   "cell_type": "code",
   "execution_count": 29,
   "metadata": {},
   "outputs": [
    {
     "data": {
      "text/plain": [
       "['what',\n",
       " 'flights',\n",
       " 'leave',\n",
       " 'atlanta',\n",
       " 'at',\n",
       " 'about',\n",
       " 'DIGIT',\n",
       " 'in',\n",
       " 'the',\n",
       " 'afternoon',\n",
       " 'and',\n",
       " 'arrive',\n",
       " 'in',\n",
       " 'san',\n",
       " 'francisco']"
      ]
     },
     "execution_count": 29,
     "metadata": {},
     "output_type": "execute_result"
    }
   ],
   "source": [
    "# now, we can map the numeric values v in a sentence with the k,v in the dict\n",
    "# train_x contains the list of training sentences\n",
    "# this is the first sentence\n",
    "[k for val in train_x[0] for k,v in words.items() if v==val]"
   ]
  },
  {
   "cell_type": "code",
   "execution_count": 37,
   "metadata": {},
   "outputs": [
    {
     "data": {
      "text/plain": [
       "['what flights leave atlanta at about DIGIT in the afternoon and arrive in san francisco',\n",
       " 'what is the abbreviation for canadian airlines international',\n",
       " \"i 'd like to know the earliest flight from boston to atlanta\",\n",
       " 'show me the us air flights from atlanta to boston',\n",
       " 'show me the cheapest round trips from dallas to baltimore',\n",
       " \"i 'd like to see all flights from denver to philadelphia\",\n",
       " 'explain fare code qx',\n",
       " \"i 'd like a united airlines flight on wednesday from san francisco to boston\",\n",
       " 'what is the price of american airlines flight DIGITDIGIT from new york to los angeles',\n",
       " 'what does the meal code s stand for',\n",
       " 'what are all flights to denver from philadelphia on sunday',\n",
       " 'what times does the late afternoon flight leave from washington for denver',\n",
       " 'what flights are available monday from san francisco to pittsburgh',\n",
       " 'what airlines have business class',\n",
       " 'flights from atlanta to washington dc',\n",
       " 'from new york to toronto on thursday morning',\n",
       " 'show me all the direct flights from atlanta to baltimore',\n",
       " 'list the flights from new york to miami on a tuesday which are nonstop and cost less than DIGITDIGITDIGIT dollars',\n",
       " 'show me the first flight that arrives in toronto from cincinnati',\n",
       " 'what planes are used by twa',\n",
       " 'please give me the prices for all flights from philadelphia to denver airport next sunday',\n",
       " 'show me all flights from pittsburgh to oakland that arrive after DIGITDIGIT am',\n",
       " 'what is the least expensive flight today from atlanta to san francisco',\n",
       " 'i want a flight from philadelphia to dallas with a stop in atlanta',\n",
       " 'show me the flights from baltimore to philadelphia',\n",
       " 'what airlines fly from st. petersburg to milwaukee and from milwaukee to tacoma',\n",
       " 'please give me the flights from san francisco to washington dc',\n",
       " 'i need a flight delta airlines kansas city to salt lake',\n",
       " 'show me flights going from boston to denver arriving on wednesday morning',\n",
       " 'show me flights leaving from denver colorado to pittsburgh pennsylvania on wednesdays after DIGIT pm']"
      ]
     },
     "execution_count": 37,
     "metadata": {},
     "output_type": "execute_result"
    }
   ],
   "source": [
    "# let's look at the first few sentences\n",
    "sents = []\n",
    "for i in range(30):\n",
    "    sents.append(' '.join([k for val in train_x[i] for k,v in words.items() if v==val]))\n",
    "\n",
    "sents"
   ]
  },
  {
   "cell_type": "code",
   "execution_count": 58,
   "metadata": {
    "scrolled": true
   },
   "outputs": [
    {
     "data": {
      "text/plain": [
       "dict_keys(['B-time_relative', 'B-stoploc.state_code', 'B-depart_date.today_relative', 'B-arrive_date.date_relative', 'B-depart_date.date_relative', 'I-restriction_code', 'B-return_date.month_name', 'I-time', 'B-depart_date.day_name', 'I-arrive_time.end_time', 'B-fromloc.airport_code', 'B-cost_relative', 'B-connect', 'B-return_time.period_mod', 'B-arrive_time.period_mod', 'B-flight_number', 'B-depart_time.time_relative', 'I-toloc.city_name', 'B-arrive_time.period_of_day', 'B-depart_time.period_of_day', 'I-return_date.date_relative', 'I-depart_time.start_time', 'B-fare_amount', 'I-depart_time.time_relative', 'B-city_name', 'B-depart_date.day_number', 'I-meal_description', 'I-depart_date.today_relative', 'I-airport_name', 'I-arrive_date.day_number', 'B-toloc.state_code', 'B-arrive_date.month_name', 'B-stoploc.airport_code', 'I-depart_time.time', 'B-airport_code', 'B-arrive_time.start_time', 'B-period_of_day', 'B-arrive_time.time', 'I-flight_stop', 'B-toloc.state_name', 'B-booking_class', 'I-meal_code', 'B-arrive_time.end_time', 'B-meal', 'B-arrive_time.time_relative', 'B-return_date.day_number', 'I-city_name', 'B-day_name', 'B-or', 'I-flight_mod', 'I-arrive_time.time', 'B-economy', 'B-fromloc.airport_name', 'B-return_date.day_name', 'O', 'B-class_type', 'B-meal_code', 'B-depart_time.time', 'B-return_date.today_relative', 'B-round_trip', 'B-restriction_code', 'B-fare_basis_code', 'I-stoploc.city_name', 'I-fare_basis_code', 'B-flight', 'I-fromloc.airport_name', 'B-compartment', 'B-airline_code', 'B-fromloc.state_name', 'B-flight_stop', 'B-day_number', 'B-flight_mod', 'I-arrive_time.period_of_day', 'B-depart_time.start_time', 'B-today_relative', 'I-arrive_time.time_relative', 'B-arrive_date.day_number', 'I-flight_time', 'B-arrive_date.day_name', 'I-fromloc.state_name', 'B-mod', 'B-depart_date.month_name', 'B-flight_days', 'I-cost_relative', 'B-stoploc.airport_name', 'I-today_relative', 'B-fromloc.city_name', 'B-transport_type', 'B-return_time.period_of_day', 'B-time', 'B-toloc.country_name', 'B-return_date.date_relative', 'I-depart_date.day_number', 'I-transport_type', 'I-fromloc.city_name', 'B-depart_date.year', 'I-return_date.day_number', 'B-flight_time', 'B-toloc.city_name', 'B-depart_time.period_mod', 'I-arrive_time.start_time', 'B-state_code', 'B-airport_name', 'B-stoploc.city_name', 'I-toloc.airport_name', 'B-meal_description', 'I-class_type', 'B-toloc.airport_code', 'I-depart_time.period_of_day', 'I-toloc.state_name', 'B-days_code', 'B-toloc.airport_name', 'B-arrive_date.today_relative', 'I-round_trip', 'I-state_name', 'I-fare_amount', 'B-airline_name', 'I-flight_number', 'I-airline_name', 'B-state_name', 'I-economy', 'B-depart_time.end_time', 'B-aircraft_code', 'I-return_date.today_relative', 'B-month_name', 'B-fromloc.state_code', 'I-depart_time.end_time'])"
      ]
     },
     "execution_count": 58,
     "metadata": {},
     "output_type": "execute_result"
    }
   ],
   "source": [
    "# labels dict contains IOB (inside-out-beginning) labelled entities\n",
    "labels.keys()"
   ]
  },
  {
   "cell_type": "code",
   "execution_count": 87,
   "metadata": {},
   "outputs": [],
   "source": [
    "# converting words_to_id to id_to_words\n",
    "# and labels_to_id to id_to_labels\n",
    "id_to_words = {words[k]:k for k in words}\n",
    "id_to_labels = {labels[k]:k for k in labels}"
   ]
  },
  {
   "cell_type": "code",
   "execution_count": 100,
   "metadata": {
    "scrolled": true
   },
   "outputs": [
    {
     "name": "stdout",
     "output_type": "stream",
     "text": [
      "[('i', 'O'), ('would', 'O'), ('like', 'O'), ('to', 'O'), ('see', 'O'), ('the', 'O'), ('flights', 'O'), ('from', 'O'), ('baltimore', 'B-fromloc.city_name'), ('to', 'O'), ('philadelphia', 'B-toloc.city_name'), ('again', 'O')]\n",
      "\n",
      "\n",
      "[('what', 'O'), ('are', 'O'), ('the', 'O'), ('flights', 'O'), ('from', 'O'), ('nashville', 'B-fromloc.city_name'), ('to', 'O'), ('tacoma', 'B-toloc.city_name'), ('on', 'O'), ('tuesday', 'B-depart_date.day_name'), ('the', 'O'), ('eighteenth', 'B-depart_date.day_number'), ('of', 'O'), ('may', 'B-depart_date.month_name')]\n",
      "\n",
      "\n",
      "[('what', 'O'), ('is', 'O'), ('the', 'O'), ('round', 'B-round_trip'), ('trip', 'I-round_trip'), ('fare', 'O'), ('on', 'O'), ('continental', 'B-airline_name'), ('DIGITDIGITDIGITDIGIT', 'B-flight_number'), ('from', 'O'), ('denver', 'B-fromloc.city_name'), ('to', 'O'), ('san', 'B-toloc.city_name'), ('francisco', 'I-toloc.city_name'), ('and', 'O'), ('return', 'B-round_trip')]\n",
      "\n",
      "\n",
      "[('please', 'O'), ('list', 'O'), ('flights', 'O'), ('between', 'O'), ('denver', 'B-fromloc.city_name'), ('and', 'O'), ('boston', 'B-toloc.city_name')]\n",
      "\n",
      "\n",
      "[('what', 'O'), ('airlines', 'O'), ('fly', 'O'), ('from', 'O'), ('new', 'B-fromloc.city_name'), ('york', 'I-fromloc.city_name'), ('to', 'O'), ('milwaukee', 'B-stoploc.city_name'), ('to', 'O'), ('los', 'B-toloc.city_name'), ('angeles', 'I-toloc.city_name')]\n",
      "\n",
      "\n",
      "[('i', 'O'), ('want', 'O'), ('to', 'O'), ('go', 'O'), ('from', 'O'), ('boston', 'B-fromloc.city_name'), ('to', 'O'), ('oakland', 'B-toloc.city_name'), ('on', 'O'), ('united', 'B-airline_name'), ('and', 'O'), ('leave', 'O'), ('at', 'O'), ('DIGITDIGITDIGIT', 'B-depart_time.time'), ('am', 'I-depart_time.time'), ('which', 'O'), ('flight', 'O'), ('should', 'O'), ('i', 'O'), ('take', 'O')]\n",
      "\n",
      "\n",
      "[('flights', 'O'), ('from', 'O'), ('phoenix', 'B-fromloc.city_name'), ('to', 'O'), ('milwaukee', 'B-toloc.city_name')]\n",
      "\n",
      "\n",
      "[('show', 'O'), ('flights', 'O'), ('from', 'O'), ('pittsburgh', 'B-fromloc.city_name'), ('to', 'O'), ('oakland', 'B-toloc.city_name')]\n",
      "\n",
      "\n",
      "[('give', 'O'), ('me', 'O'), ('the', 'O'), ('one', 'B-round_trip'), ('way', 'I-round_trip'), ('flights', 'O'), ('from', 'O'), ('pittsburgh', 'B-fromloc.city_name'), ('to', 'O'), ('boston', 'B-toloc.city_name')]\n",
      "\n",
      "\n",
      "[('could', 'O'), ('i', 'O'), ('have', 'O'), ('the', 'O'), ('flights', 'O'), ('from', 'O'), ('newark', 'B-fromloc.city_name'), ('to', 'O'), ('orlando', 'B-toloc.city_name'), ('please', 'O')]\n",
      "\n",
      "\n",
      "[('i', 'O'), ('need', 'O'), ('a', 'O'), ('ticket', 'O'), ('from', 'O'), ('los', 'B-fromloc.city_name'), ('angeles', 'I-fromloc.city_name'), ('to', 'O'), ('charlotte', 'B-toloc.city_name'), ('that', 'O'), ('leaves', 'O'), ('early', 'B-depart_time.period_mod'), ('in', 'O'), ('the', 'O'), ('morning', 'B-depart_time.period_of_day')]\n",
      "\n",
      "\n",
      "[('show', 'O'), ('me', 'O'), ('the', 'O'), ('flight', 'O'), ('from', 'O'), ('detroit', 'B-fromloc.city_name'), ('to', 'O'), ('westchester', 'B-toloc.city_name'), ('county', 'I-toloc.city_name'), ('with', 'O'), ('the', 'O'), ('highest', 'B-cost_relative'), ('one', 'B-round_trip'), ('way', 'I-round_trip'), ('fare', 'O')]\n",
      "\n",
      "\n",
      "[('i', 'O'), ('need', 'O'), ('a', 'O'), ('flight', 'O'), ('from', 'O'), ('philadelphia', 'B-fromloc.city_name'), ('to', 'O'), ('denver', 'B-toloc.city_name'), ('on', 'O'), ('sunday', 'B-depart_date.day_name')]\n",
      "\n",
      "\n",
      "[('i', 'O'), ('would', 'O'), ('like', 'O'), ('to', 'O'), ('make', 'O'), ('a', 'O'), ('one', 'B-round_trip'), ('way', 'I-round_trip'), ('flight', 'O'), ('from', 'O'), ('boston', 'B-fromloc.city_name'), ('to', 'O'), ('atlanta', 'B-toloc.city_name')]\n",
      "\n",
      "\n",
      "[('show', 'O'), ('me', 'O'), ('the', 'O'), ('flights', 'O'), ('from', 'O'), ('san', 'B-fromloc.city_name'), ('diego', 'I-fromloc.city_name'), ('to', 'O'), ('newark', 'B-toloc.city_name')]\n",
      "\n",
      "\n",
      "[('show', 'O'), ('me', 'O'), ('flights', 'O'), ('from', 'O'), ('atlanta', 'B-fromloc.city_name'), ('to', 'O'), ('philadelphia', 'B-toloc.city_name'), ('in', 'O'), ('the', 'O'), ('morning', 'B-depart_time.period_of_day')]\n",
      "\n",
      "\n",
      "[('find', 'O'), ('a', 'O'), ('flight', 'O'), ('between', 'O'), ('denver', 'B-fromloc.city_name'), ('and', 'O'), ('oakland', 'B-toloc.city_name'), ('the', 'O'), ('flight', 'O'), ('should', 'O'), ('leave', 'O'), ('in', 'O'), ('the', 'O'), ('afternoon', 'B-depart_time.period_of_day'), ('and', 'O'), ('arrive', 'O'), ('near', 'B-arrive_time.time_relative'), ('DIGIT', 'B-arrive_time.time'), ('pm', 'I-arrive_time.time'), ('the', 'O'), ('flight', 'O'), ('should', 'O'), ('also', 'O'), ('be', 'O'), ('nonstop', 'B-flight_stop')]\n",
      "\n",
      "\n",
      "[('what', 'O'), ('flights', 'O'), ('from', 'O'), ('washington', 'B-fromloc.city_name'), ('dc', 'B-fromloc.state_code'), ('to', 'O'), ('toronto', 'B-toloc.city_name')]\n",
      "\n",
      "\n",
      "[('us', 'B-airline_name'), ('air', 'I-airline_name'), ('next', 'B-depart_date.date_relative'), ('wednesday', 'B-depart_date.day_name'), ('from', 'O'), ('cleveland', 'B-fromloc.city_name'), ('to', 'O'), ('miami', 'B-toloc.city_name')]\n",
      "\n",
      "\n",
      "[('does', 'O'), ('united', 'B-airline_name'), ('airlines', 'I-airline_name'), ('have', 'O'), ('flights', 'O'), ('between', 'O'), ('boston', 'B-fromloc.city_name'), ('and', 'O'), ('denver', 'B-toloc.city_name')]\n",
      "\n",
      "\n"
     ]
    }
   ],
   "source": [
    "# printing a few randomly chosen sentences and the corresponding labels (tagged entities)\n",
    "\n",
    "for i in random.sample(range(len(train_x)), 20):\n",
    "    w = list(map(lambda x: id_to_words[x], train_x[i]))\n",
    "    l = list(map(lambda x: id_to_labels[x], train_label[i]))\n",
    "    print(list(zip(w, l)))\n",
    "    print('\\n')"
   ]
  },
  {
   "cell_type": "markdown",
   "metadata": {},
   "source": [
    "## Extracting Structured Information\n",
    "\n",
    "Once we have retrieved the named entities in each sentence, we can extract the information in a structured format. Let's first look at all the named entities that we have."
   ]
  },
  {
   "cell_type": "code",
   "execution_count": 101,
   "metadata": {
    "scrolled": true
   },
   "outputs": [
    {
     "data": {
      "text/plain": [
       "dict_keys(['B-time_relative', 'B-stoploc.state_code', 'B-depart_date.today_relative', 'B-arrive_date.date_relative', 'B-depart_date.date_relative', 'I-restriction_code', 'B-return_date.month_name', 'I-time', 'B-depart_date.day_name', 'I-arrive_time.end_time', 'B-fromloc.airport_code', 'B-cost_relative', 'B-connect', 'B-return_time.period_mod', 'B-arrive_time.period_mod', 'B-flight_number', 'B-depart_time.time_relative', 'I-toloc.city_name', 'B-arrive_time.period_of_day', 'B-depart_time.period_of_day', 'I-return_date.date_relative', 'I-depart_time.start_time', 'B-fare_amount', 'I-depart_time.time_relative', 'B-city_name', 'B-depart_date.day_number', 'I-meal_description', 'I-depart_date.today_relative', 'I-airport_name', 'I-arrive_date.day_number', 'B-toloc.state_code', 'B-arrive_date.month_name', 'B-stoploc.airport_code', 'I-depart_time.time', 'B-airport_code', 'B-arrive_time.start_time', 'B-period_of_day', 'B-arrive_time.time', 'I-flight_stop', 'B-toloc.state_name', 'B-booking_class', 'I-meal_code', 'B-arrive_time.end_time', 'B-meal', 'B-arrive_time.time_relative', 'B-return_date.day_number', 'I-city_name', 'B-day_name', 'B-or', 'I-flight_mod', 'I-arrive_time.time', 'B-economy', 'B-fromloc.airport_name', 'B-return_date.day_name', 'O', 'B-class_type', 'B-meal_code', 'B-depart_time.time', 'B-return_date.today_relative', 'B-round_trip', 'B-restriction_code', 'B-fare_basis_code', 'I-stoploc.city_name', 'I-fare_basis_code', 'B-flight', 'I-fromloc.airport_name', 'B-compartment', 'B-airline_code', 'B-fromloc.state_name', 'B-flight_stop', 'B-day_number', 'B-flight_mod', 'I-arrive_time.period_of_day', 'B-depart_time.start_time', 'B-today_relative', 'I-arrive_time.time_relative', 'B-arrive_date.day_number', 'I-flight_time', 'B-arrive_date.day_name', 'I-fromloc.state_name', 'B-mod', 'B-depart_date.month_name', 'B-flight_days', 'I-cost_relative', 'B-stoploc.airport_name', 'I-today_relative', 'B-fromloc.city_name', 'B-transport_type', 'B-return_time.period_of_day', 'B-time', 'B-toloc.country_name', 'B-return_date.date_relative', 'I-depart_date.day_number', 'I-transport_type', 'I-fromloc.city_name', 'B-depart_date.year', 'I-return_date.day_number', 'B-flight_time', 'B-toloc.city_name', 'B-depart_time.period_mod', 'I-arrive_time.start_time', 'B-state_code', 'B-airport_name', 'B-stoploc.city_name', 'I-toloc.airport_name', 'B-meal_description', 'I-class_type', 'B-toloc.airport_code', 'I-depart_time.period_of_day', 'I-toloc.state_name', 'B-days_code', 'B-toloc.airport_name', 'B-arrive_date.today_relative', 'I-round_trip', 'I-state_name', 'I-fare_amount', 'B-airline_name', 'I-flight_number', 'I-airline_name', 'B-state_name', 'I-economy', 'B-depart_time.end_time', 'B-aircraft_code', 'I-return_date.today_relative', 'B-month_name', 'B-fromloc.state_code', 'I-depart_time.end_time'])"
      ]
     },
     "execution_count": 101,
     "metadata": {},
     "output_type": "execute_result"
    }
   ],
   "source": [
    "# list of all named entities\n",
    "labels.keys()"
   ]
  },
  {
   "cell_type": "code",
   "execution_count": 132,
   "metadata": {},
   "outputs": [],
   "source": [
    "# grammar to extract from and to city\n",
    "# note that we need a '+' after city entities to include 'san francisco' type names \n",
    "grammar = r'''\n",
    "        to_frm_city: {<O>?<B-fromloc.city_name><I-fromloc.city_name>*<O>?<B-toloc.city_name><I-toloc.city_name>*} #chunk from_city_to_city'''\n",
    "\n",
    "# define chunk parser\n",
    "cp = nltk.RegexpParser(grammar)"
   ]
  },
  {
   "cell_type": "code",
   "execution_count": 138,
   "metadata": {
    "scrolled": false
   },
   "outputs": [
    {
     "data": {
      "text/plain": [
       "[('i', 'O'),\n",
       " (\"'d\", 'O'),\n",
       " ('like', 'O'),\n",
       " ('a', 'O'),\n",
       " ('flight', 'O'),\n",
       " ('from', 'O'),\n",
       " ('burbank', 'B-fromloc.city_name'),\n",
       " ('to', 'O'),\n",
       " ('tacoma', 'B-toloc.city_name'),\n",
       " ('washington', 'B-toloc.state_name')]"
      ]
     },
     "execution_count": 138,
     "metadata": {},
     "output_type": "execute_result"
    }
   ],
   "source": [
    "# choose a random index from the training sentences\n",
    "w = list(map(lambda x: id_to_words[x], train_x[3786]))\n",
    "l = list(map(lambda x: id_to_labels[x], train_label[3786]))\n",
    "sent = list(zip(w, l))\n",
    "sent"
   ]
  },
  {
   "cell_type": "code",
   "execution_count": 139,
   "metadata": {
    "scrolled": true
   },
   "outputs": [
    {
     "name": "stdout",
     "output_type": "stream",
     "text": [
      "(S\n",
      "  i/O\n",
      "  'd/O\n",
      "  like/O\n",
      "  a/O\n",
      "  flight/O\n",
      "  (to_frm_city\n",
      "    from/O\n",
      "    burbank/B-fromloc.city_name\n",
      "    to/O\n",
      "    tacoma/B-toloc.city_name)\n",
      "  washington/B-toloc.state_name)\n"
     ]
    }
   ],
   "source": [
    "print(cp.parse(sent))"
   ]
  },
  {
   "cell_type": "markdown",
   "metadata": {},
   "source": [
    "Note that since we've not included B-toloc.state_name in our chunk regex, 'washington' is not included, which is a state name. We should thus modify the regex. "
   ]
  },
  {
   "cell_type": "code",
   "execution_count": 143,
   "metadata": {
    "scrolled": true
   },
   "outputs": [
    {
     "name": "stdout",
     "output_type": "stream",
     "text": [
      "(S\n",
      "  i/O\n",
      "  'd/O\n",
      "  like/O\n",
      "  a/O\n",
      "  flight/O\n",
      "  (to_frm_city\n",
      "    from/O\n",
      "    burbank/B-fromloc.city_name\n",
      "    to/O\n",
      "    tacoma/B-toloc.city_name\n",
      "    washington/B-toloc.state_name))\n"
     ]
    }
   ],
   "source": [
    "# adding state names to the regex\n",
    "grammar = r'''\n",
    "        to_frm_city: {<O>?<B-fromloc.city_name><I-fromloc.city_name>*<B-fromloc.state_name>*<O>?<B-toloc.city_name>?<I-toloc.city_name>*<B-toloc.state_name>*} #chunk from_city_to_city'''\n",
    "\n",
    "# define chunk parser\n",
    "cp = nltk.RegexpParser(grammar)\n",
    "print(cp.parse(sent))"
   ]
  },
  {
   "cell_type": "code",
   "execution_count": 174,
   "metadata": {
    "scrolled": false
   },
   "outputs": [
    {
     "name": "stdout",
     "output_type": "stream",
     "text": [
      "(S\n",
      "  list/O\n",
      "  all/O\n",
      "  flights/O\n",
      "  (to_frm_city from/O washington/B-fromloc.city_name)\n",
      "  dc/B-fromloc.state_code\n",
      "  to/O\n",
      "  tampa/B-toloc.city_name\n",
      "  florida/B-toloc.state_name)\n"
     ]
    }
   ],
   "source": [
    "# choose a random index from the training sentences \n",
    "# (run this block multiple times to see some random sentences)\n",
    "\n",
    "i = random.randrange(len(train_x))\n",
    "w = list(map(lambda x: id_to_words[x], train_x[i]))\n",
    "l = list(map(lambda x: id_to_labels[x], train_label[i]))\n",
    "sent = list(zip(w, l))\n",
    "print(cp.parse(sent))"
   ]
  },
  {
   "cell_type": "markdown",
   "metadata": {},
   "source": [
    "Note that we'll still not be able to extract from and to cities from sentences like these - *leaving oakland on july 27th to boston*.\n"
   ]
  },
  {
   "cell_type": "code",
   "execution_count": 150,
   "metadata": {
    "scrolled": false
   },
   "outputs": [
    {
     "name": "stdout",
     "output_type": "stream",
     "text": [
      "(S\n",
      "  on/O\n",
      "  <UNK>/B-airline_name\n",
      "  air/I-airline_name\n",
      "  how/O\n",
      "  many/O\n",
      "  flights/O\n",
      "  (to_frm_city leaving/O oakland/B-fromloc.city_name on/O)\n",
      "  july/B-depart_date.month_name\n",
      "  twenty/B-depart_date.day_number\n",
      "  seventh/I-depart_date.day_number\n",
      "  to/O\n",
      "  boston/B-toloc.city_name\n",
      "  nonstop/B-flight_stop)\n"
     ]
    }
   ],
   "source": [
    "w = list(map(lambda x: id_to_words[x], train_x[3925]))\n",
    "l = list(map(lambda x: id_to_labels[x], train_label[3925]))\n",
    "sent = list(zip(w, l))\n",
    "print(cp.parse(sent))"
   ]
  },
  {
   "cell_type": "markdown",
   "metadata": {},
   "source": [
    "Also, some queries specify stopover cities, such as this."
   ]
  },
  {
   "cell_type": "code",
   "execution_count": 160,
   "metadata": {},
   "outputs": [
    {
     "name": "stdout",
     "output_type": "stream",
     "text": [
      "(S\n",
      "  is/O\n",
      "  there/O\n",
      "  a/O\n",
      "  flight/O\n",
      "  (to_frm_city\n",
      "    between/O\n",
      "    oakland/B-fromloc.city_name\n",
      "    and/O\n",
      "    boston/B-toloc.city_name)\n",
      "  with/O\n",
      "  a/O\n",
      "  stopover/O\n",
      "  in/O\n",
      "  dallas/B-stoploc.city_name\n",
      "  fort/I-stoploc.city_name\n",
      "  worth/I-stoploc.city_name\n",
      "  on/O\n",
      "  twa/B-airline_code)\n"
     ]
    }
   ],
   "source": [
    "w = list(map(lambda x: id_to_words[x], train_x[3443]))\n",
    "l = list(map(lambda x: id_to_labels[x], train_label[3443]))\n",
    "sent = list(zip(w, l))\n",
    "print(cp.parse(sent))"
   ]
  }
 ],
 "metadata": {
  "kernelspec": {
   "display_name": "Python 3",
   "language": "python",
   "name": "python3"
  },
  "language_info": {
   "codemirror_mode": {
    "name": "ipython",
    "version": 3
   },
   "file_extension": ".py",
   "mimetype": "text/x-python",
   "name": "python",
   "nbconvert_exporter": "python",
   "pygments_lexer": "ipython3",
   "version": "3.6.4"
  }
 },
 "nbformat": 4,
 "nbformat_minor": 2
}
